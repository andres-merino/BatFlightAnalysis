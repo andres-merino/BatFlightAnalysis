{
 "cells": [
  {
   "cell_type": "markdown",
   "metadata": {},
   "source": [
    "# BatFlightVisualization3D-compare"
   ]
  },
  {
   "cell_type": "markdown",
   "metadata": {},
   "source": [
    "## Paquetes"
   ]
  },
  {
   "cell_type": "code",
   "execution_count": 35,
   "metadata": {},
   "outputs": [],
   "source": [
    "import pandas as pd\n",
    "import numpy as np\n",
    "\n",
    "import plotly.graph_objects as go\n",
    "from matplotlib import cm, colors\n",
    "\n",
    "from BatFlightAnalysis import read_data, split_data, animate_flower_bat"
   ]
  },
  {
   "cell_type": "markdown",
   "metadata": {},
   "source": [
    "## Código"
   ]
  },
  {
   "cell_type": "code",
   "execution_count": 48,
   "metadata": {},
   "outputs": [],
   "source": [
    "def plot_flower_bat(individuo, whiskers, pedicelo):\n",
    "    # Crear el gráfico 3D interactivo fuera del bucle\n",
    "    fig = go.Figure()\n",
    "\n",
    "    # Generar una paleta de 20 colores usando una escala continua (ej. Viridis)\n",
    "    num_trayectorias = 20\n",
    "    colormap = cm.get_cmap(\"viridis\", num_trayectorias)\n",
    "    colores = [colors.rgb2hex(colormap(i)) for i in range(colormap.N)]\n",
    "\n",
    "    # Punto de referencia para iniciar todas las trayectorias\n",
    "    punto_referencia = [0, 0, 0]\n",
    "\n",
    "    # Inicializar valores mínimos y máximos para los ejes\n",
    "    x_min, x_max = float('inf'), float('-inf')\n",
    "    y_min, y_max = float('inf'), float('-inf')\n",
    "    z_min, z_max = float('inf'), float('-inf')\n",
    "\n",
    "    # Añadir el punto de inicio\n",
    "    fig.add_trace(go.Scatter3d(\n",
    "        x=[0], y=[0], z=[0],\n",
    "        mode='markers', marker=dict(size=5, color='red'),\n",
    "        name=f'Flor'\n",
    "    ))\n",
    "\n",
    "    # Inicio 1 si pedicelo Flexible, 2 si pedicelo Estable\n",
    "    inicio = {'Flexible': 2, 'Estable': 1}[pedicelo]\n",
    "\n",
    "    for i in range(inicio, num_trayectorias + 1, 2):  # Cambia el rango según la cantidad de trayectorias\n",
    "        # print(f'Procesando vuelo {i}')\n",
    "        data_bef, data_fee, data_aft = read_data(f'data/Individuo {individuo}/{whiskers}/output_points_{i}.xlsx')\n",
    "        flower_bef, flower_fee, flower_aft, bat_bef, bat_fee, bat_aft = split_data(data_bef, data_fee, data_aft)\n",
    "        df = flower_fee.copy()\n",
    "\n",
    "        # Transformar la trayectoria para que inicie en el punto de referencia\n",
    "        offset = [df['x'].iloc[0], df['y'].iloc[0], df['z'].iloc[0]]\n",
    "        df['x'] -= offset[0]\n",
    "        df['y'] -= offset[1]\n",
    "        df['z'] -= offset[2]\n",
    "\n",
    "        # Actualizar valores mínimos y máximos\n",
    "        x_min, x_max = min(x_min, df['x'].min()), max(x_max, df['x'].max())\n",
    "        y_min, y_max = min(y_min, df['y'].min()), max(y_max, df['y'].max())\n",
    "        z_min, z_max = min(z_min, df['z'].min()), max(z_max, df['z'].max())\n",
    "\n",
    "        # Asignar un color diferente basado en la paleta generada\n",
    "        color = colores[i - 1]\n",
    "\n",
    "        # Añadir la trayectoria con todos los puntos menos el último en línea entrecortada\n",
    "        fig.add_trace(go.Scatter3d(\n",
    "            x=df['x'][:-1], y=df['y'][:-1], z=df['z'][:-1],\n",
    "            mode='lines', line=dict(width=2, dash='dash', color=color),\n",
    "            name=f'Vuelo {i}'\n",
    "        ))\n",
    "\n",
    "    # Configurar el diseño del gráfico usando los valores min y max\n",
    "    fig.update_layout(\n",
    "        scene=dict(\n",
    "            xaxis=dict(showticklabels=False, tickmode=\"linear\", dtick=10, range=[x_min - 5, x_max + 5], backgroundcolor=\"lightblue\", gridwidth=0.5),\n",
    "            yaxis=dict(showticklabels=False, tickmode=\"linear\", dtick=10, range=[y_min - 5, y_max + 5], backgroundcolor=\"lightblue\", gridwidth=0.5),\n",
    "            zaxis=dict(showticklabels=False, tickmode=\"linear\", dtick=10, range=[z_min - 5, z_max + 5], backgroundcolor=\"lightblue\", gridwidth=0.5)\n",
    "        ),\n",
    "        title=f'Trayectoria {whiskers} - {pedicelo} - Individuo {individuo}',\n",
    "    )\n",
    "\n",
    "    # Configurar la cámara para que salga cuadrado y alejado de los puntos\n",
    "    camera = dict(\n",
    "        eye=dict(x=1.5, y=1.5, z=1.5)\n",
    "    )\n",
    "    fig.update_layout(scene_camera=camera) \n",
    "    fig.show()"
   ]
  },
  {
   "cell_type": "code",
   "execution_count": 49,
   "metadata": {},
   "outputs": [
    {
     "data": {
      "application/vnd.plotly.v1+json": {
       "config": {
        "plotlyServerURL": "https://plot.ly"
       },
       "data": [
        {
         "marker": {
          "color": "red",
          "size": 5
         },
         "mode": "markers",
         "name": "Flor",
         "type": "scatter3d",
         "x": [
          0
         ],
         "y": [
          0
         ],
         "z": [
          0
         ]
        },
        {
         "line": {
          "color": "#481467",
          "dash": "dash",
          "width": 2
         },
         "mode": "lines",
         "name": "Vuelo 2",
         "type": "scatter3d",
         "x": [
          0,
          -1,
          -3,
          -10,
          -10,
          -15,
          -21,
          -22,
          -24,
          -25,
          -25,
          -26,
          -27,
          -31,
          -33,
          -31,
          -32,
          -28,
          -25,
          -20,
          -15,
          -9,
          -5,
          4,
          10,
          7
         ],
         "y": [
          0,
          1,
          -6,
          -1,
          5,
          7,
          8,
          21,
          25,
          23,
          12,
          16,
          24,
          25,
          13,
          16,
          26,
          24,
          18,
          7,
          20,
          41,
          37,
          19,
          12,
          9
         ],
         "z": [
          0,
          -6,
          -9,
          -32,
          -45,
          -59,
          -77,
          -89,
          -97,
          -110,
          -114,
          -128,
          -133,
          -134,
          -138,
          -145,
          -147,
          -139,
          -129,
          -117,
          -113,
          -95,
          -96,
          -88,
          -78,
          -58
         ]
        },
        {
         "line": {
          "color": "#453781",
          "dash": "dash",
          "width": 2
         },
         "mode": "lines",
         "name": "Vuelo 4",
         "type": "scatter3d",
         "x": [
          0,
          1,
          -3,
          -11,
          -24,
          -32,
          -36,
          -42,
          -48,
          -49
         ],
         "y": [
          0,
          2,
          3,
          3,
          2,
          14,
          14,
          6,
          12,
          18
         ],
         "z": [
          0,
          -6,
          -24,
          -34,
          -60,
          -68,
          -88,
          -108,
          -115,
          -117
         ]
        },
        {
         "line": {
          "color": "#39558c",
          "dash": "dash",
          "width": 2
         },
         "mode": "lines",
         "name": "Vuelo 6",
         "type": "scatter3d",
         "x": [
          0,
          -4,
          -8,
          -11,
          -16,
          -24,
          -29,
          -37,
          -49,
          -55,
          -61,
          -67,
          -67,
          -69,
          -68,
          -66,
          -59,
          -56,
          -47,
          -36
         ],
         "y": [
          0,
          -5,
          -3,
          0,
          11,
          13,
          21,
          18,
          14,
          20,
          23,
          19,
          21,
          26,
          25,
          22,
          26,
          30,
          27,
          23
         ],
         "z": [
          0,
          -7,
          -19,
          -29,
          -45,
          -56,
          -85,
          -99,
          -129,
          -134,
          -145,
          -154,
          -171,
          -172,
          -170,
          -173,
          -173,
          -171,
          -167,
          -165
         ]
        },
        {
         "line": {
          "color": "#2d718e",
          "dash": "dash",
          "width": 2
         },
         "mode": "lines",
         "name": "Vuelo 8",
         "type": "scatter3d",
         "x": [
          0,
          -4,
          -4,
          -12,
          -13,
          -16,
          -16,
          -20,
          -17,
          -22,
          -20,
          -22,
          -22,
          -28,
          -31,
          -36,
          -36,
          -41,
          -43,
          -49,
          -52,
          -59,
          -66,
          -70,
          -70,
          -72,
          -71,
          -69,
          -66
         ],
         "y": [
          0,
          6,
          4,
          1,
          11,
          16,
          21,
          18,
          25,
          27,
          29,
          21,
          27,
          28,
          26,
          17,
          28,
          35,
          22,
          13,
          21,
          25,
          22,
          16,
          18,
          19,
          21,
          11,
          19
         ],
         "z": [
          0,
          -10,
          -14,
          -45,
          -59,
          -75,
          -79,
          -89,
          -105,
          -113,
          -119,
          -125,
          -140,
          -140,
          -155,
          -162,
          -169,
          -170,
          -172,
          -173,
          -171,
          -170,
          -167,
          -170,
          -174,
          -167,
          -161,
          -149,
          -149
         ]
        },
        {
         "line": {
          "color": "#238a8d",
          "dash": "dash",
          "width": 2
         },
         "mode": "lines",
         "name": "Vuelo 10",
         "type": "scatter3d",
         "x": [
          0,
          0,
          -2,
          -8,
          -10,
          -17,
          -17,
          -21,
          -23,
          -25,
          -29,
          -31,
          -33,
          -32,
          -33,
          -34,
          -33,
          -32,
          -33,
          -32,
          -31,
          -30,
          -31,
          -28,
          -28,
          -24,
          -22,
          -21,
          -18,
          -16,
          -13,
          -15,
          -10,
          -6,
          2
         ],
         "y": [
          0,
          -11,
          -3,
          2,
          5,
          12,
          22,
          20,
          18,
          19,
          22,
          24,
          21,
          26,
          29,
          26,
          25,
          28,
          27,
          26,
          27,
          29,
          28,
          25,
          19,
          30,
          31,
          31,
          26,
          26,
          31,
          29,
          30,
          25,
          34
         ],
         "z": [
          0,
          -1,
          -11,
          -21,
          -43,
          -59,
          -81,
          -91,
          -112,
          -124,
          -139,
          -143,
          -159,
          -160,
          -168,
          -173,
          -176,
          -178,
          -180,
          -181,
          -176,
          -177,
          -178,
          -173,
          -166,
          -165,
          -164,
          -163,
          -159,
          -157,
          -162,
          -159,
          -160,
          -161,
          -168
         ]
        },
        {
         "line": {
          "color": "#20a386",
          "dash": "dash",
          "width": 2
         },
         "mode": "lines",
         "name": "Vuelo 12",
         "type": "scatter3d",
         "x": [
          0,
          3,
          1,
          -5,
          -6,
          -9,
          -13,
          -10,
          -14,
          -16,
          -20,
          -19,
          -22,
          -20,
          -19,
          -19,
          -14,
          -10,
          -2,
          4,
          4
         ],
         "y": [
          0,
          2,
          4,
          10,
          25,
          26,
          27,
          32,
          34,
          33,
          33,
          39,
          43,
          37,
          41,
          48,
          40,
          41,
          38,
          32,
          45
         ],
         "z": [
          0,
          -1,
          -14,
          -22,
          -55,
          -65,
          -89,
          -104,
          -115,
          -128,
          -148,
          -151,
          -160,
          -163,
          -175,
          -173,
          -174,
          -170,
          -160,
          -150,
          -153
         ]
        },
        {
         "line": {
          "color": "#3dbc74",
          "dash": "dash",
          "width": 2
         },
         "mode": "lines",
         "name": "Vuelo 14",
         "type": "scatter3d",
         "x": [
          0,
          -6,
          -14,
          -16,
          -22,
          -30,
          -37,
          -42,
          -51,
          -54,
          -54,
          -55,
          -54,
          -51,
          -41,
          -33,
          -22
         ],
         "y": [
          0,
          -5,
          -5,
          -1,
          0,
          -2,
          7,
          12,
          13,
          7,
          11,
          16,
          6,
          9,
          16,
          22,
          14
         ],
         "z": [
          0,
          -3,
          -15,
          -26,
          -36,
          -40,
          -60,
          -69,
          -78,
          -86,
          -91,
          -94,
          -94,
          -97,
          -100,
          -104,
          -103
         ]
        },
        {
         "line": {
          "color": "#75d054",
          "dash": "dash",
          "width": 2
         },
         "mode": "lines",
         "name": "Vuelo 16",
         "type": "scatter3d",
         "x": [
          0,
          -1,
          -9,
          -13,
          -20,
          -25,
          -30,
          -35,
          -41,
          -44,
          -46,
          -45,
          -44,
          -34
         ],
         "y": [
          0,
          -4,
          -6,
          0,
          6,
          7,
          8,
          15,
          21,
          14,
          13,
          20,
          20,
          28
         ],
         "z": [
          0,
          -1,
          -15,
          -24.5,
          -34,
          -43.5,
          -53,
          -64,
          -79,
          -98,
          -117,
          -121,
          -137,
          -149
         ]
        },
        {
         "line": {
          "color": "#bade28",
          "dash": "dash",
          "width": 2
         },
         "mode": "lines",
         "name": "Vuelo 18",
         "type": "scatter3d",
         "x": [
          0,
          -1,
          -8,
          -15,
          -19,
          -27,
          -35,
          -39,
          -46,
          -53,
          -57,
          -63,
          -67,
          -72,
          -72,
          -73,
          -74,
          -70,
          -69,
          -67,
          -65,
          -58,
          -54,
          -51,
          -46,
          -39,
          -38,
          -32,
          -26,
          -19,
          -14,
          -13,
          -9
         ],
         "y": [
          0,
          -3,
          -9,
          0,
          9,
          5,
          3,
          2,
          2,
          0,
          4,
          5,
          7,
          4,
          5,
          7,
          5,
          4,
          7,
          5,
          9,
          8,
          13,
          15,
          11,
          7,
          15,
          21,
          26,
          23,
          13,
          10,
          21
         ],
         "z": [
          0,
          -5,
          -15,
          -19,
          -34,
          -43,
          -52,
          -64,
          -76,
          -78,
          -93,
          -97,
          -100,
          -107,
          -115,
          -111,
          -116,
          -117,
          -122,
          -123,
          -121,
          -121,
          -122,
          -118,
          -116,
          -115,
          -115,
          -117,
          -121,
          -121,
          -117,
          -119,
          -117
         ]
        },
        {
         "line": {
          "color": "#fde725",
          "dash": "dash",
          "width": 2
         },
         "mode": "lines",
         "name": "Vuelo 20",
         "type": "scatter3d",
         "x": [
          0,
          0,
          -5,
          -15,
          -19,
          -28,
          -36,
          -40,
          -46,
          -47,
          -53,
          -55,
          -57,
          -58,
          -57,
          -60,
          -56,
          -55,
          -50,
          -44,
          -36,
          -16
         ],
         "y": [
          0,
          -5,
          -8,
          2,
          11,
          17,
          17,
          21,
          25,
          24,
          23,
          26,
          25,
          24,
          22,
          26,
          28,
          27,
          25,
          25,
          22,
          34
         ],
         "z": [
          0,
          -2,
          -9,
          -19,
          -45,
          -72,
          -82,
          -106,
          -114,
          -127,
          -137,
          -138,
          -144,
          -139,
          -147,
          -143,
          -146,
          -146,
          -139,
          -135,
          -135,
          -131
         ]
        }
       ],
       "layout": {
        "scene": {
         "camera": {
          "eye": {
           "x": 1.5,
           "y": 1.5,
           "z": 1.5
          }
         },
         "xaxis": {
          "backgroundcolor": "lightblue",
          "dtick": 10,
          "gridwidth": 0.5,
          "range": [
           -79,
           23
          ],
          "showticklabels": false,
          "tickmode": "linear"
         },
         "yaxis": {
          "backgroundcolor": "lightblue",
          "dtick": 10,
          "gridwidth": 0.5,
          "range": [
           -16,
           59
          ],
          "showticklabels": false,
          "tickmode": "linear"
         },
         "zaxis": {
          "backgroundcolor": "lightblue",
          "dtick": 10,
          "gridwidth": 0.5,
          "range": [
           -186,
           5
          ],
          "showticklabels": false,
          "tickmode": "linear"
         }
        },
        "template": {
         "data": {
          "bar": [
           {
            "error_x": {
             "color": "#2a3f5f"
            },
            "error_y": {
             "color": "#2a3f5f"
            },
            "marker": {
             "line": {
              "color": "#E5ECF6",
              "width": 0.5
             },
             "pattern": {
              "fillmode": "overlay",
              "size": 10,
              "solidity": 0.2
             }
            },
            "type": "bar"
           }
          ],
          "barpolar": [
           {
            "marker": {
             "line": {
              "color": "#E5ECF6",
              "width": 0.5
             },
             "pattern": {
              "fillmode": "overlay",
              "size": 10,
              "solidity": 0.2
             }
            },
            "type": "barpolar"
           }
          ],
          "carpet": [
           {
            "aaxis": {
             "endlinecolor": "#2a3f5f",
             "gridcolor": "white",
             "linecolor": "white",
             "minorgridcolor": "white",
             "startlinecolor": "#2a3f5f"
            },
            "baxis": {
             "endlinecolor": "#2a3f5f",
             "gridcolor": "white",
             "linecolor": "white",
             "minorgridcolor": "white",
             "startlinecolor": "#2a3f5f"
            },
            "type": "carpet"
           }
          ],
          "choropleth": [
           {
            "colorbar": {
             "outlinewidth": 0,
             "ticks": ""
            },
            "type": "choropleth"
           }
          ],
          "contour": [
           {
            "colorbar": {
             "outlinewidth": 0,
             "ticks": ""
            },
            "colorscale": [
             [
              0,
              "#0d0887"
             ],
             [
              0.1111111111111111,
              "#46039f"
             ],
             [
              0.2222222222222222,
              "#7201a8"
             ],
             [
              0.3333333333333333,
              "#9c179e"
             ],
             [
              0.4444444444444444,
              "#bd3786"
             ],
             [
              0.5555555555555556,
              "#d8576b"
             ],
             [
              0.6666666666666666,
              "#ed7953"
             ],
             [
              0.7777777777777778,
              "#fb9f3a"
             ],
             [
              0.8888888888888888,
              "#fdca26"
             ],
             [
              1,
              "#f0f921"
             ]
            ],
            "type": "contour"
           }
          ],
          "contourcarpet": [
           {
            "colorbar": {
             "outlinewidth": 0,
             "ticks": ""
            },
            "type": "contourcarpet"
           }
          ],
          "heatmap": [
           {
            "colorbar": {
             "outlinewidth": 0,
             "ticks": ""
            },
            "colorscale": [
             [
              0,
              "#0d0887"
             ],
             [
              0.1111111111111111,
              "#46039f"
             ],
             [
              0.2222222222222222,
              "#7201a8"
             ],
             [
              0.3333333333333333,
              "#9c179e"
             ],
             [
              0.4444444444444444,
              "#bd3786"
             ],
             [
              0.5555555555555556,
              "#d8576b"
             ],
             [
              0.6666666666666666,
              "#ed7953"
             ],
             [
              0.7777777777777778,
              "#fb9f3a"
             ],
             [
              0.8888888888888888,
              "#fdca26"
             ],
             [
              1,
              "#f0f921"
             ]
            ],
            "type": "heatmap"
           }
          ],
          "heatmapgl": [
           {
            "colorbar": {
             "outlinewidth": 0,
             "ticks": ""
            },
            "colorscale": [
             [
              0,
              "#0d0887"
             ],
             [
              0.1111111111111111,
              "#46039f"
             ],
             [
              0.2222222222222222,
              "#7201a8"
             ],
             [
              0.3333333333333333,
              "#9c179e"
             ],
             [
              0.4444444444444444,
              "#bd3786"
             ],
             [
              0.5555555555555556,
              "#d8576b"
             ],
             [
              0.6666666666666666,
              "#ed7953"
             ],
             [
              0.7777777777777778,
              "#fb9f3a"
             ],
             [
              0.8888888888888888,
              "#fdca26"
             ],
             [
              1,
              "#f0f921"
             ]
            ],
            "type": "heatmapgl"
           }
          ],
          "histogram": [
           {
            "marker": {
             "pattern": {
              "fillmode": "overlay",
              "size": 10,
              "solidity": 0.2
             }
            },
            "type": "histogram"
           }
          ],
          "histogram2d": [
           {
            "colorbar": {
             "outlinewidth": 0,
             "ticks": ""
            },
            "colorscale": [
             [
              0,
              "#0d0887"
             ],
             [
              0.1111111111111111,
              "#46039f"
             ],
             [
              0.2222222222222222,
              "#7201a8"
             ],
             [
              0.3333333333333333,
              "#9c179e"
             ],
             [
              0.4444444444444444,
              "#bd3786"
             ],
             [
              0.5555555555555556,
              "#d8576b"
             ],
             [
              0.6666666666666666,
              "#ed7953"
             ],
             [
              0.7777777777777778,
              "#fb9f3a"
             ],
             [
              0.8888888888888888,
              "#fdca26"
             ],
             [
              1,
              "#f0f921"
             ]
            ],
            "type": "histogram2d"
           }
          ],
          "histogram2dcontour": [
           {
            "colorbar": {
             "outlinewidth": 0,
             "ticks": ""
            },
            "colorscale": [
             [
              0,
              "#0d0887"
             ],
             [
              0.1111111111111111,
              "#46039f"
             ],
             [
              0.2222222222222222,
              "#7201a8"
             ],
             [
              0.3333333333333333,
              "#9c179e"
             ],
             [
              0.4444444444444444,
              "#bd3786"
             ],
             [
              0.5555555555555556,
              "#d8576b"
             ],
             [
              0.6666666666666666,
              "#ed7953"
             ],
             [
              0.7777777777777778,
              "#fb9f3a"
             ],
             [
              0.8888888888888888,
              "#fdca26"
             ],
             [
              1,
              "#f0f921"
             ]
            ],
            "type": "histogram2dcontour"
           }
          ],
          "mesh3d": [
           {
            "colorbar": {
             "outlinewidth": 0,
             "ticks": ""
            },
            "type": "mesh3d"
           }
          ],
          "parcoords": [
           {
            "line": {
             "colorbar": {
              "outlinewidth": 0,
              "ticks": ""
             }
            },
            "type": "parcoords"
           }
          ],
          "pie": [
           {
            "automargin": true,
            "type": "pie"
           }
          ],
          "scatter": [
           {
            "fillpattern": {
             "fillmode": "overlay",
             "size": 10,
             "solidity": 0.2
            },
            "type": "scatter"
           }
          ],
          "scatter3d": [
           {
            "line": {
             "colorbar": {
              "outlinewidth": 0,
              "ticks": ""
             }
            },
            "marker": {
             "colorbar": {
              "outlinewidth": 0,
              "ticks": ""
             }
            },
            "type": "scatter3d"
           }
          ],
          "scattercarpet": [
           {
            "marker": {
             "colorbar": {
              "outlinewidth": 0,
              "ticks": ""
             }
            },
            "type": "scattercarpet"
           }
          ],
          "scattergeo": [
           {
            "marker": {
             "colorbar": {
              "outlinewidth": 0,
              "ticks": ""
             }
            },
            "type": "scattergeo"
           }
          ],
          "scattergl": [
           {
            "marker": {
             "colorbar": {
              "outlinewidth": 0,
              "ticks": ""
             }
            },
            "type": "scattergl"
           }
          ],
          "scattermapbox": [
           {
            "marker": {
             "colorbar": {
              "outlinewidth": 0,
              "ticks": ""
             }
            },
            "type": "scattermapbox"
           }
          ],
          "scatterpolar": [
           {
            "marker": {
             "colorbar": {
              "outlinewidth": 0,
              "ticks": ""
             }
            },
            "type": "scatterpolar"
           }
          ],
          "scatterpolargl": [
           {
            "marker": {
             "colorbar": {
              "outlinewidth": 0,
              "ticks": ""
             }
            },
            "type": "scatterpolargl"
           }
          ],
          "scatterternary": [
           {
            "marker": {
             "colorbar": {
              "outlinewidth": 0,
              "ticks": ""
             }
            },
            "type": "scatterternary"
           }
          ],
          "surface": [
           {
            "colorbar": {
             "outlinewidth": 0,
             "ticks": ""
            },
            "colorscale": [
             [
              0,
              "#0d0887"
             ],
             [
              0.1111111111111111,
              "#46039f"
             ],
             [
              0.2222222222222222,
              "#7201a8"
             ],
             [
              0.3333333333333333,
              "#9c179e"
             ],
             [
              0.4444444444444444,
              "#bd3786"
             ],
             [
              0.5555555555555556,
              "#d8576b"
             ],
             [
              0.6666666666666666,
              "#ed7953"
             ],
             [
              0.7777777777777778,
              "#fb9f3a"
             ],
             [
              0.8888888888888888,
              "#fdca26"
             ],
             [
              1,
              "#f0f921"
             ]
            ],
            "type": "surface"
           }
          ],
          "table": [
           {
            "cells": {
             "fill": {
              "color": "#EBF0F8"
             },
             "line": {
              "color": "white"
             }
            },
            "header": {
             "fill": {
              "color": "#C8D4E3"
             },
             "line": {
              "color": "white"
             }
            },
            "type": "table"
           }
          ]
         },
         "layout": {
          "annotationdefaults": {
           "arrowcolor": "#2a3f5f",
           "arrowhead": 0,
           "arrowwidth": 1
          },
          "autotypenumbers": "strict",
          "coloraxis": {
           "colorbar": {
            "outlinewidth": 0,
            "ticks": ""
           }
          },
          "colorscale": {
           "diverging": [
            [
             0,
             "#8e0152"
            ],
            [
             0.1,
             "#c51b7d"
            ],
            [
             0.2,
             "#de77ae"
            ],
            [
             0.3,
             "#f1b6da"
            ],
            [
             0.4,
             "#fde0ef"
            ],
            [
             0.5,
             "#f7f7f7"
            ],
            [
             0.6,
             "#e6f5d0"
            ],
            [
             0.7,
             "#b8e186"
            ],
            [
             0.8,
             "#7fbc41"
            ],
            [
             0.9,
             "#4d9221"
            ],
            [
             1,
             "#276419"
            ]
           ],
           "sequential": [
            [
             0,
             "#0d0887"
            ],
            [
             0.1111111111111111,
             "#46039f"
            ],
            [
             0.2222222222222222,
             "#7201a8"
            ],
            [
             0.3333333333333333,
             "#9c179e"
            ],
            [
             0.4444444444444444,
             "#bd3786"
            ],
            [
             0.5555555555555556,
             "#d8576b"
            ],
            [
             0.6666666666666666,
             "#ed7953"
            ],
            [
             0.7777777777777778,
             "#fb9f3a"
            ],
            [
             0.8888888888888888,
             "#fdca26"
            ],
            [
             1,
             "#f0f921"
            ]
           ],
           "sequentialminus": [
            [
             0,
             "#0d0887"
            ],
            [
             0.1111111111111111,
             "#46039f"
            ],
            [
             0.2222222222222222,
             "#7201a8"
            ],
            [
             0.3333333333333333,
             "#9c179e"
            ],
            [
             0.4444444444444444,
             "#bd3786"
            ],
            [
             0.5555555555555556,
             "#d8576b"
            ],
            [
             0.6666666666666666,
             "#ed7953"
            ],
            [
             0.7777777777777778,
             "#fb9f3a"
            ],
            [
             0.8888888888888888,
             "#fdca26"
            ],
            [
             1,
             "#f0f921"
            ]
           ]
          },
          "colorway": [
           "#636efa",
           "#EF553B",
           "#00cc96",
           "#ab63fa",
           "#FFA15A",
           "#19d3f3",
           "#FF6692",
           "#B6E880",
           "#FF97FF",
           "#FECB52"
          ],
          "font": {
           "color": "#2a3f5f"
          },
          "geo": {
           "bgcolor": "white",
           "lakecolor": "white",
           "landcolor": "#E5ECF6",
           "showlakes": true,
           "showland": true,
           "subunitcolor": "white"
          },
          "hoverlabel": {
           "align": "left"
          },
          "hovermode": "closest",
          "mapbox": {
           "style": "light"
          },
          "paper_bgcolor": "white",
          "plot_bgcolor": "#E5ECF6",
          "polar": {
           "angularaxis": {
            "gridcolor": "white",
            "linecolor": "white",
            "ticks": ""
           },
           "bgcolor": "#E5ECF6",
           "radialaxis": {
            "gridcolor": "white",
            "linecolor": "white",
            "ticks": ""
           }
          },
          "scene": {
           "xaxis": {
            "backgroundcolor": "#E5ECF6",
            "gridcolor": "white",
            "gridwidth": 2,
            "linecolor": "white",
            "showbackground": true,
            "ticks": "",
            "zerolinecolor": "white"
           },
           "yaxis": {
            "backgroundcolor": "#E5ECF6",
            "gridcolor": "white",
            "gridwidth": 2,
            "linecolor": "white",
            "showbackground": true,
            "ticks": "",
            "zerolinecolor": "white"
           },
           "zaxis": {
            "backgroundcolor": "#E5ECF6",
            "gridcolor": "white",
            "gridwidth": 2,
            "linecolor": "white",
            "showbackground": true,
            "ticks": "",
            "zerolinecolor": "white"
           }
          },
          "shapedefaults": {
           "line": {
            "color": "#2a3f5f"
           }
          },
          "ternary": {
           "aaxis": {
            "gridcolor": "white",
            "linecolor": "white",
            "ticks": ""
           },
           "baxis": {
            "gridcolor": "white",
            "linecolor": "white",
            "ticks": ""
           },
           "bgcolor": "#E5ECF6",
           "caxis": {
            "gridcolor": "white",
            "linecolor": "white",
            "ticks": ""
           }
          },
          "title": {
           "x": 0.05
          },
          "xaxis": {
           "automargin": true,
           "gridcolor": "white",
           "linecolor": "white",
           "ticks": "",
           "title": {
            "standoff": 15
           },
           "zerolinecolor": "white",
           "zerolinewidth": 2
          },
          "yaxis": {
           "automargin": true,
           "gridcolor": "white",
           "linecolor": "white",
           "ticks": "",
           "title": {
            "standoff": 15
           },
           "zerolinecolor": "white",
           "zerolinewidth": 2
          }
         }
        },
        "title": {
         "text": "Trayectoria Whiskers - Flexible - Individuo 7"
        }
       }
      }
     },
     "metadata": {},
     "output_type": "display_data"
    },
    {
     "data": {
      "application/vnd.plotly.v1+json": {
       "config": {
        "plotlyServerURL": "https://plot.ly"
       },
       "data": [
        {
         "marker": {
          "color": "red",
          "size": 5
         },
         "mode": "markers",
         "name": "Flor",
         "type": "scatter3d",
         "x": [
          0
         ],
         "y": [
          0
         ],
         "z": [
          0
         ]
        },
        {
         "line": {
          "color": "#481467",
          "dash": "dash",
          "width": 2
         },
         "mode": "lines",
         "name": "Vuelo 2",
         "type": "scatter3d",
         "x": [
          0,
          -3,
          -26,
          -26,
          -33,
          -36,
          -42,
          -48,
          -54,
          -55,
          -59,
          -64,
          -67,
          -67,
          -69,
          -70,
          -68,
          -66,
          -65,
          -65,
          -60,
          -52
         ],
         "y": [
          0,
          -11,
          -8,
          -8,
          8,
          19,
          23,
          19,
          20,
          22,
          22,
          17,
          22,
          25,
          26,
          18,
          20,
          20,
          22,
          23,
          18,
          27
         ],
         "z": [
          0,
          1,
          -9,
          -31.5,
          -54,
          -78,
          -88,
          -102,
          -111,
          -121,
          -123,
          -131,
          -137,
          -143,
          -144,
          -142,
          -145,
          -148,
          -147,
          -143,
          -135,
          -135
         ]
        },
        {
         "line": {
          "color": "#453781",
          "dash": "dash",
          "width": 2
         },
         "mode": "lines",
         "name": "Vuelo 4",
         "type": "scatter3d",
         "x": [
          0,
          -3,
          -9,
          -16,
          -23,
          -29,
          -34,
          -37,
          -40,
          -40,
          -40,
          -37,
          -35,
          -32,
          -26,
          -21,
          -16,
          -11,
          -10,
          -8,
          -7,
          -6,
          -8,
          -11,
          -12,
          -22,
          -21,
          -22
         ],
         "y": [
          0,
          -10,
          -13,
          -20,
          -18,
          -8,
          -2,
          -1,
          -2,
          6,
          12,
          18,
          21,
          28,
          27,
          29,
          27,
          32,
          32,
          34,
          27,
          28,
          29,
          32,
          29,
          24,
          31,
          38
         ],
         "z": [
          0,
          -3,
          -3,
          -17,
          -23,
          -42.5,
          -62,
          -86,
          -92,
          -112,
          -118,
          -128,
          -131,
          -136,
          -137,
          -136,
          -135,
          -133,
          -132,
          -129,
          -130,
          -131,
          -133,
          -130,
          -133,
          -129,
          -135,
          -126
         ]
        },
        {
         "line": {
          "color": "#39558c",
          "dash": "dash",
          "width": 2
         },
         "mode": "lines",
         "name": "Vuelo 6",
         "type": "scatter3d",
         "x": [
          0,
          -1,
          -7,
          -9,
          -17,
          -21,
          -24,
          -26,
          -28,
          -31,
          -30,
          -34,
          -36,
          -37,
          -39,
          -41,
          -40,
          -40,
          -41,
          -42,
          -44,
          -42,
          -41,
          -40,
          -37,
          -34
         ],
         "y": [
          0,
          -11,
          -14,
          -11,
          -1,
          10,
          18,
          22,
          20,
          22,
          18,
          14,
          19,
          22,
          17,
          15,
          16,
          19,
          20,
          18,
          15,
          21,
          22,
          22,
          22,
          26
         ],
         "z": [
          0,
          -5,
          -13,
          -42,
          -47,
          -62,
          -69,
          -83,
          -92,
          -96,
          -98,
          -105,
          -114,
          -121,
          -123,
          -126,
          -129,
          -135,
          -141,
          -137,
          -137,
          -137,
          -140,
          -142,
          -138,
          -133
         ]
        },
        {
         "line": {
          "color": "#2d718e",
          "dash": "dash",
          "width": 2
         },
         "mode": "lines",
         "name": "Vuelo 8",
         "type": "scatter3d",
         "x": [
          0,
          -2,
          -2,
          -1,
          -4,
          -6,
          -11,
          -13,
          -20,
          -25,
          -36,
          -40,
          -45,
          -50,
          -55,
          -63,
          -70,
          -75,
          -81,
          -86,
          -90,
          -90,
          -88,
          -82,
          -78,
          -68,
          -59,
          -54,
          -46,
          -38,
          -35,
          -34,
          -28,
          -29,
          -27,
          -28,
          -26,
          -31,
          -31,
          -34,
          -35,
          -41,
          -40,
          -46,
          -47,
          -46,
          -48,
          -50,
          -46,
          -44
         ],
         "y": [
          0,
          4,
          14,
          20,
          25,
          28,
          35,
          37,
          39,
          44,
          41,
          40,
          33,
          24,
          21,
          20,
          10,
          12,
          12,
          15,
          17,
          23,
          20,
          23,
          25,
          23,
          23,
          22,
          19,
          30,
          39,
          45,
          49,
          52,
          56,
          58,
          53,
          56,
          61,
          60,
          59,
          56,
          56,
          46,
          48,
          59,
          66,
          61,
          46,
          46
         ],
         "z": [
          0,
          -12,
          -18,
          -31,
          -40,
          -52,
          -58,
          -57,
          -57,
          -54,
          -61,
          -53,
          -54,
          -49,
          -48,
          -42,
          -43,
          -45,
          -42,
          -46,
          -45,
          -48,
          -46,
          -49,
          -48,
          -48,
          -55,
          -62,
          -82.5,
          -103,
          -116,
          -129,
          -142,
          -159,
          -167,
          -171,
          -175,
          -184,
          -182,
          -181,
          -177,
          -171,
          -166,
          -167,
          -165,
          -157,
          -155,
          -145,
          -141,
          -131
         ]
        },
        {
         "line": {
          "color": "#238a8d",
          "dash": "dash",
          "width": 2
         },
         "mode": "lines",
         "name": "Vuelo 10",
         "type": "scatter3d",
         "x": [
          0,
          -10,
          -17,
          -30,
          -40,
          -44,
          -53,
          -57,
          -60,
          -60,
          -60,
          -58,
          -61,
          -59,
          -54,
          -49,
          -42,
          -37,
          -29,
          -28,
          -24,
          -20,
          -18,
          -18,
          -16,
          -17,
          -15,
          -10,
          -3,
          2,
          5,
          13,
          26,
          31,
          39,
          44,
          45,
          51,
          50,
          52,
          47,
          43,
          39,
          36,
          30
         ],
         "y": [
          0,
          -15,
          -22,
          -25,
          -21,
          -12,
          -12,
          -13,
          -12,
          -12,
          -11,
          -11,
          -1,
          5,
          7,
          7,
          6,
          11,
          9,
          7,
          9,
          17,
          19,
          20,
          19,
          26,
          26,
          24,
          23,
          23,
          24,
          14,
          10,
          4,
          2,
          4,
          5,
          2,
          -1,
          2,
          1,
          7,
          9,
          12,
          17
         ],
         "z": [
          0,
          -8,
          -15,
          -31.5,
          -48,
          -65,
          -72,
          -91,
          -97,
          -111,
          -114,
          -120,
          -126,
          -127,
          -129,
          -128,
          -132,
          -126,
          -121,
          -120,
          -121,
          -122,
          -117,
          -119,
          -116,
          -111,
          -96,
          -86,
          -58,
          -50,
          -43,
          -41,
          -36,
          -32,
          -31,
          -33,
          -50,
          -49,
          -58,
          -58,
          -65,
          -66,
          -63,
          -65,
          -56
         ]
        },
        {
         "line": {
          "color": "#20a386",
          "dash": "dash",
          "width": 2
         },
         "mode": "lines",
         "name": "Vuelo 12",
         "type": "scatter3d",
         "x": [
          0,
          -5,
          -3,
          -4,
          -6,
          -17,
          -24,
          -30,
          -37,
          -44,
          -51,
          -61,
          -65,
          -71,
          -79,
          -83,
          -83,
          -83,
          -79,
          -77
         ],
         "y": [
          0,
          -3,
          -4,
          -6,
          -7,
          -8,
          -8,
          1,
          5,
          3,
          -3,
          -3,
          3,
          -4,
          -7,
          -6,
          -4,
          -9,
          -14,
          -6
         ],
         "z": [
          0,
          -4,
          -11,
          -24,
          -37,
          -48,
          -66,
          -70,
          -84,
          -87,
          -90,
          -93,
          -97,
          -99,
          -100,
          -101,
          -104,
          -108,
          -102,
          -101
         ]
        },
        {
         "line": {
          "color": "#3dbc74",
          "dash": "dash",
          "width": 2
         },
         "mode": "lines",
         "name": "Vuelo 14",
         "type": "scatter3d",
         "x": [
          0,
          -5,
          -14,
          -15,
          -24,
          -28,
          -32,
          -35,
          -42,
          -45,
          -51,
          -54,
          -63,
          -64,
          -71,
          -77,
          -80,
          -79,
          -81,
          -80,
          -78,
          -72,
          -66,
          -60,
          -53,
          -45,
          -37,
          -28
         ],
         "y": [
          0,
          2,
          2,
          -7,
          -4,
          1,
          6,
          8,
          6,
          8,
          10,
          9,
          13,
          12,
          13,
          12,
          11,
          7,
          6,
          8,
          14,
          17,
          21,
          23,
          26,
          23,
          30,
          47
         ],
         "z": [
          0,
          -10,
          -11,
          -23,
          -28,
          -52,
          -57,
          -78,
          -88,
          -105,
          -112,
          -122,
          -127,
          -133,
          -139,
          -149,
          -148,
          -153,
          -153,
          -156,
          -160,
          -160,
          -159,
          -156,
          -154,
          -154,
          -158,
          -154
         ]
        },
        {
         "line": {
          "color": "#75d054",
          "dash": "dash",
          "width": 2
         },
         "mode": "lines",
         "name": "Vuelo 16",
         "type": "scatter3d",
         "x": [
          0,
          2,
          -2,
          -9,
          -15,
          -18,
          -19,
          -22,
          -23,
          -22,
          -19,
          -17,
          -14,
          -15,
          -14,
          -13,
          -14,
          -10,
          -9,
          -8,
          -6,
          -5,
          -4,
          -4
         ],
         "y": [
          0,
          -5,
          -7,
          -8,
          -8,
          -2,
          5,
          9,
          16,
          20,
          19,
          22,
          19,
          22,
          22,
          25,
          24,
          25,
          24,
          27,
          26,
          26,
          24,
          24
         ],
         "z": [
          0,
          -5,
          -19,
          -29,
          -51,
          -62,
          -81,
          -91,
          -105,
          -111,
          -123,
          -130,
          -134,
          -139,
          -149,
          -153,
          -154,
          -156,
          -156,
          -155,
          -154,
          -154,
          -150,
          -148
         ]
        },
        {
         "line": {
          "color": "#bade28",
          "dash": "dash",
          "width": 2
         },
         "mode": "lines",
         "name": "Vuelo 18",
         "type": "scatter3d",
         "x": [
          0,
          -3,
          -6,
          -10,
          -14,
          -17,
          -19,
          -21,
          -22,
          -24,
          -27,
          -25,
          -27,
          -32,
          -31,
          -33,
          -31,
          -33,
          -28,
          -28,
          -25
         ],
         "y": [
          0,
          4,
          9,
          23,
          30,
          31,
          38,
          35,
          39,
          38,
          39,
          39,
          34,
          40,
          43,
          40,
          37,
          39,
          39,
          43,
          44
         ],
         "z": [
          null,
          null,
          null,
          null,
          null,
          null,
          null,
          null,
          null,
          null,
          null,
          null,
          null,
          null,
          null,
          null,
          null,
          null,
          null,
          null,
          null
         ]
        },
        {
         "line": {
          "color": "#fde725",
          "dash": "dash",
          "width": 2
         },
         "mode": "lines",
         "name": "Vuelo 20",
         "type": "scatter3d",
         "x": [
          0,
          -4,
          -4,
          -3,
          -3,
          -9,
          -10,
          -17,
          -23,
          -28,
          -34,
          -39,
          -47,
          -49,
          -55,
          -57,
          -64,
          -66,
          -66,
          -65,
          -66,
          -60,
          -57,
          -46,
          -37
         ],
         "y": [
          0,
          -2,
          -4,
          -8,
          -12,
          -12,
          -3,
          4,
          8,
          13,
          16,
          21,
          15,
          14,
          9,
          11,
          9,
          12,
          14,
          12,
          9,
          18,
          19,
          23,
          23
         ],
         "z": [
          0,
          -1,
          -11,
          -14,
          -31,
          -39,
          -53,
          -61,
          -82,
          -90,
          -104,
          -111,
          -125,
          -128,
          -141,
          -145,
          -156,
          -160,
          -166,
          -168,
          -176,
          -175,
          -175,
          -176,
          -160
         ]
        }
       ],
       "layout": {
        "scene": {
         "camera": {
          "eye": {
           "x": 1.5,
           "y": 1.5,
           "z": 1.5
          }
         },
         "xaxis": {
          "backgroundcolor": "lightblue",
          "dtick": 10,
          "gridwidth": 0.5,
          "range": [
           -95,
           57
          ],
          "showticklabels": false,
          "tickmode": "linear"
         },
         "yaxis": {
          "backgroundcolor": "lightblue",
          "dtick": 10,
          "gridwidth": 0.5,
          "range": [
           -30,
           71
          ],
          "showticklabels": false,
          "tickmode": "linear"
         },
         "zaxis": {
          "backgroundcolor": "lightblue",
          "dtick": 10,
          "gridwidth": 0.5,
          "range": [
           -189,
           6
          ],
          "showticklabels": false,
          "tickmode": "linear"
         }
        },
        "template": {
         "data": {
          "bar": [
           {
            "error_x": {
             "color": "#2a3f5f"
            },
            "error_y": {
             "color": "#2a3f5f"
            },
            "marker": {
             "line": {
              "color": "#E5ECF6",
              "width": 0.5
             },
             "pattern": {
              "fillmode": "overlay",
              "size": 10,
              "solidity": 0.2
             }
            },
            "type": "bar"
           }
          ],
          "barpolar": [
           {
            "marker": {
             "line": {
              "color": "#E5ECF6",
              "width": 0.5
             },
             "pattern": {
              "fillmode": "overlay",
              "size": 10,
              "solidity": 0.2
             }
            },
            "type": "barpolar"
           }
          ],
          "carpet": [
           {
            "aaxis": {
             "endlinecolor": "#2a3f5f",
             "gridcolor": "white",
             "linecolor": "white",
             "minorgridcolor": "white",
             "startlinecolor": "#2a3f5f"
            },
            "baxis": {
             "endlinecolor": "#2a3f5f",
             "gridcolor": "white",
             "linecolor": "white",
             "minorgridcolor": "white",
             "startlinecolor": "#2a3f5f"
            },
            "type": "carpet"
           }
          ],
          "choropleth": [
           {
            "colorbar": {
             "outlinewidth": 0,
             "ticks": ""
            },
            "type": "choropleth"
           }
          ],
          "contour": [
           {
            "colorbar": {
             "outlinewidth": 0,
             "ticks": ""
            },
            "colorscale": [
             [
              0,
              "#0d0887"
             ],
             [
              0.1111111111111111,
              "#46039f"
             ],
             [
              0.2222222222222222,
              "#7201a8"
             ],
             [
              0.3333333333333333,
              "#9c179e"
             ],
             [
              0.4444444444444444,
              "#bd3786"
             ],
             [
              0.5555555555555556,
              "#d8576b"
             ],
             [
              0.6666666666666666,
              "#ed7953"
             ],
             [
              0.7777777777777778,
              "#fb9f3a"
             ],
             [
              0.8888888888888888,
              "#fdca26"
             ],
             [
              1,
              "#f0f921"
             ]
            ],
            "type": "contour"
           }
          ],
          "contourcarpet": [
           {
            "colorbar": {
             "outlinewidth": 0,
             "ticks": ""
            },
            "type": "contourcarpet"
           }
          ],
          "heatmap": [
           {
            "colorbar": {
             "outlinewidth": 0,
             "ticks": ""
            },
            "colorscale": [
             [
              0,
              "#0d0887"
             ],
             [
              0.1111111111111111,
              "#46039f"
             ],
             [
              0.2222222222222222,
              "#7201a8"
             ],
             [
              0.3333333333333333,
              "#9c179e"
             ],
             [
              0.4444444444444444,
              "#bd3786"
             ],
             [
              0.5555555555555556,
              "#d8576b"
             ],
             [
              0.6666666666666666,
              "#ed7953"
             ],
             [
              0.7777777777777778,
              "#fb9f3a"
             ],
             [
              0.8888888888888888,
              "#fdca26"
             ],
             [
              1,
              "#f0f921"
             ]
            ],
            "type": "heatmap"
           }
          ],
          "heatmapgl": [
           {
            "colorbar": {
             "outlinewidth": 0,
             "ticks": ""
            },
            "colorscale": [
             [
              0,
              "#0d0887"
             ],
             [
              0.1111111111111111,
              "#46039f"
             ],
             [
              0.2222222222222222,
              "#7201a8"
             ],
             [
              0.3333333333333333,
              "#9c179e"
             ],
             [
              0.4444444444444444,
              "#bd3786"
             ],
             [
              0.5555555555555556,
              "#d8576b"
             ],
             [
              0.6666666666666666,
              "#ed7953"
             ],
             [
              0.7777777777777778,
              "#fb9f3a"
             ],
             [
              0.8888888888888888,
              "#fdca26"
             ],
             [
              1,
              "#f0f921"
             ]
            ],
            "type": "heatmapgl"
           }
          ],
          "histogram": [
           {
            "marker": {
             "pattern": {
              "fillmode": "overlay",
              "size": 10,
              "solidity": 0.2
             }
            },
            "type": "histogram"
           }
          ],
          "histogram2d": [
           {
            "colorbar": {
             "outlinewidth": 0,
             "ticks": ""
            },
            "colorscale": [
             [
              0,
              "#0d0887"
             ],
             [
              0.1111111111111111,
              "#46039f"
             ],
             [
              0.2222222222222222,
              "#7201a8"
             ],
             [
              0.3333333333333333,
              "#9c179e"
             ],
             [
              0.4444444444444444,
              "#bd3786"
             ],
             [
              0.5555555555555556,
              "#d8576b"
             ],
             [
              0.6666666666666666,
              "#ed7953"
             ],
             [
              0.7777777777777778,
              "#fb9f3a"
             ],
             [
              0.8888888888888888,
              "#fdca26"
             ],
             [
              1,
              "#f0f921"
             ]
            ],
            "type": "histogram2d"
           }
          ],
          "histogram2dcontour": [
           {
            "colorbar": {
             "outlinewidth": 0,
             "ticks": ""
            },
            "colorscale": [
             [
              0,
              "#0d0887"
             ],
             [
              0.1111111111111111,
              "#46039f"
             ],
             [
              0.2222222222222222,
              "#7201a8"
             ],
             [
              0.3333333333333333,
              "#9c179e"
             ],
             [
              0.4444444444444444,
              "#bd3786"
             ],
             [
              0.5555555555555556,
              "#d8576b"
             ],
             [
              0.6666666666666666,
              "#ed7953"
             ],
             [
              0.7777777777777778,
              "#fb9f3a"
             ],
             [
              0.8888888888888888,
              "#fdca26"
             ],
             [
              1,
              "#f0f921"
             ]
            ],
            "type": "histogram2dcontour"
           }
          ],
          "mesh3d": [
           {
            "colorbar": {
             "outlinewidth": 0,
             "ticks": ""
            },
            "type": "mesh3d"
           }
          ],
          "parcoords": [
           {
            "line": {
             "colorbar": {
              "outlinewidth": 0,
              "ticks": ""
             }
            },
            "type": "parcoords"
           }
          ],
          "pie": [
           {
            "automargin": true,
            "type": "pie"
           }
          ],
          "scatter": [
           {
            "fillpattern": {
             "fillmode": "overlay",
             "size": 10,
             "solidity": 0.2
            },
            "type": "scatter"
           }
          ],
          "scatter3d": [
           {
            "line": {
             "colorbar": {
              "outlinewidth": 0,
              "ticks": ""
             }
            },
            "marker": {
             "colorbar": {
              "outlinewidth": 0,
              "ticks": ""
             }
            },
            "type": "scatter3d"
           }
          ],
          "scattercarpet": [
           {
            "marker": {
             "colorbar": {
              "outlinewidth": 0,
              "ticks": ""
             }
            },
            "type": "scattercarpet"
           }
          ],
          "scattergeo": [
           {
            "marker": {
             "colorbar": {
              "outlinewidth": 0,
              "ticks": ""
             }
            },
            "type": "scattergeo"
           }
          ],
          "scattergl": [
           {
            "marker": {
             "colorbar": {
              "outlinewidth": 0,
              "ticks": ""
             }
            },
            "type": "scattergl"
           }
          ],
          "scattermapbox": [
           {
            "marker": {
             "colorbar": {
              "outlinewidth": 0,
              "ticks": ""
             }
            },
            "type": "scattermapbox"
           }
          ],
          "scatterpolar": [
           {
            "marker": {
             "colorbar": {
              "outlinewidth": 0,
              "ticks": ""
             }
            },
            "type": "scatterpolar"
           }
          ],
          "scatterpolargl": [
           {
            "marker": {
             "colorbar": {
              "outlinewidth": 0,
              "ticks": ""
             }
            },
            "type": "scatterpolargl"
           }
          ],
          "scatterternary": [
           {
            "marker": {
             "colorbar": {
              "outlinewidth": 0,
              "ticks": ""
             }
            },
            "type": "scatterternary"
           }
          ],
          "surface": [
           {
            "colorbar": {
             "outlinewidth": 0,
             "ticks": ""
            },
            "colorscale": [
             [
              0,
              "#0d0887"
             ],
             [
              0.1111111111111111,
              "#46039f"
             ],
             [
              0.2222222222222222,
              "#7201a8"
             ],
             [
              0.3333333333333333,
              "#9c179e"
             ],
             [
              0.4444444444444444,
              "#bd3786"
             ],
             [
              0.5555555555555556,
              "#d8576b"
             ],
             [
              0.6666666666666666,
              "#ed7953"
             ],
             [
              0.7777777777777778,
              "#fb9f3a"
             ],
             [
              0.8888888888888888,
              "#fdca26"
             ],
             [
              1,
              "#f0f921"
             ]
            ],
            "type": "surface"
           }
          ],
          "table": [
           {
            "cells": {
             "fill": {
              "color": "#EBF0F8"
             },
             "line": {
              "color": "white"
             }
            },
            "header": {
             "fill": {
              "color": "#C8D4E3"
             },
             "line": {
              "color": "white"
             }
            },
            "type": "table"
           }
          ]
         },
         "layout": {
          "annotationdefaults": {
           "arrowcolor": "#2a3f5f",
           "arrowhead": 0,
           "arrowwidth": 1
          },
          "autotypenumbers": "strict",
          "coloraxis": {
           "colorbar": {
            "outlinewidth": 0,
            "ticks": ""
           }
          },
          "colorscale": {
           "diverging": [
            [
             0,
             "#8e0152"
            ],
            [
             0.1,
             "#c51b7d"
            ],
            [
             0.2,
             "#de77ae"
            ],
            [
             0.3,
             "#f1b6da"
            ],
            [
             0.4,
             "#fde0ef"
            ],
            [
             0.5,
             "#f7f7f7"
            ],
            [
             0.6,
             "#e6f5d0"
            ],
            [
             0.7,
             "#b8e186"
            ],
            [
             0.8,
             "#7fbc41"
            ],
            [
             0.9,
             "#4d9221"
            ],
            [
             1,
             "#276419"
            ]
           ],
           "sequential": [
            [
             0,
             "#0d0887"
            ],
            [
             0.1111111111111111,
             "#46039f"
            ],
            [
             0.2222222222222222,
             "#7201a8"
            ],
            [
             0.3333333333333333,
             "#9c179e"
            ],
            [
             0.4444444444444444,
             "#bd3786"
            ],
            [
             0.5555555555555556,
             "#d8576b"
            ],
            [
             0.6666666666666666,
             "#ed7953"
            ],
            [
             0.7777777777777778,
             "#fb9f3a"
            ],
            [
             0.8888888888888888,
             "#fdca26"
            ],
            [
             1,
             "#f0f921"
            ]
           ],
           "sequentialminus": [
            [
             0,
             "#0d0887"
            ],
            [
             0.1111111111111111,
             "#46039f"
            ],
            [
             0.2222222222222222,
             "#7201a8"
            ],
            [
             0.3333333333333333,
             "#9c179e"
            ],
            [
             0.4444444444444444,
             "#bd3786"
            ],
            [
             0.5555555555555556,
             "#d8576b"
            ],
            [
             0.6666666666666666,
             "#ed7953"
            ],
            [
             0.7777777777777778,
             "#fb9f3a"
            ],
            [
             0.8888888888888888,
             "#fdca26"
            ],
            [
             1,
             "#f0f921"
            ]
           ]
          },
          "colorway": [
           "#636efa",
           "#EF553B",
           "#00cc96",
           "#ab63fa",
           "#FFA15A",
           "#19d3f3",
           "#FF6692",
           "#B6E880",
           "#FF97FF",
           "#FECB52"
          ],
          "font": {
           "color": "#2a3f5f"
          },
          "geo": {
           "bgcolor": "white",
           "lakecolor": "white",
           "landcolor": "#E5ECF6",
           "showlakes": true,
           "showland": true,
           "subunitcolor": "white"
          },
          "hoverlabel": {
           "align": "left"
          },
          "hovermode": "closest",
          "mapbox": {
           "style": "light"
          },
          "paper_bgcolor": "white",
          "plot_bgcolor": "#E5ECF6",
          "polar": {
           "angularaxis": {
            "gridcolor": "white",
            "linecolor": "white",
            "ticks": ""
           },
           "bgcolor": "#E5ECF6",
           "radialaxis": {
            "gridcolor": "white",
            "linecolor": "white",
            "ticks": ""
           }
          },
          "scene": {
           "xaxis": {
            "backgroundcolor": "#E5ECF6",
            "gridcolor": "white",
            "gridwidth": 2,
            "linecolor": "white",
            "showbackground": true,
            "ticks": "",
            "zerolinecolor": "white"
           },
           "yaxis": {
            "backgroundcolor": "#E5ECF6",
            "gridcolor": "white",
            "gridwidth": 2,
            "linecolor": "white",
            "showbackground": true,
            "ticks": "",
            "zerolinecolor": "white"
           },
           "zaxis": {
            "backgroundcolor": "#E5ECF6",
            "gridcolor": "white",
            "gridwidth": 2,
            "linecolor": "white",
            "showbackground": true,
            "ticks": "",
            "zerolinecolor": "white"
           }
          },
          "shapedefaults": {
           "line": {
            "color": "#2a3f5f"
           }
          },
          "ternary": {
           "aaxis": {
            "gridcolor": "white",
            "linecolor": "white",
            "ticks": ""
           },
           "baxis": {
            "gridcolor": "white",
            "linecolor": "white",
            "ticks": ""
           },
           "bgcolor": "#E5ECF6",
           "caxis": {
            "gridcolor": "white",
            "linecolor": "white",
            "ticks": ""
           }
          },
          "title": {
           "x": 0.05
          },
          "xaxis": {
           "automargin": true,
           "gridcolor": "white",
           "linecolor": "white",
           "ticks": "",
           "title": {
            "standoff": 15
           },
           "zerolinecolor": "white",
           "zerolinewidth": 2
          },
          "yaxis": {
           "automargin": true,
           "gridcolor": "white",
           "linecolor": "white",
           "ticks": "",
           "title": {
            "standoff": 15
           },
           "zerolinecolor": "white",
           "zerolinewidth": 2
          }
         }
        },
        "title": {
         "text": "Trayectoria No whiskers - Flexible - Individuo 7"
        }
       }
      }
     },
     "metadata": {},
     "output_type": "display_data"
    },
    {
     "data": {
      "application/vnd.plotly.v1+json": {
       "config": {
        "plotlyServerURL": "https://plot.ly"
       },
       "data": [
        {
         "marker": {
          "color": "red",
          "size": 5
         },
         "mode": "markers",
         "name": "Flor",
         "type": "scatter3d",
         "x": [
          0
         ],
         "y": [
          0
         ],
         "z": [
          0
         ]
        },
        {
         "line": {
          "color": "#440154",
          "dash": "dash",
          "width": 2
         },
         "mode": "lines",
         "name": "Vuelo 1",
         "type": "scatter3d",
         "x": [
          0,
          2,
          0,
          0,
          -3,
          -3,
          -4,
          0,
          -1,
          -4,
          -5,
          -8,
          -8,
          -4,
          -2,
          -4,
          -4,
          -1,
          0,
          0,
          0,
          -2,
          -1,
          -1,
          -3,
          -2,
          0,
          -1,
          -3,
          -2,
          -2,
          0,
          -1,
          3,
          3
         ],
         "y": [
          0,
          -2,
          0,
          2,
          3,
          5,
          4,
          3,
          5,
          2,
          0,
          5,
          5,
          3,
          2,
          5,
          4,
          3,
          3,
          4,
          7,
          8,
          6,
          3,
          10,
          8,
          8,
          2,
          8,
          8,
          5,
          7,
          5,
          6,
          6
         ],
         "z": [
          0,
          -3,
          -6,
          -9,
          -13,
          -14,
          -11,
          -16,
          -14,
          -5,
          -9,
          -9.5,
          -10,
          -8,
          -13,
          -12,
          -10,
          -15,
          -12,
          -11,
          -15,
          -20,
          -15,
          -14,
          -19,
          -22,
          -14,
          -15,
          -12,
          -17,
          -19,
          -16,
          -12,
          -15,
          -13
         ]
        },
        {
         "line": {
          "color": "#482576",
          "dash": "dash",
          "width": 2
         },
         "mode": "lines",
         "name": "Vuelo 3",
         "type": "scatter3d",
         "x": [
          0,
          -2,
          -5,
          -7,
          -8,
          -3,
          -4,
          -3,
          -5,
          -4,
          -3,
          -4,
          -5,
          -4,
          -6,
          -7,
          -9,
          -6,
          -2,
          -4,
          -4,
          -3,
          -3,
          -1,
          -2,
          -3,
          -4,
          -4,
          -1,
          1,
          -3,
          -6,
          -5,
          -1,
          0,
          -2,
          -2
         ],
         "y": [
          0,
          1,
          0,
          -1,
          4,
          5,
          4,
          4,
          2,
          5,
          1,
          4,
          8,
          8,
          8,
          7,
          7,
          7,
          5,
          6,
          8,
          13,
          11,
          9,
          7,
          2,
          9,
          10,
          9,
          9,
          6,
          6,
          12,
          11,
          10,
          5,
          5
         ],
         "z": [
          0,
          -3,
          -3,
          -1,
          -2,
          -7,
          -8,
          -5,
          -3,
          -4,
          -7,
          -9,
          -8,
          -14,
          -16,
          -13,
          -12,
          -14,
          -13,
          -11,
          -9,
          -13,
          -18,
          -14,
          -13,
          -11,
          -13,
          -11,
          -17,
          -16,
          -8,
          -9,
          -19,
          -23,
          -18,
          -14,
          -13
         ]
        },
        {
         "line": {
          "color": "#404688",
          "dash": "dash",
          "width": 2
         },
         "mode": "lines",
         "name": "Vuelo 5",
         "type": "scatter3d",
         "x": [
          0,
          0,
          3,
          0,
          -3,
          -2,
          2,
          0,
          -1,
          2,
          4,
          4,
          4,
          5,
          3,
          -2,
          -1,
          3,
          3,
          0,
          2,
          4,
          5,
          5,
          6,
          4,
          4,
          2,
          5
         ],
         "y": [
          0,
          3,
          2,
          -2,
          3,
          3,
          6,
          0,
          7,
          6,
          7,
          6,
          7,
          5,
          6,
          4,
          8,
          7,
          4,
          4,
          8,
          7,
          7,
          4,
          0,
          7,
          4,
          1,
          -2
         ],
         "z": [
          0,
          -10,
          -12,
          -15,
          -16,
          -16,
          -14,
          -16,
          -22,
          -21,
          -13,
          -14,
          -20,
          -19,
          -19,
          -22,
          -20,
          -20,
          -13,
          -18,
          -22,
          -18,
          -16,
          -15,
          -16,
          -13,
          -11,
          -4,
          -6
         ]
        },
        {
         "line": {
          "color": "#33638d",
          "dash": "dash",
          "width": 2
         },
         "mode": "lines",
         "name": "Vuelo 7",
         "type": "scatter3d",
         "x": [
          0,
          -2,
          -6,
          -6,
          -6,
          -3,
          -1,
          -1,
          0,
          -1,
          0,
          0,
          -3,
          -1,
          -2,
          2,
          2,
          0,
          3,
          6,
          2,
          -2,
          1,
          10,
          11,
          2,
          0
         ],
         "y": [
          0,
          0,
          1,
          0,
          3,
          3,
          3,
          2,
          0,
          3,
          9,
          6,
          5,
          6,
          13,
          7,
          3,
          3,
          6,
          6,
          4,
          3,
          7,
          7,
          6,
          4,
          -1
         ],
         "z": [
          0,
          -9,
          -6,
          -3,
          -11,
          -11,
          -7,
          -8,
          -8,
          -12,
          -13,
          -10,
          -11,
          -17,
          -21,
          -13,
          -10,
          -11,
          -16,
          -18,
          -12,
          -12,
          -16,
          -18,
          -8,
          -5,
          -17
         ]
        },
        {
         "line": {
          "color": "#287d8e",
          "dash": "dash",
          "width": 2
         },
         "mode": "lines",
         "name": "Vuelo 9",
         "type": "scatter3d",
         "x": [
          0,
          3,
          -2,
          -6,
          -9,
          -5,
          -4,
          -2,
          -3,
          1,
          0,
          -4,
          -3,
          -1,
          2,
          0,
          -1,
          -1,
          4,
          5,
          5,
          7,
          6,
          5,
          3
         ],
         "y": [
          0,
          -1,
          3,
          3,
          3,
          1,
          2,
          0,
          -1,
          -2,
          4,
          4,
          1,
          4,
          6,
          7,
          5,
          6,
          8,
          9,
          4,
          -2,
          2,
          6,
          4
         ],
         "z": [
          0,
          -4,
          -11,
          -11,
          -10,
          -7,
          -8,
          -7,
          -5,
          -1,
          -10,
          -10,
          -6,
          -5,
          -13,
          -18,
          -12,
          -10,
          -14,
          -13,
          -12,
          -1,
          -4,
          -7,
          -10
         ]
        },
        {
         "line": {
          "color": "#1f968b",
          "dash": "dash",
          "width": 2
         },
         "mode": "lines",
         "name": "Vuelo 11",
         "type": "scatter3d",
         "x": [
          0,
          -2,
          2,
          1,
          1,
          -1,
          -2,
          -3,
          -2,
          -5,
          -4,
          -5,
          -5,
          -5,
          -6,
          -4,
          -5,
          0,
          1,
          1,
          2
         ],
         "y": [
          0,
          -3,
          0,
          3,
          1,
          -1,
          4,
          -1,
          -2,
          2,
          4,
          2,
          3,
          3,
          5,
          5,
          1,
          5,
          7,
          5,
          5
         ],
         "z": [
          0,
          -7,
          -8,
          -10,
          -8,
          -12,
          -11,
          -11,
          -7,
          -9,
          -11,
          -13,
          -11,
          -9,
          -16,
          -18,
          -12,
          -11,
          -17,
          -20,
          -14
         ]
        },
        {
         "line": {
          "color": "#29af7f",
          "dash": "dash",
          "width": 2
         },
         "mode": "lines",
         "name": "Vuelo 13",
         "type": "scatter3d",
         "x": [
          0,
          1,
          -3,
          -4,
          -4,
          -3,
          -2,
          -5,
          -3,
          -1,
          -1,
          -2,
          0,
          -1,
          -3,
          -2,
          0,
          -1,
          -3,
          -2,
          2,
          2,
          -1
         ],
         "y": [
          0,
          3,
          3,
          5,
          4,
          1,
          4,
          5,
          3,
          4,
          4,
          5,
          4,
          1,
          5,
          6,
          3,
          -1,
          3,
          5,
          5,
          4,
          6
         ],
         "z": [
          0,
          -5,
          -5,
          -6,
          -6,
          -5,
          -7,
          -7,
          -7,
          -3,
          -8,
          -10,
          -4,
          -6,
          -12,
          -9,
          -6,
          -4,
          -10,
          -13,
          -10,
          -8,
          -7
         ]
        },
        {
         "line": {
          "color": "#56c667",
          "dash": "dash",
          "width": 2
         },
         "mode": "lines",
         "name": "Vuelo 15",
         "type": "scatter3d",
         "x": [
          0,
          -1,
          -10,
          -9,
          -4,
          -1,
          -7,
          -10,
          -7,
          -6,
          -6,
          -6,
          -2,
          -5,
          -6,
          -2,
          1,
          -2,
          -3
         ],
         "y": [
          0,
          -1,
          1,
          -1,
          5,
          5,
          4,
          3,
          6,
          5,
          6,
          7,
          7,
          5,
          7,
          8,
          7,
          2,
          3
         ],
         "z": [
          0,
          1,
          0,
          -4,
          -1,
          -7,
          -10,
          -11,
          -7,
          -7,
          -9,
          -11,
          -8,
          -7,
          -11,
          -11,
          -8,
          -5,
          -7
         ]
        },
        {
         "line": {
          "color": "#95d840",
          "dash": "dash",
          "width": 2
         },
         "mode": "lines",
         "name": "Vuelo 17",
         "type": "scatter3d",
         "x": [
          0,
          -1,
          -1,
          -3,
          -3,
          -5,
          -4,
          -3,
          -6,
          -5,
          -2,
          -2,
          1,
          -4,
          -3,
          -2,
          -7,
          -6,
          -3,
          -2,
          -4,
          -6,
          -5,
          -2,
          -4,
          -2,
          -3,
          2,
          1
         ],
         "y": [
          0,
          -7,
          -3,
          7,
          5,
          9,
          9,
          6,
          3,
          7,
          4,
          7,
          3,
          9,
          7,
          5,
          3,
          12,
          7,
          9,
          4,
          8,
          7,
          8,
          5,
          8,
          11,
          5,
          7
         ],
         "z": [
          0,
          -1,
          1,
          -13,
          -14,
          -19,
          -18,
          -18,
          -15,
          -12,
          -13,
          -11,
          -13,
          -13,
          -17,
          -14,
          -11,
          -19,
          -22,
          -15,
          -9,
          -17,
          -23,
          -19,
          -15,
          -15,
          -20,
          -25,
          -14
         ]
        },
        {
         "line": {
          "color": "#dde318",
          "dash": "dash",
          "width": 2
         },
         "mode": "lines",
         "name": "Vuelo 19",
         "type": "scatter3d",
         "x": [
          0,
          -2,
          1,
          -3,
          -7,
          -6,
          -6,
          -5,
          -3,
          -5,
          -6,
          -7,
          -6,
          -5,
          -7,
          -5,
          -5,
          -5,
          -6,
          -7,
          -6,
          -7,
          -5,
          -5,
          -3,
          -2,
          0,
          0
         ],
         "y": [
          0,
          -5,
          6,
          7,
          6,
          7,
          6,
          3,
          4,
          1,
          6,
          2,
          4,
          6,
          8,
          5,
          7,
          5,
          5,
          4,
          7,
          7,
          4,
          7,
          8,
          6,
          9,
          3
         ],
         "z": [
          0,
          -5,
          -18,
          -20,
          -18,
          -20,
          -21,
          -17,
          -11,
          -10,
          -16,
          -18,
          -14,
          -18,
          -24,
          -18,
          -16,
          -16,
          -18,
          -15,
          -20,
          -21,
          -21,
          -18,
          -13,
          -18,
          -19,
          -19
         ]
        }
       ],
       "layout": {
        "scene": {
         "camera": {
          "eye": {
           "x": 1.5,
           "y": 1.5,
           "z": 1.5
          }
         },
         "xaxis": {
          "backgroundcolor": "lightblue",
          "dtick": 10,
          "gridwidth": 0.5,
          "range": [
           -15,
           16
          ],
          "showticklabels": false,
          "tickmode": "linear"
         },
         "yaxis": {
          "backgroundcolor": "lightblue",
          "dtick": 10,
          "gridwidth": 0.5,
          "range": [
           -12,
           18
          ],
          "showticklabels": false,
          "tickmode": "linear"
         },
         "zaxis": {
          "backgroundcolor": "lightblue",
          "dtick": 10,
          "gridwidth": 0.5,
          "range": [
           -30,
           6
          ],
          "showticklabels": false,
          "tickmode": "linear"
         }
        },
        "template": {
         "data": {
          "bar": [
           {
            "error_x": {
             "color": "#2a3f5f"
            },
            "error_y": {
             "color": "#2a3f5f"
            },
            "marker": {
             "line": {
              "color": "#E5ECF6",
              "width": 0.5
             },
             "pattern": {
              "fillmode": "overlay",
              "size": 10,
              "solidity": 0.2
             }
            },
            "type": "bar"
           }
          ],
          "barpolar": [
           {
            "marker": {
             "line": {
              "color": "#E5ECF6",
              "width": 0.5
             },
             "pattern": {
              "fillmode": "overlay",
              "size": 10,
              "solidity": 0.2
             }
            },
            "type": "barpolar"
           }
          ],
          "carpet": [
           {
            "aaxis": {
             "endlinecolor": "#2a3f5f",
             "gridcolor": "white",
             "linecolor": "white",
             "minorgridcolor": "white",
             "startlinecolor": "#2a3f5f"
            },
            "baxis": {
             "endlinecolor": "#2a3f5f",
             "gridcolor": "white",
             "linecolor": "white",
             "minorgridcolor": "white",
             "startlinecolor": "#2a3f5f"
            },
            "type": "carpet"
           }
          ],
          "choropleth": [
           {
            "colorbar": {
             "outlinewidth": 0,
             "ticks": ""
            },
            "type": "choropleth"
           }
          ],
          "contour": [
           {
            "colorbar": {
             "outlinewidth": 0,
             "ticks": ""
            },
            "colorscale": [
             [
              0,
              "#0d0887"
             ],
             [
              0.1111111111111111,
              "#46039f"
             ],
             [
              0.2222222222222222,
              "#7201a8"
             ],
             [
              0.3333333333333333,
              "#9c179e"
             ],
             [
              0.4444444444444444,
              "#bd3786"
             ],
             [
              0.5555555555555556,
              "#d8576b"
             ],
             [
              0.6666666666666666,
              "#ed7953"
             ],
             [
              0.7777777777777778,
              "#fb9f3a"
             ],
             [
              0.8888888888888888,
              "#fdca26"
             ],
             [
              1,
              "#f0f921"
             ]
            ],
            "type": "contour"
           }
          ],
          "contourcarpet": [
           {
            "colorbar": {
             "outlinewidth": 0,
             "ticks": ""
            },
            "type": "contourcarpet"
           }
          ],
          "heatmap": [
           {
            "colorbar": {
             "outlinewidth": 0,
             "ticks": ""
            },
            "colorscale": [
             [
              0,
              "#0d0887"
             ],
             [
              0.1111111111111111,
              "#46039f"
             ],
             [
              0.2222222222222222,
              "#7201a8"
             ],
             [
              0.3333333333333333,
              "#9c179e"
             ],
             [
              0.4444444444444444,
              "#bd3786"
             ],
             [
              0.5555555555555556,
              "#d8576b"
             ],
             [
              0.6666666666666666,
              "#ed7953"
             ],
             [
              0.7777777777777778,
              "#fb9f3a"
             ],
             [
              0.8888888888888888,
              "#fdca26"
             ],
             [
              1,
              "#f0f921"
             ]
            ],
            "type": "heatmap"
           }
          ],
          "heatmapgl": [
           {
            "colorbar": {
             "outlinewidth": 0,
             "ticks": ""
            },
            "colorscale": [
             [
              0,
              "#0d0887"
             ],
             [
              0.1111111111111111,
              "#46039f"
             ],
             [
              0.2222222222222222,
              "#7201a8"
             ],
             [
              0.3333333333333333,
              "#9c179e"
             ],
             [
              0.4444444444444444,
              "#bd3786"
             ],
             [
              0.5555555555555556,
              "#d8576b"
             ],
             [
              0.6666666666666666,
              "#ed7953"
             ],
             [
              0.7777777777777778,
              "#fb9f3a"
             ],
             [
              0.8888888888888888,
              "#fdca26"
             ],
             [
              1,
              "#f0f921"
             ]
            ],
            "type": "heatmapgl"
           }
          ],
          "histogram": [
           {
            "marker": {
             "pattern": {
              "fillmode": "overlay",
              "size": 10,
              "solidity": 0.2
             }
            },
            "type": "histogram"
           }
          ],
          "histogram2d": [
           {
            "colorbar": {
             "outlinewidth": 0,
             "ticks": ""
            },
            "colorscale": [
             [
              0,
              "#0d0887"
             ],
             [
              0.1111111111111111,
              "#46039f"
             ],
             [
              0.2222222222222222,
              "#7201a8"
             ],
             [
              0.3333333333333333,
              "#9c179e"
             ],
             [
              0.4444444444444444,
              "#bd3786"
             ],
             [
              0.5555555555555556,
              "#d8576b"
             ],
             [
              0.6666666666666666,
              "#ed7953"
             ],
             [
              0.7777777777777778,
              "#fb9f3a"
             ],
             [
              0.8888888888888888,
              "#fdca26"
             ],
             [
              1,
              "#f0f921"
             ]
            ],
            "type": "histogram2d"
           }
          ],
          "histogram2dcontour": [
           {
            "colorbar": {
             "outlinewidth": 0,
             "ticks": ""
            },
            "colorscale": [
             [
              0,
              "#0d0887"
             ],
             [
              0.1111111111111111,
              "#46039f"
             ],
             [
              0.2222222222222222,
              "#7201a8"
             ],
             [
              0.3333333333333333,
              "#9c179e"
             ],
             [
              0.4444444444444444,
              "#bd3786"
             ],
             [
              0.5555555555555556,
              "#d8576b"
             ],
             [
              0.6666666666666666,
              "#ed7953"
             ],
             [
              0.7777777777777778,
              "#fb9f3a"
             ],
             [
              0.8888888888888888,
              "#fdca26"
             ],
             [
              1,
              "#f0f921"
             ]
            ],
            "type": "histogram2dcontour"
           }
          ],
          "mesh3d": [
           {
            "colorbar": {
             "outlinewidth": 0,
             "ticks": ""
            },
            "type": "mesh3d"
           }
          ],
          "parcoords": [
           {
            "line": {
             "colorbar": {
              "outlinewidth": 0,
              "ticks": ""
             }
            },
            "type": "parcoords"
           }
          ],
          "pie": [
           {
            "automargin": true,
            "type": "pie"
           }
          ],
          "scatter": [
           {
            "fillpattern": {
             "fillmode": "overlay",
             "size": 10,
             "solidity": 0.2
            },
            "type": "scatter"
           }
          ],
          "scatter3d": [
           {
            "line": {
             "colorbar": {
              "outlinewidth": 0,
              "ticks": ""
             }
            },
            "marker": {
             "colorbar": {
              "outlinewidth": 0,
              "ticks": ""
             }
            },
            "type": "scatter3d"
           }
          ],
          "scattercarpet": [
           {
            "marker": {
             "colorbar": {
              "outlinewidth": 0,
              "ticks": ""
             }
            },
            "type": "scattercarpet"
           }
          ],
          "scattergeo": [
           {
            "marker": {
             "colorbar": {
              "outlinewidth": 0,
              "ticks": ""
             }
            },
            "type": "scattergeo"
           }
          ],
          "scattergl": [
           {
            "marker": {
             "colorbar": {
              "outlinewidth": 0,
              "ticks": ""
             }
            },
            "type": "scattergl"
           }
          ],
          "scattermapbox": [
           {
            "marker": {
             "colorbar": {
              "outlinewidth": 0,
              "ticks": ""
             }
            },
            "type": "scattermapbox"
           }
          ],
          "scatterpolar": [
           {
            "marker": {
             "colorbar": {
              "outlinewidth": 0,
              "ticks": ""
             }
            },
            "type": "scatterpolar"
           }
          ],
          "scatterpolargl": [
           {
            "marker": {
             "colorbar": {
              "outlinewidth": 0,
              "ticks": ""
             }
            },
            "type": "scatterpolargl"
           }
          ],
          "scatterternary": [
           {
            "marker": {
             "colorbar": {
              "outlinewidth": 0,
              "ticks": ""
             }
            },
            "type": "scatterternary"
           }
          ],
          "surface": [
           {
            "colorbar": {
             "outlinewidth": 0,
             "ticks": ""
            },
            "colorscale": [
             [
              0,
              "#0d0887"
             ],
             [
              0.1111111111111111,
              "#46039f"
             ],
             [
              0.2222222222222222,
              "#7201a8"
             ],
             [
              0.3333333333333333,
              "#9c179e"
             ],
             [
              0.4444444444444444,
              "#bd3786"
             ],
             [
              0.5555555555555556,
              "#d8576b"
             ],
             [
              0.6666666666666666,
              "#ed7953"
             ],
             [
              0.7777777777777778,
              "#fb9f3a"
             ],
             [
              0.8888888888888888,
              "#fdca26"
             ],
             [
              1,
              "#f0f921"
             ]
            ],
            "type": "surface"
           }
          ],
          "table": [
           {
            "cells": {
             "fill": {
              "color": "#EBF0F8"
             },
             "line": {
              "color": "white"
             }
            },
            "header": {
             "fill": {
              "color": "#C8D4E3"
             },
             "line": {
              "color": "white"
             }
            },
            "type": "table"
           }
          ]
         },
         "layout": {
          "annotationdefaults": {
           "arrowcolor": "#2a3f5f",
           "arrowhead": 0,
           "arrowwidth": 1
          },
          "autotypenumbers": "strict",
          "coloraxis": {
           "colorbar": {
            "outlinewidth": 0,
            "ticks": ""
           }
          },
          "colorscale": {
           "diverging": [
            [
             0,
             "#8e0152"
            ],
            [
             0.1,
             "#c51b7d"
            ],
            [
             0.2,
             "#de77ae"
            ],
            [
             0.3,
             "#f1b6da"
            ],
            [
             0.4,
             "#fde0ef"
            ],
            [
             0.5,
             "#f7f7f7"
            ],
            [
             0.6,
             "#e6f5d0"
            ],
            [
             0.7,
             "#b8e186"
            ],
            [
             0.8,
             "#7fbc41"
            ],
            [
             0.9,
             "#4d9221"
            ],
            [
             1,
             "#276419"
            ]
           ],
           "sequential": [
            [
             0,
             "#0d0887"
            ],
            [
             0.1111111111111111,
             "#46039f"
            ],
            [
             0.2222222222222222,
             "#7201a8"
            ],
            [
             0.3333333333333333,
             "#9c179e"
            ],
            [
             0.4444444444444444,
             "#bd3786"
            ],
            [
             0.5555555555555556,
             "#d8576b"
            ],
            [
             0.6666666666666666,
             "#ed7953"
            ],
            [
             0.7777777777777778,
             "#fb9f3a"
            ],
            [
             0.8888888888888888,
             "#fdca26"
            ],
            [
             1,
             "#f0f921"
            ]
           ],
           "sequentialminus": [
            [
             0,
             "#0d0887"
            ],
            [
             0.1111111111111111,
             "#46039f"
            ],
            [
             0.2222222222222222,
             "#7201a8"
            ],
            [
             0.3333333333333333,
             "#9c179e"
            ],
            [
             0.4444444444444444,
             "#bd3786"
            ],
            [
             0.5555555555555556,
             "#d8576b"
            ],
            [
             0.6666666666666666,
             "#ed7953"
            ],
            [
             0.7777777777777778,
             "#fb9f3a"
            ],
            [
             0.8888888888888888,
             "#fdca26"
            ],
            [
             1,
             "#f0f921"
            ]
           ]
          },
          "colorway": [
           "#636efa",
           "#EF553B",
           "#00cc96",
           "#ab63fa",
           "#FFA15A",
           "#19d3f3",
           "#FF6692",
           "#B6E880",
           "#FF97FF",
           "#FECB52"
          ],
          "font": {
           "color": "#2a3f5f"
          },
          "geo": {
           "bgcolor": "white",
           "lakecolor": "white",
           "landcolor": "#E5ECF6",
           "showlakes": true,
           "showland": true,
           "subunitcolor": "white"
          },
          "hoverlabel": {
           "align": "left"
          },
          "hovermode": "closest",
          "mapbox": {
           "style": "light"
          },
          "paper_bgcolor": "white",
          "plot_bgcolor": "#E5ECF6",
          "polar": {
           "angularaxis": {
            "gridcolor": "white",
            "linecolor": "white",
            "ticks": ""
           },
           "bgcolor": "#E5ECF6",
           "radialaxis": {
            "gridcolor": "white",
            "linecolor": "white",
            "ticks": ""
           }
          },
          "scene": {
           "xaxis": {
            "backgroundcolor": "#E5ECF6",
            "gridcolor": "white",
            "gridwidth": 2,
            "linecolor": "white",
            "showbackground": true,
            "ticks": "",
            "zerolinecolor": "white"
           },
           "yaxis": {
            "backgroundcolor": "#E5ECF6",
            "gridcolor": "white",
            "gridwidth": 2,
            "linecolor": "white",
            "showbackground": true,
            "ticks": "",
            "zerolinecolor": "white"
           },
           "zaxis": {
            "backgroundcolor": "#E5ECF6",
            "gridcolor": "white",
            "gridwidth": 2,
            "linecolor": "white",
            "showbackground": true,
            "ticks": "",
            "zerolinecolor": "white"
           }
          },
          "shapedefaults": {
           "line": {
            "color": "#2a3f5f"
           }
          },
          "ternary": {
           "aaxis": {
            "gridcolor": "white",
            "linecolor": "white",
            "ticks": ""
           },
           "baxis": {
            "gridcolor": "white",
            "linecolor": "white",
            "ticks": ""
           },
           "bgcolor": "#E5ECF6",
           "caxis": {
            "gridcolor": "white",
            "linecolor": "white",
            "ticks": ""
           }
          },
          "title": {
           "x": 0.05
          },
          "xaxis": {
           "automargin": true,
           "gridcolor": "white",
           "linecolor": "white",
           "ticks": "",
           "title": {
            "standoff": 15
           },
           "zerolinecolor": "white",
           "zerolinewidth": 2
          },
          "yaxis": {
           "automargin": true,
           "gridcolor": "white",
           "linecolor": "white",
           "ticks": "",
           "title": {
            "standoff": 15
           },
           "zerolinecolor": "white",
           "zerolinewidth": 2
          }
         }
        },
        "title": {
         "text": "Trayectoria Whiskers - Estable - Individuo 7"
        }
       }
      }
     },
     "metadata": {},
     "output_type": "display_data"
    },
    {
     "data": {
      "application/vnd.plotly.v1+json": {
       "config": {
        "plotlyServerURL": "https://plot.ly"
       },
       "data": [
        {
         "marker": {
          "color": "red",
          "size": 5
         },
         "mode": "markers",
         "name": "Flor",
         "type": "scatter3d",
         "x": [
          0
         ],
         "y": [
          0
         ],
         "z": [
          0
         ]
        },
        {
         "line": {
          "color": "#440154",
          "dash": "dash",
          "width": 2
         },
         "mode": "lines",
         "name": "Vuelo 1",
         "type": "scatter3d",
         "x": [
          0,
          1,
          -3,
          -7,
          -11,
          -8,
          -5,
          -1,
          -1,
          -3,
          -5,
          -8,
          -10,
          -11,
          -11,
          -10,
          -10,
          -10,
          -10,
          -10,
          -10,
          -8,
          -9,
          -7,
          -7,
          -5,
          -5,
          -3,
          -1,
          -3,
          -6,
          -8,
          -9,
          -9,
          -7,
          -7,
          -8,
          -7,
          -2,
          -2,
          -3,
          -6,
          -8,
          -7,
          -3,
          -2,
          -2,
          -5,
          -8,
          -5,
          -2,
          1,
          0,
          -6,
          -7,
          -5,
          0,
          0,
          -2,
          -5,
          -6,
          -7,
          -5,
          -1,
          6,
          3,
          -2,
          -12,
          -9,
          0,
          1,
          0,
          -5,
          -9,
          -9,
          -3,
          -1,
          -1,
          -4,
          -4,
          -2,
          -2,
          -6,
          -9,
          -9,
          -8,
          -6,
          -5,
          -9,
          -7,
          -9,
          -9,
          -4,
          -5,
          -7,
          -6,
          -5,
          -1,
          -3,
          -2,
          -5,
          -8,
          -11,
          -7,
          -6,
          -4,
          -2,
          -3
         ],
         "y": [
          0,
          5,
          13,
          20,
          25,
          20,
          20,
          18,
          17,
          19,
          23,
          22,
          21,
          24,
          24,
          25,
          19,
          19,
          22,
          23,
          22,
          19,
          25,
          22,
          23,
          20,
          21,
          25,
          26,
          24,
          21,
          20,
          23,
          25,
          25,
          22,
          17,
          26,
          26,
          25,
          26,
          23,
          21,
          24,
          26,
          25,
          25,
          18,
          20,
          24,
          25,
          23,
          22,
          16,
          20,
          25,
          24,
          22,
          18,
          19,
          16,
          19,
          25,
          23,
          20,
          17,
          16,
          17,
          17,
          16,
          16,
          17,
          15,
          17,
          20,
          17,
          17,
          16,
          17,
          15,
          15,
          16,
          16,
          17,
          16,
          16,
          16,
          17,
          19,
          18,
          17,
          18,
          15,
          14,
          16,
          16,
          14,
          17,
          13,
          9,
          18,
          23,
          21,
          25,
          22,
          19,
          17,
          8
         ],
         "z": [
          0,
          2,
          -11,
          -16,
          -23,
          -23,
          -18,
          -14,
          -10,
          -15,
          -18,
          -17,
          -20,
          -17,
          -20,
          -21,
          -21,
          -16,
          -19,
          -21,
          -21,
          -19,
          -17,
          -20,
          -20,
          -16,
          -17,
          -22,
          -26,
          -24,
          -20,
          -17,
          -20,
          -19,
          -19,
          -18,
          -17,
          -22,
          -21,
          -25,
          -23,
          -23,
          -21,
          -21,
          -20,
          -23,
          -22,
          -17,
          -18,
          -22,
          -21,
          -23,
          -20,
          -19,
          -22,
          -20,
          -21,
          -22,
          -19,
          -16,
          -16,
          -20,
          -24,
          -21,
          -14,
          -7,
          -3,
          -2,
          -6,
          -8,
          -6,
          -3,
          -2,
          -8,
          -10,
          -5,
          -1,
          -1,
          -7,
          -6,
          -2,
          -1,
          -6,
          -9,
          -3,
          -1,
          -1,
          -4,
          -5,
          -8,
          -4,
          -6,
          -2,
          -4,
          -4,
          -3,
          -4,
          0,
          -8,
          -7,
          -9,
          -17,
          -18,
          -20,
          -17,
          -15,
          -16,
          -12
         ]
        },
        {
         "line": {
          "color": "#482576",
          "dash": "dash",
          "width": 2
         },
         "mode": "lines",
         "name": "Vuelo 3",
         "type": "scatter3d",
         "x": [
          0,
          2,
          -1,
          1,
          4,
          7,
          9,
          6,
          7,
          8,
          7,
          6,
          5,
          8,
          9,
          4,
          2,
          5,
          5,
          3,
          2,
          6,
          7,
          6,
          4,
          3,
          6,
          7,
          6,
          3,
          2,
          7,
          11,
          11,
          5
         ],
         "y": [
          0,
          -14,
          -11,
          2,
          4,
          5,
          1,
          3,
          5,
          9,
          1,
          3,
          5,
          8,
          6,
          9,
          10,
          9,
          7,
          2,
          8,
          9,
          12,
          12,
          6,
          12,
          12,
          11,
          8,
          3,
          8,
          9,
          11,
          10,
          5
         ],
         "z": [
          0,
          4,
          5,
          -3,
          -6,
          -8,
          -7,
          -12,
          -11,
          -11,
          -11,
          -11,
          -8,
          -8,
          -10,
          -16,
          -15,
          -13,
          -11,
          -11,
          -12,
          -15,
          -14,
          -14,
          -14,
          -15,
          -17,
          -17,
          -13,
          -13,
          -15,
          -16,
          -14,
          -14,
          -3
         ]
        },
        {
         "line": {
          "color": "#404688",
          "dash": "dash",
          "width": 2
         },
         "mode": "lines",
         "name": "Vuelo 5",
         "type": "scatter3d",
         "x": [
          0,
          -1,
          0,
          -4,
          -7,
          -5,
          -5,
          2,
          3,
          6,
          7,
          5,
          5,
          9
         ],
         "y": [
          0,
          -15,
          -19,
          -9,
          3,
          5,
          3,
          2,
          6,
          10,
          9,
          6,
          10,
          6
         ],
         "z": [
          0,
          4,
          8,
          2,
          -6,
          -12,
          -13,
          -8,
          -8,
          -9,
          -12,
          -11,
          -13,
          -6
         ]
        },
        {
         "line": {
          "color": "#33638d",
          "dash": "dash",
          "width": 2
         },
         "mode": "lines",
         "name": "Vuelo 7",
         "type": "scatter3d",
         "x": [
          0,
          1,
          -1,
          -3,
          -3,
          -3,
          -2,
          -3,
          -3,
          -2,
          1,
          1,
          0,
          -2,
          -1,
          -4,
          -3,
          -3,
          -1,
          -3,
          -5,
          -4,
          -3,
          -1,
          -3,
          -3,
          0,
          2,
          0,
          -3,
          0
         ],
         "y": [
          0,
          -7,
          -4,
          1,
          6,
          5,
          3,
          3,
          1,
          5,
          1,
          0,
          0,
          1,
          4,
          0,
          5,
          5,
          3,
          -2,
          0,
          3,
          6,
          2,
          -1,
          7,
          7,
          2,
          -1,
          5,
          6
         ],
         "z": [
          0,
          2,
          -2.5,
          -7,
          -9.5,
          -12,
          -11,
          -10,
          -8,
          -10,
          -11,
          -7,
          -7,
          -10,
          -10,
          -10,
          -11,
          -11,
          -14,
          -9,
          -9,
          -12,
          -12,
          -11,
          -12,
          -10,
          -15,
          -14,
          -11,
          -8,
          -13
         ]
        },
        {
         "line": {
          "color": "#287d8e",
          "dash": "dash",
          "width": 2
         },
         "mode": "lines",
         "name": "Vuelo 9",
         "type": "scatter3d",
         "x": [
          0,
          0,
          -2,
          -2,
          -1,
          -1,
          -1,
          -1,
          0,
          2,
          2,
          0,
          -2,
          -3,
          -4,
          -1,
          -1,
          -2,
          -4,
          -4,
          -2,
          0,
          -5,
          -5,
          -4,
          -3,
          -3,
          -6,
          -6
         ],
         "y": [
          0,
          -3,
          5,
          11,
          9,
          6,
          5,
          5,
          3,
          2,
          3,
          8,
          7,
          0,
          6,
          7,
          4,
          4,
          5,
          7,
          8,
          5,
          2,
          7,
          7,
          2,
          2,
          -1,
          7
         ],
         "z": [
          0,
          -7,
          -12,
          -9,
          -9,
          -3,
          -5,
          -3,
          -4,
          -2,
          -7,
          -9,
          -5,
          -5,
          -7,
          -7,
          -6,
          -6,
          -9,
          -12,
          -10,
          -4,
          -7,
          -9,
          -10,
          1,
          0,
          -9,
          -10
         ]
        },
        {
         "line": {
          "color": "#1f968b",
          "dash": "dash",
          "width": 2
         },
         "mode": "lines",
         "name": "Vuelo 11",
         "type": "scatter3d",
         "x": [
          0,
          -3,
          -4,
          -8,
          -9,
          -7,
          -5,
          -5,
          -7,
          -6,
          -8,
          -7,
          -5,
          -5,
          -6,
          -5,
          -2,
          -3,
          -6,
          -3,
          -2,
          -2,
          -5,
          -6,
          -4,
          -1,
          1,
          1,
          0,
          -1,
          1,
          0,
          -2,
          -3,
          -5
         ],
         "y": [
          0,
          -7,
          -8,
          0,
          6,
          4,
          2,
          2,
          4,
          0,
          4,
          7,
          7,
          4,
          5,
          6,
          6,
          2,
          6,
          8,
          4,
          3,
          -2,
          2,
          8,
          8,
          5,
          0,
          -2,
          1,
          0,
          -1,
          -2,
          0,
          -1
         ],
         "z": [
          0,
          -1,
          -2,
          -3,
          -9,
          -10,
          -9,
          -10,
          -11,
          -8.5,
          -6,
          -9,
          -13,
          -12,
          -13,
          -13,
          -12,
          -10,
          -11,
          -13,
          -14,
          -12,
          -4,
          -8,
          -15,
          -14,
          -4,
          -2,
          2,
          -2,
          -2,
          -1,
          3,
          1,
          0
         ]
        },
        {
         "line": {
          "color": "#29af7f",
          "dash": "dash",
          "width": 2
         },
         "mode": "lines",
         "name": "Vuelo 13",
         "type": "scatter3d",
         "x": [
          0,
          -1,
          5,
          5,
          3,
          5,
          5,
          7,
          6,
          8,
          6,
          3,
          0,
          3,
          1,
          1,
          -2,
          4,
          2,
          -1,
          -1,
          1,
          1,
          -3,
          -3,
          -3,
          0,
          0,
          -5,
          0,
          9,
          12,
          13,
          12,
          6,
          3,
          3,
          2,
          -1,
          4,
          5,
          -1,
          3,
          1,
          1
         ],
         "y": [
          0,
          -3,
          -6,
          0,
          9,
          15,
          13,
          8,
          11,
          11,
          10,
          11,
          9,
          11,
          10,
          14,
          13,
          12,
          11,
          11,
          15,
          14,
          9,
          8,
          14,
          15,
          16,
          10,
          10,
          14,
          13,
          13,
          10,
          4,
          5,
          4,
          5,
          5,
          2,
          5,
          1,
          -3,
          -3,
          1,
          2
         ],
         "z": [
          0,
          1,
          1,
          -4,
          -8,
          -13,
          -15,
          -10,
          -5,
          -5,
          -9,
          -13,
          -10,
          -10,
          -12,
          -13,
          -17,
          -16,
          -12,
          -12,
          -17,
          -15,
          -13,
          -12,
          -16,
          -17,
          -17,
          -15,
          -14,
          -17,
          -12,
          -5,
          -4,
          1,
          -3,
          -11,
          -9,
          -8,
          -4,
          -3.5,
          -3,
          -2,
          -1,
          2.5,
          6
         ]
        },
        {
         "line": {
          "color": "#56c667",
          "dash": "dash",
          "width": 2
         },
         "mode": "lines",
         "name": "Vuelo 15",
         "type": "scatter3d",
         "x": [
          0,
          3,
          6,
          2,
          -1,
          -3,
          -3,
          -2,
          -3,
          -4,
          -5,
          -4,
          -4,
          -4,
          -4,
          -5,
          -4,
          -3,
          -3,
          -7,
          -5,
          -5,
          -3,
          -3,
          -2
         ],
         "y": [
          0,
          -4,
          -3,
          -5,
          -6,
          -2,
          -1,
          -3,
          -5,
          -2,
          -1,
          -4,
          0,
          0,
          0,
          -2,
          1,
          2,
          0,
          -3,
          4,
          1,
          2,
          0,
          5
         ],
         "z": [
          0,
          1,
          -2,
          -2,
          -1,
          -2,
          -3,
          -3,
          -3,
          -3,
          -3,
          -7,
          -7,
          -7,
          -5,
          -8,
          -8,
          -6,
          -5,
          -9,
          -13,
          -12,
          -7,
          -6,
          -9
         ]
        },
        {
         "line": {
          "color": "#95d840",
          "dash": "dash",
          "width": 2
         },
         "mode": "lines",
         "name": "Vuelo 17",
         "type": "scatter3d",
         "x": [
          0,
          6,
          2,
          -2,
          -5,
          -6,
          0,
          5,
          5,
          4,
          4,
          6,
          4,
          3,
          3,
          3,
          0,
          1,
          1,
          0,
          -3,
          1,
          3,
          2,
          0,
          -2,
          2,
          2,
          3,
          4,
          6,
          8,
          6,
          4,
          4,
          5,
          5,
          7,
          8,
          7,
          5,
          2,
          4,
          4,
          3,
          4,
          5,
          7,
          9,
          11,
          8,
          5,
          1,
          4
         ],
         "y": [
          0,
          -1,
          2,
          1,
          3,
          7,
          12,
          10,
          8,
          10,
          10,
          8,
          8,
          8,
          9,
          9,
          10,
          10,
          12,
          7,
          9,
          11,
          12,
          11,
          10,
          12,
          12,
          10,
          11,
          11,
          10,
          7,
          4,
          8,
          6,
          7,
          8,
          6,
          5,
          7,
          9,
          11,
          12,
          12,
          11,
          8,
          11,
          10,
          8,
          2,
          6,
          7,
          6,
          4
         ],
         "z": [
          0,
          -1,
          -8,
          -10,
          -20,
          -20,
          -17,
          -16,
          -14,
          -14,
          -16,
          -13,
          -12,
          -16,
          -17,
          -16,
          -17,
          -18,
          -17,
          -14,
          -17,
          -17,
          -16,
          -15,
          -15,
          -20,
          -20,
          -18,
          -13,
          -12,
          -7,
          -4,
          -4,
          -6.5,
          -9,
          -8.5,
          -8,
          -11.5,
          -15,
          -14,
          -14,
          -18,
          -18,
          -17,
          -12,
          -15,
          -17,
          -11,
          -3,
          -1,
          -7,
          -7,
          -3,
          -3
         ]
        },
        {
         "line": {
          "color": "#dde318",
          "dash": "dash",
          "width": 2
         },
         "mode": "lines",
         "name": "Vuelo 19",
         "type": "scatter3d",
         "x": [
          0,
          0,
          -3,
          -4,
          -7,
          -8,
          -8,
          -6,
          -4,
          -4,
          -2,
          -3,
          -4,
          -2,
          -3,
          -5,
          -7,
          -5,
          -6,
          -7,
          -6,
          -4,
          -3,
          -1
         ],
         "y": [
          0,
          1,
          0,
          4,
          4,
          5,
          3,
          -1,
          2,
          3,
          6,
          2,
          4,
          6,
          3,
          1,
          4,
          6,
          1,
          2,
          6,
          3,
          2,
          4
         ],
         "z": [
          0,
          -4,
          -7,
          -13,
          -11,
          -12,
          -13,
          -8,
          -5,
          -7,
          -10,
          -10,
          -10,
          -14,
          -12,
          -9,
          -12,
          -12,
          -11,
          -10,
          -10,
          -12,
          -9,
          -9.5
         ]
        }
       ],
       "layout": {
        "scene": {
         "camera": {
          "eye": {
           "x": 1.5,
           "y": 1.5,
           "z": 1.5
          }
         },
         "xaxis": {
          "backgroundcolor": "lightblue",
          "dtick": 10,
          "gridwidth": 0.5,
          "range": [
           -17,
           21
          ],
          "showticklabels": false,
          "tickmode": "linear"
         },
         "yaxis": {
          "backgroundcolor": "lightblue",
          "dtick": 10,
          "gridwidth": 0.5,
          "range": [
           -24,
           31
          ],
          "showticklabels": false,
          "tickmode": "linear"
         },
         "zaxis": {
          "backgroundcolor": "lightblue",
          "dtick": 10,
          "gridwidth": 0.5,
          "range": [
           -31,
           13
          ],
          "showticklabels": false,
          "tickmode": "linear"
         }
        },
        "template": {
         "data": {
          "bar": [
           {
            "error_x": {
             "color": "#2a3f5f"
            },
            "error_y": {
             "color": "#2a3f5f"
            },
            "marker": {
             "line": {
              "color": "#E5ECF6",
              "width": 0.5
             },
             "pattern": {
              "fillmode": "overlay",
              "size": 10,
              "solidity": 0.2
             }
            },
            "type": "bar"
           }
          ],
          "barpolar": [
           {
            "marker": {
             "line": {
              "color": "#E5ECF6",
              "width": 0.5
             },
             "pattern": {
              "fillmode": "overlay",
              "size": 10,
              "solidity": 0.2
             }
            },
            "type": "barpolar"
           }
          ],
          "carpet": [
           {
            "aaxis": {
             "endlinecolor": "#2a3f5f",
             "gridcolor": "white",
             "linecolor": "white",
             "minorgridcolor": "white",
             "startlinecolor": "#2a3f5f"
            },
            "baxis": {
             "endlinecolor": "#2a3f5f",
             "gridcolor": "white",
             "linecolor": "white",
             "minorgridcolor": "white",
             "startlinecolor": "#2a3f5f"
            },
            "type": "carpet"
           }
          ],
          "choropleth": [
           {
            "colorbar": {
             "outlinewidth": 0,
             "ticks": ""
            },
            "type": "choropleth"
           }
          ],
          "contour": [
           {
            "colorbar": {
             "outlinewidth": 0,
             "ticks": ""
            },
            "colorscale": [
             [
              0,
              "#0d0887"
             ],
             [
              0.1111111111111111,
              "#46039f"
             ],
             [
              0.2222222222222222,
              "#7201a8"
             ],
             [
              0.3333333333333333,
              "#9c179e"
             ],
             [
              0.4444444444444444,
              "#bd3786"
             ],
             [
              0.5555555555555556,
              "#d8576b"
             ],
             [
              0.6666666666666666,
              "#ed7953"
             ],
             [
              0.7777777777777778,
              "#fb9f3a"
             ],
             [
              0.8888888888888888,
              "#fdca26"
             ],
             [
              1,
              "#f0f921"
             ]
            ],
            "type": "contour"
           }
          ],
          "contourcarpet": [
           {
            "colorbar": {
             "outlinewidth": 0,
             "ticks": ""
            },
            "type": "contourcarpet"
           }
          ],
          "heatmap": [
           {
            "colorbar": {
             "outlinewidth": 0,
             "ticks": ""
            },
            "colorscale": [
             [
              0,
              "#0d0887"
             ],
             [
              0.1111111111111111,
              "#46039f"
             ],
             [
              0.2222222222222222,
              "#7201a8"
             ],
             [
              0.3333333333333333,
              "#9c179e"
             ],
             [
              0.4444444444444444,
              "#bd3786"
             ],
             [
              0.5555555555555556,
              "#d8576b"
             ],
             [
              0.6666666666666666,
              "#ed7953"
             ],
             [
              0.7777777777777778,
              "#fb9f3a"
             ],
             [
              0.8888888888888888,
              "#fdca26"
             ],
             [
              1,
              "#f0f921"
             ]
            ],
            "type": "heatmap"
           }
          ],
          "heatmapgl": [
           {
            "colorbar": {
             "outlinewidth": 0,
             "ticks": ""
            },
            "colorscale": [
             [
              0,
              "#0d0887"
             ],
             [
              0.1111111111111111,
              "#46039f"
             ],
             [
              0.2222222222222222,
              "#7201a8"
             ],
             [
              0.3333333333333333,
              "#9c179e"
             ],
             [
              0.4444444444444444,
              "#bd3786"
             ],
             [
              0.5555555555555556,
              "#d8576b"
             ],
             [
              0.6666666666666666,
              "#ed7953"
             ],
             [
              0.7777777777777778,
              "#fb9f3a"
             ],
             [
              0.8888888888888888,
              "#fdca26"
             ],
             [
              1,
              "#f0f921"
             ]
            ],
            "type": "heatmapgl"
           }
          ],
          "histogram": [
           {
            "marker": {
             "pattern": {
              "fillmode": "overlay",
              "size": 10,
              "solidity": 0.2
             }
            },
            "type": "histogram"
           }
          ],
          "histogram2d": [
           {
            "colorbar": {
             "outlinewidth": 0,
             "ticks": ""
            },
            "colorscale": [
             [
              0,
              "#0d0887"
             ],
             [
              0.1111111111111111,
              "#46039f"
             ],
             [
              0.2222222222222222,
              "#7201a8"
             ],
             [
              0.3333333333333333,
              "#9c179e"
             ],
             [
              0.4444444444444444,
              "#bd3786"
             ],
             [
              0.5555555555555556,
              "#d8576b"
             ],
             [
              0.6666666666666666,
              "#ed7953"
             ],
             [
              0.7777777777777778,
              "#fb9f3a"
             ],
             [
              0.8888888888888888,
              "#fdca26"
             ],
             [
              1,
              "#f0f921"
             ]
            ],
            "type": "histogram2d"
           }
          ],
          "histogram2dcontour": [
           {
            "colorbar": {
             "outlinewidth": 0,
             "ticks": ""
            },
            "colorscale": [
             [
              0,
              "#0d0887"
             ],
             [
              0.1111111111111111,
              "#46039f"
             ],
             [
              0.2222222222222222,
              "#7201a8"
             ],
             [
              0.3333333333333333,
              "#9c179e"
             ],
             [
              0.4444444444444444,
              "#bd3786"
             ],
             [
              0.5555555555555556,
              "#d8576b"
             ],
             [
              0.6666666666666666,
              "#ed7953"
             ],
             [
              0.7777777777777778,
              "#fb9f3a"
             ],
             [
              0.8888888888888888,
              "#fdca26"
             ],
             [
              1,
              "#f0f921"
             ]
            ],
            "type": "histogram2dcontour"
           }
          ],
          "mesh3d": [
           {
            "colorbar": {
             "outlinewidth": 0,
             "ticks": ""
            },
            "type": "mesh3d"
           }
          ],
          "parcoords": [
           {
            "line": {
             "colorbar": {
              "outlinewidth": 0,
              "ticks": ""
             }
            },
            "type": "parcoords"
           }
          ],
          "pie": [
           {
            "automargin": true,
            "type": "pie"
           }
          ],
          "scatter": [
           {
            "fillpattern": {
             "fillmode": "overlay",
             "size": 10,
             "solidity": 0.2
            },
            "type": "scatter"
           }
          ],
          "scatter3d": [
           {
            "line": {
             "colorbar": {
              "outlinewidth": 0,
              "ticks": ""
             }
            },
            "marker": {
             "colorbar": {
              "outlinewidth": 0,
              "ticks": ""
             }
            },
            "type": "scatter3d"
           }
          ],
          "scattercarpet": [
           {
            "marker": {
             "colorbar": {
              "outlinewidth": 0,
              "ticks": ""
             }
            },
            "type": "scattercarpet"
           }
          ],
          "scattergeo": [
           {
            "marker": {
             "colorbar": {
              "outlinewidth": 0,
              "ticks": ""
             }
            },
            "type": "scattergeo"
           }
          ],
          "scattergl": [
           {
            "marker": {
             "colorbar": {
              "outlinewidth": 0,
              "ticks": ""
             }
            },
            "type": "scattergl"
           }
          ],
          "scattermapbox": [
           {
            "marker": {
             "colorbar": {
              "outlinewidth": 0,
              "ticks": ""
             }
            },
            "type": "scattermapbox"
           }
          ],
          "scatterpolar": [
           {
            "marker": {
             "colorbar": {
              "outlinewidth": 0,
              "ticks": ""
             }
            },
            "type": "scatterpolar"
           }
          ],
          "scatterpolargl": [
           {
            "marker": {
             "colorbar": {
              "outlinewidth": 0,
              "ticks": ""
             }
            },
            "type": "scatterpolargl"
           }
          ],
          "scatterternary": [
           {
            "marker": {
             "colorbar": {
              "outlinewidth": 0,
              "ticks": ""
             }
            },
            "type": "scatterternary"
           }
          ],
          "surface": [
           {
            "colorbar": {
             "outlinewidth": 0,
             "ticks": ""
            },
            "colorscale": [
             [
              0,
              "#0d0887"
             ],
             [
              0.1111111111111111,
              "#46039f"
             ],
             [
              0.2222222222222222,
              "#7201a8"
             ],
             [
              0.3333333333333333,
              "#9c179e"
             ],
             [
              0.4444444444444444,
              "#bd3786"
             ],
             [
              0.5555555555555556,
              "#d8576b"
             ],
             [
              0.6666666666666666,
              "#ed7953"
             ],
             [
              0.7777777777777778,
              "#fb9f3a"
             ],
             [
              0.8888888888888888,
              "#fdca26"
             ],
             [
              1,
              "#f0f921"
             ]
            ],
            "type": "surface"
           }
          ],
          "table": [
           {
            "cells": {
             "fill": {
              "color": "#EBF0F8"
             },
             "line": {
              "color": "white"
             }
            },
            "header": {
             "fill": {
              "color": "#C8D4E3"
             },
             "line": {
              "color": "white"
             }
            },
            "type": "table"
           }
          ]
         },
         "layout": {
          "annotationdefaults": {
           "arrowcolor": "#2a3f5f",
           "arrowhead": 0,
           "arrowwidth": 1
          },
          "autotypenumbers": "strict",
          "coloraxis": {
           "colorbar": {
            "outlinewidth": 0,
            "ticks": ""
           }
          },
          "colorscale": {
           "diverging": [
            [
             0,
             "#8e0152"
            ],
            [
             0.1,
             "#c51b7d"
            ],
            [
             0.2,
             "#de77ae"
            ],
            [
             0.3,
             "#f1b6da"
            ],
            [
             0.4,
             "#fde0ef"
            ],
            [
             0.5,
             "#f7f7f7"
            ],
            [
             0.6,
             "#e6f5d0"
            ],
            [
             0.7,
             "#b8e186"
            ],
            [
             0.8,
             "#7fbc41"
            ],
            [
             0.9,
             "#4d9221"
            ],
            [
             1,
             "#276419"
            ]
           ],
           "sequential": [
            [
             0,
             "#0d0887"
            ],
            [
             0.1111111111111111,
             "#46039f"
            ],
            [
             0.2222222222222222,
             "#7201a8"
            ],
            [
             0.3333333333333333,
             "#9c179e"
            ],
            [
             0.4444444444444444,
             "#bd3786"
            ],
            [
             0.5555555555555556,
             "#d8576b"
            ],
            [
             0.6666666666666666,
             "#ed7953"
            ],
            [
             0.7777777777777778,
             "#fb9f3a"
            ],
            [
             0.8888888888888888,
             "#fdca26"
            ],
            [
             1,
             "#f0f921"
            ]
           ],
           "sequentialminus": [
            [
             0,
             "#0d0887"
            ],
            [
             0.1111111111111111,
             "#46039f"
            ],
            [
             0.2222222222222222,
             "#7201a8"
            ],
            [
             0.3333333333333333,
             "#9c179e"
            ],
            [
             0.4444444444444444,
             "#bd3786"
            ],
            [
             0.5555555555555556,
             "#d8576b"
            ],
            [
             0.6666666666666666,
             "#ed7953"
            ],
            [
             0.7777777777777778,
             "#fb9f3a"
            ],
            [
             0.8888888888888888,
             "#fdca26"
            ],
            [
             1,
             "#f0f921"
            ]
           ]
          },
          "colorway": [
           "#636efa",
           "#EF553B",
           "#00cc96",
           "#ab63fa",
           "#FFA15A",
           "#19d3f3",
           "#FF6692",
           "#B6E880",
           "#FF97FF",
           "#FECB52"
          ],
          "font": {
           "color": "#2a3f5f"
          },
          "geo": {
           "bgcolor": "white",
           "lakecolor": "white",
           "landcolor": "#E5ECF6",
           "showlakes": true,
           "showland": true,
           "subunitcolor": "white"
          },
          "hoverlabel": {
           "align": "left"
          },
          "hovermode": "closest",
          "mapbox": {
           "style": "light"
          },
          "paper_bgcolor": "white",
          "plot_bgcolor": "#E5ECF6",
          "polar": {
           "angularaxis": {
            "gridcolor": "white",
            "linecolor": "white",
            "ticks": ""
           },
           "bgcolor": "#E5ECF6",
           "radialaxis": {
            "gridcolor": "white",
            "linecolor": "white",
            "ticks": ""
           }
          },
          "scene": {
           "xaxis": {
            "backgroundcolor": "#E5ECF6",
            "gridcolor": "white",
            "gridwidth": 2,
            "linecolor": "white",
            "showbackground": true,
            "ticks": "",
            "zerolinecolor": "white"
           },
           "yaxis": {
            "backgroundcolor": "#E5ECF6",
            "gridcolor": "white",
            "gridwidth": 2,
            "linecolor": "white",
            "showbackground": true,
            "ticks": "",
            "zerolinecolor": "white"
           },
           "zaxis": {
            "backgroundcolor": "#E5ECF6",
            "gridcolor": "white",
            "gridwidth": 2,
            "linecolor": "white",
            "showbackground": true,
            "ticks": "",
            "zerolinecolor": "white"
           }
          },
          "shapedefaults": {
           "line": {
            "color": "#2a3f5f"
           }
          },
          "ternary": {
           "aaxis": {
            "gridcolor": "white",
            "linecolor": "white",
            "ticks": ""
           },
           "baxis": {
            "gridcolor": "white",
            "linecolor": "white",
            "ticks": ""
           },
           "bgcolor": "#E5ECF6",
           "caxis": {
            "gridcolor": "white",
            "linecolor": "white",
            "ticks": ""
           }
          },
          "title": {
           "x": 0.05
          },
          "xaxis": {
           "automargin": true,
           "gridcolor": "white",
           "linecolor": "white",
           "ticks": "",
           "title": {
            "standoff": 15
           },
           "zerolinecolor": "white",
           "zerolinewidth": 2
          },
          "yaxis": {
           "automargin": true,
           "gridcolor": "white",
           "linecolor": "white",
           "ticks": "",
           "title": {
            "standoff": 15
           },
           "zerolinecolor": "white",
           "zerolinewidth": 2
          }
         }
        },
        "title": {
         "text": "Trayectoria No whiskers - Estable - Individuo 7"
        }
       }
      }
     },
     "metadata": {},
     "output_type": "display_data"
    }
   ],
   "source": [
    "plot_flower_bat(7, 'Whiskers', 'Flexible')\n",
    "plot_flower_bat(7, 'No whiskers', 'Flexible')\n",
    "plot_flower_bat(7, 'Whiskers', 'Estable')\n",
    "plot_flower_bat(7, 'No whiskers', 'Estable')"
   ]
  },
  {
   "cell_type": "code",
   "execution_count": null,
   "metadata": {},
   "outputs": [],
   "source": []
  }
 ],
 "metadata": {
  "kernelspec": {
   "display_name": "Python 3",
   "language": "python",
   "name": "python3"
  },
  "language_info": {
   "codemirror_mode": {
    "name": "ipython",
    "version": 3
   },
   "file_extension": ".py",
   "mimetype": "text/x-python",
   "name": "python",
   "nbconvert_exporter": "python",
   "pygments_lexer": "ipython3",
   "version": "3.11.3"
  }
 },
 "nbformat": 4,
 "nbformat_minor": 2
}
