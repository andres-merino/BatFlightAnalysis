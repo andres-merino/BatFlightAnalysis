{
 "cells": [
  {
   "cell_type": "markdown",
   "metadata": {},
   "source": [
    "# BatFlightAnalysis"
   ]
  },
  {
   "cell_type": "markdown",
   "metadata": {},
   "source": [
    "## Paquetes"
   ]
  },
  {
   "cell_type": "code",
   "execution_count": 12,
   "metadata": {},
   "outputs": [],
   "source": [
    "import pandas as pd\n",
    "import numpy as np\n",
    "\n",
    "from BatFlightAnalysis import read_data, split_data"
   ]
  },
  {
   "cell_type": "markdown",
   "metadata": {},
   "source": [
    "## Código"
   ]
  },
  {
   "cell_type": "markdown",
   "metadata": {},
   "source": [
    "### Lectura de datos"
   ]
  },
  {
   "cell_type": "code",
   "execution_count": 13,
   "metadata": {},
   "outputs": [],
   "source": [
    "data_bef, data_fee, data_aft = read_data('data/output_points_1_no_whiskers.xlsx')"
   ]
  },
  {
   "cell_type": "code",
   "execution_count": 14,
   "metadata": {},
   "outputs": [
    {
     "name": "stdout",
     "output_type": "stream",
     "text": [
      "      x    y      z\n",
      "9   281   94  349.0\n",
      "10  283   98  345.0\n",
      "11  283  100  341.0\n",
      "12  283  103  338.0\n",
      "13  288  103  336.0\n"
     ]
    }
   ],
   "source": [
    "# Split data into flower and bat data; before, during, and after feeding\n",
    "flower_bef, flower_fee, flower_aft, bat_bef, bat_fee, bat_aft = split_data(data_bef, data_fee, data_aft)\n",
    "\n",
    "# Show the data\n",
    "print(bat_fee.head())\n",
    "\n",
    "# Concatenate the data\n",
    "flower = pd.concat([flower_bef, flower_fee, flower_aft])\n",
    "bat = pd.concat([bat_bef, bat_fee, bat_aft])\n",
    "data = pd.concat([flower, bat])"
   ]
  },
  {
   "cell_type": "markdown",
   "metadata": {},
   "source": [
    "### Curvatura"
   ]
  },
  {
   "cell_type": "code",
   "execution_count": 15,
   "metadata": {},
   "outputs": [],
   "source": [
    "df = flower_fee.copy()"
   ]
  },
  {
   "cell_type": "code",
   "execution_count": 16,
   "metadata": {},
   "outputs": [
    {
     "name": "stdout",
     "output_type": "stream",
     "text": [
      "Desviación Estándar de la Curvatura: 1.8368621915524173\n",
      "Media de la Curvatura: 0.5475373323457154\n"
     ]
    }
   ],
   "source": [
    "# Convertir a arrays de numpy\n",
    "x = np.array(df['x'])\n",
    "y = np.array(df['y'])\n",
    "z = np.array(df['z'])\n",
    "\n",
    "# Calcular las derivadas usando diferencias finitas\n",
    "dx = np.gradient(x)\n",
    "dy = np.gradient(y)\n",
    "dz = np.gradient(z)\n",
    "\n",
    "ddx = np.gradient(dx)\n",
    "ddy = np.gradient(dy)\n",
    "ddz = np.gradient(dz)\n",
    "\n",
    "# Calcular la curvatura\n",
    "curvatura = np.zeros(len(x))\n",
    "\n",
    "for i in range(len(x)):\n",
    "    # Vectores de la primera y segunda derivada\n",
    "    r_prime = np.array([dx[i], dy[i], dz[i]])\n",
    "    r_double_prime = np.array([ddx[i], ddy[i], ddz[i]])\n",
    "    \n",
    "    # Producto cruzado de r' y r''\n",
    "    cross_product = np.cross(r_prime, r_double_prime)\n",
    "    \n",
    "    # Magnitud de r'\n",
    "    norm_r_prime = np.linalg.norm(r_prime)\n",
    "    \n",
    "    # Curvatura\n",
    "    curvatura[i] = np.linalg.norm(cross_product) / (norm_r_prime**3)\n",
    "\n",
    "# Añadir la curvatura al DataFrame\n",
    "df['curvatura'] = curvatura\n",
    "\n",
    "# Desviación Estándar de la curvatura\n",
    "std_curvatura = np.std(curvatura)\n",
    "print('Desviación Estándar de la Curvatura:', std_curvatura)\n",
    "\n",
    "# Media de la curvatura\n",
    "mean_curvatura = np.mean(curvatura)\n",
    "print('Media de la Curvatura:', mean_curvatura)\n"
   ]
  },
  {
   "cell_type": "markdown",
   "metadata": {},
   "source": [
    "### Longitud"
   ]
  },
  {
   "cell_type": "code",
   "execution_count": 17,
   "metadata": {},
   "outputs": [
    {
     "name": "stdout",
     "output_type": "stream",
     "text": [
      "Longitud Total: 375.82886152263075\n"
     ]
    }
   ],
   "source": [
    "# Longitud de la trayectoria\n",
    "longitud = np.zeros(len(x))\n",
    "\n",
    "for i in range(1, len(x)):\n",
    "    longitud[i] = longitud[i-1] + np.sqrt((x[i] - x[i-1])**2 + (y[i] - y[i-1])**2 + (z[i] - z[i-1])**2)\n",
    "\n",
    "# Añadir la longitud al DataFrame\n",
    "df['longitud'] = longitud\n",
    "\n",
    "# Longitud total\n",
    "longitud_total = longitud[-1]\n",
    "print('Longitud Total:', longitud_total)"
   ]
  },
  {
   "cell_type": "markdown",
   "metadata": {},
   "source": [
    "### Variación en cada eje"
   ]
  },
  {
   "cell_type": "code",
   "execution_count": 18,
   "metadata": {},
   "outputs": [
    {
     "name": "stdout",
     "output_type": "stream",
     "text": [
      "Longitud de la trayectoria en el eje x: 14\n",
      "Longitud de la trayectoria en el eje y: 15\n",
      "Longitud de la trayectoria en el eje z: 17.0\n",
      "Volumen del Espacio: 3570.0\n"
     ]
    }
   ],
   "source": [
    "# Longitud de la trayectoria en el eje x (máximo y mínimo)\n",
    "longitud_x = np.max(x) - np.min(x)\n",
    "print('Longitud de la trayectoria en el eje x:', longitud_x)\n",
    "\n",
    "# Longitud de la trayectoria en el eje y (máximo y mínimo)\n",
    "longitud_y = np.max(y) - np.min(y)\n",
    "print('Longitud de la trayectoria en el eje y:', longitud_y)\n",
    "\n",
    "# Longitud de la trayectoria en el eje z (máximo y mínimo)\n",
    "longitud_z = np.max(z) - np.min(z)\n",
    "print('Longitud de la trayectoria en el eje z:', longitud_z)\n",
    "\n",
    "# Volúmen del espacio\n",
    "volumen = longitud_x * longitud_y * longitud_z\n",
    "print('Volumen del Espacio:', volumen)"
   ]
  },
  {
   "cell_type": "code",
   "execution_count": null,
   "metadata": {},
   "outputs": [],
   "source": []
  }
 ],
 "metadata": {
  "kernelspec": {
   "display_name": "Python 3",
   "language": "python",
   "name": "python3"
  },
  "language_info": {
   "codemirror_mode": {
    "name": "ipython",
    "version": 3
   },
   "file_extension": ".py",
   "mimetype": "text/x-python",
   "name": "python",
   "nbconvert_exporter": "python",
   "pygments_lexer": "ipython3",
   "version": "3.9.7"
  }
 },
 "nbformat": 4,
 "nbformat_minor": 2
}
