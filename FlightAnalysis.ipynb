{
 "cells": [
  {
   "cell_type": "markdown",
   "metadata": {},
   "source": [
    "# BatFlightAnalysis"
   ]
  },
  {
   "cell_type": "markdown",
   "metadata": {},
   "source": [
    "## Paquetes"
   ]
  },
  {
   "cell_type": "code",
   "execution_count": 38,
   "metadata": {},
   "outputs": [],
   "source": [
    "import pandas as pd\n",
    "import numpy as np\n",
    "import os\n",
    "\n",
    "import matplotlib.pyplot as plt\n",
    "\n",
    "import statsmodels.api as sm\n",
    "import statsmodels.formula.api as smf\n",
    "\n",
    "from scipy.stats import wilcoxon\n",
    "\n",
    "from BatFlightAnalysis import read_data, split_data"
   ]
  },
  {
   "cell_type": "markdown",
   "metadata": {},
   "source": [
    "## Funciones"
   ]
  },
  {
   "cell_type": "code",
   "execution_count": 39,
   "metadata": {},
   "outputs": [],
   "source": [
    "def curvatura(df):\n",
    "    # Convertir a arrays de numpy\n",
    "    x = np.array(df['x'])\n",
    "    y = np.array(df['y'])\n",
    "    z = np.array(df['z'])\n",
    "\n",
    "    # Calcular las derivadas usando diferencias finitas\n",
    "    dx = np.gradient(x)\n",
    "    dy = np.gradient(y)\n",
    "    dz = np.gradient(z)\n",
    "\n",
    "    ddx = np.gradient(dx)\n",
    "    ddy = np.gradient(dy)\n",
    "    ddz = np.gradient(dz)\n",
    "\n",
    "    # Calcular la curvatura\n",
    "    curvatura = np.zeros(len(x))\n",
    "\n",
    "    for i in range(len(x)):\n",
    "        # Vectores de la primera y segunda derivada\n",
    "        r_prime = np.array([dx[i], dy[i], dz[i]])\n",
    "        r_double_prime = np.array([ddx[i], ddy[i], ddz[i]])\n",
    "        \n",
    "        # Producto cruzado de r' y r''\n",
    "        cross_product = np.cross(r_prime, r_double_prime)\n",
    "        \n",
    "        # Magnitud de r'\n",
    "        norm_r_prime = np.linalg.norm(r_prime)\n",
    "        \n",
    "        # Curvatura\n",
    "        curvatura[i] = np.linalg.norm(cross_product) / (norm_r_prime**3)\n",
    "\n",
    "    # Desviación Estándar de la curvatura\n",
    "    std_curvatura = np.std(curvatura)\n",
    "\n",
    "    # Media de la curvatura\n",
    "    mean_curvatura = np.mean(curvatura)\n",
    "\n",
    "    # Integral de la curvatura\n",
    "    integral_curvatura = np.trapz(curvatura)\n",
    "\n",
    "    return mean_curvatura, std_curvatura, integral_curvatura"
   ]
  },
  {
   "cell_type": "code",
   "execution_count": 40,
   "metadata": {},
   "outputs": [],
   "source": [
    "def longitud(df):\n",
    "    # Convertir a arrays de numpy\n",
    "    x = np.array(df['x'])\n",
    "    y = np.array(df['y'])\n",
    "    z = np.array(df['z'])\n",
    "\n",
    "    # Longitud de la trayectoria\n",
    "    longitud = np.zeros(len(x))\n",
    "\n",
    "    for i in range(1, len(x)):\n",
    "        longitud[i] = longitud[i-1] + np.sqrt((x[i] - x[i-1])**2 + (y[i] - y[i-1])**2 + (z[i] - z[i-1])**2)\n",
    "\n",
    "    # Longitud total\n",
    "    longitud_total = longitud[-1]\n",
    "\n",
    "    return longitud_total"
   ]
  },
  {
   "cell_type": "code",
   "execution_count": 41,
   "metadata": {},
   "outputs": [],
   "source": [
    "def var_espacial(df):\n",
    "    # Convertir a arrays de numpy\n",
    "    x = np.array(df['x'])\n",
    "    y = np.array(df['y'])\n",
    "    z = np.array(df['z'])\n",
    "\n",
    "    longitud_x = np.max(x) - np.min(x)\n",
    "    longitud_y = np.max(y) - np.min(y)\n",
    "    longitud_z = np.max(z) - np.min(z)\n",
    "\n",
    "    volumen = longitud_x * longitud_y * longitud_z\n",
    "\n",
    "    return longitud_x, longitud_y, longitud_z, volumen\n"
   ]
  },
  {
   "cell_type": "code",
   "execution_count": 42,
   "metadata": {},
   "outputs": [],
   "source": [
    "def hist_plots(whiskers_data, no_whiskers_data, metric):\n",
    "    print(f\"Normality test for {metric}:\")\n",
    "    # Perform normality check for \"whiskers\" and \"no whiskers\" groups and plot histograms\n",
    "    fig, axes = plt.subplots(1, 2, figsize=(12, 4))\n",
    "\n",
    "    # Histogram for 'whiskers'\n",
    "    axes[0].hist(whiskers_data[metric], bins=15, edgecolor='black', alpha=0.7)\n",
    "    axes[0].set_title(f'Histogram of {metric} (Whiskers)')\n",
    "\n",
    "\n",
    "    # Histogram for 'no whiskers'\n",
    "    axes[1].hist(no_whiskers_data[metric], bins=15, edgecolor='black', alpha=0.7)\n",
    "    axes[1].set_title(f'Histogram of {metric} (No Whiskers)')\n",
    "\n",
    "    plt.tight_layout()\n",
    "    plt.show()"
   ]
  },
  {
   "cell_type": "markdown",
   "metadata": {},
   "source": [
    "## Código"
   ]
  },
  {
   "cell_type": "markdown",
   "metadata": {},
   "source": [
    "### Lectura de datos"
   ]
  },
  {
   "cell_type": "code",
   "execution_count": 43,
   "metadata": {},
   "outputs": [],
   "source": [
    "data_bef, data_fee, data_aft = read_data('data/output_points_1_no_whiskers.xlsx')"
   ]
  },
  {
   "cell_type": "code",
   "execution_count": 44,
   "metadata": {},
   "outputs": [
    {
     "name": "stdout",
     "output_type": "stream",
     "text": [
      "      x    y      z\n",
      "9   281   94  349.0\n",
      "10  283   98  345.0\n",
      "11  283  100  341.0\n",
      "12  283  103  338.0\n",
      "13  288  103  336.0\n"
     ]
    }
   ],
   "source": [
    "# Split data into flower and bat data; before, during, and after feeding\n",
    "flower_bef, flower_fee, flower_aft, bat_bef, bat_fee, bat_aft = split_data(data_bef, data_fee, data_aft)\n",
    "\n",
    "# Show the data\n",
    "print(flower_fee.head())"
   ]
  },
  {
   "cell_type": "markdown",
   "metadata": {},
   "source": [
    "### Curvatura"
   ]
  },
  {
   "cell_type": "code",
   "execution_count": 45,
   "metadata": {},
   "outputs": [
    {
     "name": "stdout",
     "output_type": "stream",
     "text": [
      "Desviación Estándar de la Curvatura: 1.8368621915524173\n",
      "Media de la Curvatura: 0.5475373323457154\n",
      "Integral de la Curvatura: 43.19156036642262\n"
     ]
    }
   ],
   "source": [
    "mean_curvatura, std_curvatura, int_curvatura = curvatura(flower_fee)\n",
    "print('Desviación Estándar de la Curvatura:', std_curvatura)\n",
    "print('Media de la Curvatura:', mean_curvatura)\n",
    "print('Integral de la Curvatura:', int_curvatura)"
   ]
  },
  {
   "cell_type": "markdown",
   "metadata": {},
   "source": [
    "### Longitud"
   ]
  },
  {
   "cell_type": "code",
   "execution_count": 46,
   "metadata": {},
   "outputs": [
    {
     "name": "stdout",
     "output_type": "stream",
     "text": [
      "Longitud Total: 375.82886152263075\n"
     ]
    }
   ],
   "source": [
    "# Longitud total\n",
    "longitud_total = longitud(flower_fee)\n",
    "print('Longitud Total:', longitud_total)"
   ]
  },
  {
   "cell_type": "markdown",
   "metadata": {},
   "source": [
    "### Variación en cada eje"
   ]
  },
  {
   "cell_type": "code",
   "execution_count": 47,
   "metadata": {},
   "outputs": [
    {
     "name": "stdout",
     "output_type": "stream",
     "text": [
      "Longitud de la trayectoria en el eje x: 14\n",
      "Longitud de la trayectoria en el eje y: 15\n",
      "Longitud de la trayectoria en el eje z: 17.0\n",
      "Volumen del Espacio: 3570.0\n"
     ]
    }
   ],
   "source": [
    "# Variación en cada eje\n",
    "longitud_x, longitud_y, longitud_z, volumen = var_espacial(flower_fee)\n",
    "\n",
    "print('Longitud de la trayectoria en el eje x:', longitud_x)\n",
    "print('Longitud de la trayectoria en el eje y:', longitud_y)\n",
    "print('Longitud de la trayectoria en el eje z:', longitud_z)\n",
    "print('Volumen del Espacio:', volumen)"
   ]
  },
  {
   "cell_type": "markdown",
   "metadata": {},
   "source": [
    "## Iteración sobre archivos"
   ]
  },
  {
   "cell_type": "code",
   "execution_count": 48,
   "metadata": {},
   "outputs": [
    {
     "name": "stdout",
     "output_type": "stream",
     "text": [
      "Error en el archivo: Individuo 6/No whiskers/output_points_7.xlsx\n"
     ]
    },
    {
     "name": "stderr",
     "output_type": "stream",
     "text": [
      "C:\\Users\\matea\\AppData\\Local\\Temp/ipykernel_4296/2953519617.py:31: RuntimeWarning: invalid value encountered in scalar divide\n",
      "  curvatura[i] = np.linalg.norm(cross_product) / (norm_r_prime**3)\n",
      "C:\\Users\\matea\\AppData\\Local\\Temp/ipykernel_4296/2953519617.py:31: RuntimeWarning: invalid value encountered in scalar divide\n",
      "  curvatura[i] = np.linalg.norm(cross_product) / (norm_r_prime**3)\n"
     ]
    },
    {
     "data": {
      "text/html": [
       "<div>\n",
       "<style scoped>\n",
       "    .dataframe tbody tr th:only-of-type {\n",
       "        vertical-align: middle;\n",
       "    }\n",
       "\n",
       "    .dataframe tbody tr th {\n",
       "        vertical-align: top;\n",
       "    }\n",
       "\n",
       "    .dataframe thead th {\n",
       "        text-align: right;\n",
       "    }\n",
       "</style>\n",
       "<table border=\"1\" class=\"dataframe\">\n",
       "  <thead>\n",
       "    <tr style=\"text-align: right;\">\n",
       "      <th></th>\n",
       "      <th>Individuo</th>\n",
       "      <th>Tipo</th>\n",
       "      <th>No. Vuelo</th>\n",
       "      <th>Curvatura Media</th>\n",
       "      <th>Desviación Estándar de la Curvatura</th>\n",
       "      <th>Integral de la Curvatura</th>\n",
       "      <th>Longitud Total</th>\n",
       "      <th>Longitud en X</th>\n",
       "      <th>Longitud en Y</th>\n",
       "      <th>Longitud en Z</th>\n",
       "      <th>Volumen</th>\n",
       "    </tr>\n",
       "  </thead>\n",
       "  <tbody>\n",
       "    <tr>\n",
       "      <th>0</th>\n",
       "      <td>6</td>\n",
       "      <td>Whiskers</td>\n",
       "      <td>1</td>\n",
       "      <td>0.319137</td>\n",
       "      <td>0.309382</td>\n",
       "      <td>5.333128</td>\n",
       "      <td>75.694841</td>\n",
       "      <td>18.0</td>\n",
       "      <td>14.0</td>\n",
       "      <td>19.0</td>\n",
       "      <td>4788.0</td>\n",
       "    </tr>\n",
       "    <tr>\n",
       "      <th>1</th>\n",
       "      <td>6</td>\n",
       "      <td>Whiskers</td>\n",
       "      <td>10</td>\n",
       "      <td>0.061655</td>\n",
       "      <td>0.072966</td>\n",
       "      <td>1.756422</td>\n",
       "      <td>260.010676</td>\n",
       "      <td>54.0</td>\n",
       "      <td>40.0</td>\n",
       "      <td>125.0</td>\n",
       "      <td>270000.0</td>\n",
       "    </tr>\n",
       "    <tr>\n",
       "      <th>2</th>\n",
       "      <td>6</td>\n",
       "      <td>Whiskers</td>\n",
       "      <td>11</td>\n",
       "      <td>1.097282</td>\n",
       "      <td>3.454947</td>\n",
       "      <td>19.665025</td>\n",
       "      <td>80.997540</td>\n",
       "      <td>7.0</td>\n",
       "      <td>21.0</td>\n",
       "      <td>18.0</td>\n",
       "      <td>2646.0</td>\n",
       "    </tr>\n",
       "    <tr>\n",
       "      <th>3</th>\n",
       "      <td>6</td>\n",
       "      <td>Whiskers</td>\n",
       "      <td>12</td>\n",
       "      <td>0.128108</td>\n",
       "      <td>0.231968</td>\n",
       "      <td>2.129493</td>\n",
       "      <td>131.251894</td>\n",
       "      <td>21.0</td>\n",
       "      <td>40.0</td>\n",
       "      <td>93.0</td>\n",
       "      <td>78120.0</td>\n",
       "    </tr>\n",
       "    <tr>\n",
       "      <th>4</th>\n",
       "      <td>6</td>\n",
       "      <td>Whiskers</td>\n",
       "      <td>13</td>\n",
       "      <td>0.255117</td>\n",
       "      <td>0.302641</td>\n",
       "      <td>3.785561</td>\n",
       "      <td>58.087628</td>\n",
       "      <td>10.0</td>\n",
       "      <td>11.0</td>\n",
       "      <td>16.0</td>\n",
       "      <td>1760.0</td>\n",
       "    </tr>\n",
       "  </tbody>\n",
       "</table>\n",
       "</div>"
      ],
      "text/plain": [
       "   Individuo      Tipo No. Vuelo  Curvatura Media  \\\n",
       "0          6  Whiskers         1         0.319137   \n",
       "1          6  Whiskers        10         0.061655   \n",
       "2          6  Whiskers        11         1.097282   \n",
       "3          6  Whiskers        12         0.128108   \n",
       "4          6  Whiskers        13         0.255117   \n",
       "\n",
       "   Desviación Estándar de la Curvatura  Integral de la Curvatura  \\\n",
       "0                             0.309382                  5.333128   \n",
       "1                             0.072966                  1.756422   \n",
       "2                             3.454947                 19.665025   \n",
       "3                             0.231968                  2.129493   \n",
       "4                             0.302641                  3.785561   \n",
       "\n",
       "   Longitud Total  Longitud en X  Longitud en Y  Longitud en Z   Volumen  \n",
       "0       75.694841           18.0           14.0           19.0    4788.0  \n",
       "1      260.010676           54.0           40.0          125.0  270000.0  \n",
       "2       80.997540            7.0           21.0           18.0    2646.0  \n",
       "3      131.251894           21.0           40.0           93.0   78120.0  \n",
       "4       58.087628           10.0           11.0           16.0    1760.0  "
      ]
     },
     "metadata": {},
     "output_type": "display_data"
    }
   ],
   "source": [
    "individuo, whiskers, n_vuelo = [], [], []\n",
    "mean_curvatura, std_curvatura, int_curvatura = [], [], []\n",
    "longitud_total = []\n",
    "longitud_x, longitud_y, longitud_z, volumen = [], [], [], []\n",
    "\n",
    "for n in range(6,10):\n",
    "    # for tipo in [\"Whiskers\"]:\n",
    "    for tipo in [\"Whiskers\", \"No whiskers\"]:\n",
    "        # Recorro lo archivos de la capeta Individuo n\n",
    "        for file in os.listdir(f'data/Individuo {n}/{tipo}'):\n",
    "            # print(\"Procesando:\", f\"Individuo {n}/{tipo}/{file}\")\n",
    "\n",
    "            try:\n",
    "                data_bef, data_fee, data_aft = read_data(f'data/Individuo {n}/{tipo}/{file}')\n",
    "\n",
    "                # Split data into flower and bat data; before, during, and after feeding\n",
    "                flower_bef, flower_fee, flower_aft, bat_bef, bat_fee, bat_aft = split_data(data_bef, data_fee, data_aft)\n",
    "\n",
    "                # Curvatura\n",
    "                mean_curv, std_curv, int_curv = curvatura(flower_fee)\n",
    "                mean_curvatura.append(mean_curv)\n",
    "                std_curvatura.append(std_curv)\n",
    "                int_curvatura.append(int_curv)\n",
    "\n",
    "                # Longitud total\n",
    "                long = longitud(flower_fee)\n",
    "                longitud_total.append(long)\n",
    "\n",
    "                # Variación en cada eje\n",
    "                long_x, long_y, long_z, vol = var_espacial(flower_fee)\n",
    "                longitud_x.append(long_x)\n",
    "                longitud_y.append(long_y)\n",
    "                longitud_z.append(long_z)\n",
    "                volumen.append(vol)\n",
    "\n",
    "                individuo.append(n)\n",
    "                whiskers.append(tipo)\n",
    "                n_vuelo.append(file.split('_')[-1].split('.')[0])\n",
    "            except:\n",
    "                print(\"Error en el archivo:\", f\"Individuo {n}/{tipo}/{file}\")\n",
    "\n",
    "# Creo el conjunto de datos\n",
    "df = pd.DataFrame({\n",
    "    'Individuo': individuo,\n",
    "    'Tipo': whiskers,\n",
    "    'No. Vuelo': n_vuelo,\n",
    "    'Curvatura Media': mean_curvatura,\n",
    "    'Desviación Estándar de la Curvatura': std_curvatura,\n",
    "    'Integral de la Curvatura': int_curvatura,\n",
    "    'Longitud Total': longitud_total,\n",
    "    'Longitud en X': longitud_x,\n",
    "    'Longitud en Y': longitud_y,\n",
    "    'Longitud en Z': longitud_z,\n",
    "    'Volumen': volumen\n",
    "})\n",
    "\n",
    "# Muestro los datos\n",
    "display(df.head())"
   ]
  },
  {
   "cell_type": "code",
   "execution_count": 49,
   "metadata": {},
   "outputs": [],
   "source": [
    "# Guardo los datos\n",
    "df.to_excel('data/mediciones.xlsx', index=False)"
   ]
  },
  {
   "cell_type": "markdown",
   "metadata": {},
   "source": [
    "## Análisis comparativo"
   ]
  },
  {
   "cell_type": "code",
   "execution_count": 50,
   "metadata": {},
   "outputs": [
    {
     "data": {
      "text/html": [
       "<div>\n",
       "<style scoped>\n",
       "    .dataframe tbody tr th:only-of-type {\n",
       "        vertical-align: middle;\n",
       "    }\n",
       "\n",
       "    .dataframe tbody tr th {\n",
       "        vertical-align: top;\n",
       "    }\n",
       "\n",
       "    .dataframe thead th {\n",
       "        text-align: right;\n",
       "    }\n",
       "</style>\n",
       "<table border=\"1\" class=\"dataframe\">\n",
       "  <thead>\n",
       "    <tr style=\"text-align: right;\">\n",
       "      <th></th>\n",
       "      <th>Individuo</th>\n",
       "      <th>Tipo</th>\n",
       "      <th>No. Vuelo</th>\n",
       "      <th>Curvatura Media</th>\n",
       "      <th>Desviación Estándar de la Curvatura</th>\n",
       "      <th>Integral de la Curvatura</th>\n",
       "      <th>Longitud Total</th>\n",
       "      <th>Longitud en X</th>\n",
       "      <th>Longitud en Y</th>\n",
       "      <th>Longitud en Z</th>\n",
       "      <th>Volumen</th>\n",
       "    </tr>\n",
       "  </thead>\n",
       "  <tbody>\n",
       "    <tr>\n",
       "      <th>0</th>\n",
       "      <td>6</td>\n",
       "      <td>Whiskers</td>\n",
       "      <td>1</td>\n",
       "      <td>0.319137</td>\n",
       "      <td>0.309382</td>\n",
       "      <td>5.333128</td>\n",
       "      <td>75.694841</td>\n",
       "      <td>18</td>\n",
       "      <td>14</td>\n",
       "      <td>19.0</td>\n",
       "      <td>4788.0</td>\n",
       "    </tr>\n",
       "    <tr>\n",
       "      <th>1</th>\n",
       "      <td>6</td>\n",
       "      <td>Whiskers</td>\n",
       "      <td>10</td>\n",
       "      <td>0.061655</td>\n",
       "      <td>0.072966</td>\n",
       "      <td>1.756422</td>\n",
       "      <td>260.010676</td>\n",
       "      <td>54</td>\n",
       "      <td>40</td>\n",
       "      <td>125.0</td>\n",
       "      <td>270000.0</td>\n",
       "    </tr>\n",
       "    <tr>\n",
       "      <th>2</th>\n",
       "      <td>6</td>\n",
       "      <td>Whiskers</td>\n",
       "      <td>11</td>\n",
       "      <td>1.097282</td>\n",
       "      <td>3.454947</td>\n",
       "      <td>19.665025</td>\n",
       "      <td>80.997540</td>\n",
       "      <td>7</td>\n",
       "      <td>21</td>\n",
       "      <td>18.0</td>\n",
       "      <td>2646.0</td>\n",
       "    </tr>\n",
       "    <tr>\n",
       "      <th>3</th>\n",
       "      <td>6</td>\n",
       "      <td>Whiskers</td>\n",
       "      <td>12</td>\n",
       "      <td>0.128108</td>\n",
       "      <td>0.231968</td>\n",
       "      <td>2.129493</td>\n",
       "      <td>131.251894</td>\n",
       "      <td>21</td>\n",
       "      <td>40</td>\n",
       "      <td>93.0</td>\n",
       "      <td>78120.0</td>\n",
       "    </tr>\n",
       "    <tr>\n",
       "      <th>4</th>\n",
       "      <td>6</td>\n",
       "      <td>Whiskers</td>\n",
       "      <td>13</td>\n",
       "      <td>0.255117</td>\n",
       "      <td>0.302641</td>\n",
       "      <td>3.785561</td>\n",
       "      <td>58.087628</td>\n",
       "      <td>10</td>\n",
       "      <td>11</td>\n",
       "      <td>16.0</td>\n",
       "      <td>1760.0</td>\n",
       "    </tr>\n",
       "  </tbody>\n",
       "</table>\n",
       "</div>"
      ],
      "text/plain": [
       "   Individuo      Tipo  No. Vuelo  Curvatura Media  \\\n",
       "0          6  Whiskers          1         0.319137   \n",
       "1          6  Whiskers         10         0.061655   \n",
       "2          6  Whiskers         11         1.097282   \n",
       "3          6  Whiskers         12         0.128108   \n",
       "4          6  Whiskers         13         0.255117   \n",
       "\n",
       "   Desviación Estándar de la Curvatura  Integral de la Curvatura  \\\n",
       "0                             0.309382                  5.333128   \n",
       "1                             0.072966                  1.756422   \n",
       "2                             3.454947                 19.665025   \n",
       "3                             0.231968                  2.129493   \n",
       "4                             0.302641                  3.785561   \n",
       "\n",
       "   Longitud Total  Longitud en X  Longitud en Y  Longitud en Z   Volumen  \n",
       "0       75.694841             18             14           19.0    4788.0  \n",
       "1      260.010676             54             40          125.0  270000.0  \n",
       "2       80.997540              7             21           18.0    2646.0  \n",
       "3      131.251894             21             40           93.0   78120.0  \n",
       "4       58.087628             10             11           16.0    1760.0  "
      ]
     },
     "metadata": {},
     "output_type": "display_data"
    }
   ],
   "source": [
    "# Leo el archivo de datos\n",
    "data = pd.read_excel('data/mediciones.xlsx')\n",
    "\n",
    "display(data.head())"
   ]
  },
  {
   "cell_type": "code",
   "execution_count": 51,
   "metadata": {},
   "outputs": [],
   "source": [
    "metrics = ['Curvatura Media', 'Desviación Estándar de la Curvatura', 'Integral de la Curvatura', 'Longitud Total', 'Longitud en X', 'Longitud en Y', 'Longitud en Z', 'Volumen']\n",
    "\n",
    "data.columns = data.columns.str.replace(\" \", \"_\")\n",
    "metrics = [metric.replace(\" \", \"_\") for metric in metrics]"
   ]
  },
  {
   "cell_type": "code",
   "execution_count": 52,
   "metadata": {},
   "outputs": [
    {
     "name": "stdout",
     "output_type": "stream",
     "text": [
      "Normality test for Curvatura_Media:\n"
     ]
    },
    {
     "data": {
      "image/png": "[encoded data removed]",
      "text/plain": [
       "<Figure size 864x288 with 2 Axes>"
      ]
     },
     "metadata": {
      "needs_background": "light"
     },
     "output_type": "display_data"
    },
    {
     "name": "stdout",
     "output_type": "stream",
     "text": [
      "Normality test for Desviación_Estándar_de_la_Curvatura:\n"
     ]
    },
    {
     "data": {
      "image/png": "[encoded data removed]",
      "text/plain": [
       "<Figure size 864x288 with 2 Axes>"
      ]
     },
     "metadata": {
      "needs_background": "light"
     },
     "output_type": "display_data"
    },
    {
     "name": "stdout",
     "output_type": "stream",
     "text": [
      "Normality test for Integral_de_la_Curvatura:\n"
     ]
    },
    {
     "data": {
      "image/png": "[encoded data removed]",
      "text/plain": [
       "<Figure size 864x288 with 2 Axes>"
      ]
     },
     "metadata": {
      "needs_background": "light"
     },
     "output_type": "display_data"
    },
    {
     "name": "stdout",
     "output_type": "stream",
     "text": [
      "Normality test for Longitud_Total:\n"
     ]
    },
    {
     "data": {
      "image/png": "[encoded data removed]",
      "text/plain": [
       "<Figure size 864x288 with 2 Axes>"
      ]
     },
     "metadata": {
      "needs_background": "light"
     },
     "output_type": "display_data"
    },
    {
     "name": "stdout",
     "output_type": "stream",
     "text": [
      "Normality test for Longitud_en_X:\n"
     ]
    },
    {
     "data": {
      "image/png": "[encoded data removed]",
      "text/plain": [
       "<Figure size 864x288 with 2 Axes>"
      ]
     },
     "metadata": {
      "needs_background": "light"
     },
     "output_type": "display_data"
    },
    {
     "name": "stdout",
     "output_type": "stream",
     "text": [
      "Normality test for Longitud_en_Y:\n"
     ]
    },
    {
     "data": {
      "image/png": "[encoded data removed]",
      "text/plain": [
       "<Figure size 864x288 with 2 Axes>"
      ]
     },
     "metadata": {
      "needs_background": "light"
     },
     "output_type": "display_data"
    },
    {
     "name": "stdout",
     "output_type": "stream",
     "text": [
      "Normality test for Longitud_en_Z:\n"
     ]
    },
    {
     "data": {
      "image/png": "[encoded data removed]",
      "text/plain": [
       "<Figure size 864x288 with 2 Axes>"
      ]
     },
     "metadata": {
      "needs_background": "light"
     },
     "output_type": "display_data"
    },
    {
     "name": "stdout",
     "output_type": "stream",
     "text": [
      "Normality test for Volumen:\n"
     ]
    },
    {
     "data": {
      "image/png": "[encoded data removed]",
      "text/plain": [
       "<Figure size 864x288 with 2 Axes>"
      ]
     },
     "metadata": {
      "needs_background": "light"
     },
     "output_type": "display_data"
    }
   ],
   "source": [
    "# Separate data based on \"Tipo\" (whiskers or no whiskers)\n",
    "whiskers_data = data[data['Tipo'] == 'Whiskers']\n",
    "no_whiskers_data = data[data['Tipo'] == 'No whiskers']\n",
    "\n",
    "for metric in metrics:\n",
    "    hist_plots(whiskers_data, no_whiskers_data, metric)"
   ]
  },
  {
   "cell_type": "markdown",
   "metadata": {},
   "source": [
    "Modelo lineal mixto"
   ]
  },
  {
   "cell_type": "code",
   "execution_count": 53,
   "metadata": {},
   "outputs": [
    {
     "name": "stdout",
     "output_type": "stream",
     "text": [
      "Modelo lineal mixto para Curvatura_Media:\n"
     ]
    },
    {
     "name": "stderr",
     "output_type": "stream",
     "text": [
      "c:\\Users\\matea\\AppData\\Local\\Programs\\Python\\Python39\\lib\\site-packages\\statsmodels\\base\\model.py:607: ConvergenceWarning: Maximum Likelihood optimization failed to converge. Check mle_retvals\n",
      "  warnings.warn(\"Maximum Likelihood optimization failed to \"\n",
      "c:\\Users\\matea\\AppData\\Local\\Programs\\Python\\Python39\\lib\\site-packages\\statsmodels\\regression\\mixed_linear_model.py:2200: ConvergenceWarning: Retrying MixedLM optimization with lbfgs\n",
      "  warnings.warn(\n",
      "c:\\Users\\matea\\AppData\\Local\\Programs\\Python\\Python39\\lib\\site-packages\\statsmodels\\regression\\mixed_linear_model.py:2237: ConvergenceWarning: The MLE may be on the boundary of the parameter space.\n",
      "  warnings.warn(msg, ConvergenceWarning)\n"
     ]
    },
    {
     "data": {
      "text/html": [
       "<table class=\"simpletable\">\n",
       "<tr>\n",
       "       <td>Model:</td>       <td>MixedLM</td> <td>Dependent Variable:</td> <td>Curvatura_Media</td>\n",
       "</tr>\n",
       "<tr>\n",
       "  <td>No. Observations:</td>   <td>154</td>         <td>Method:</td>            <td>REML</td>      \n",
       "</tr>\n",
       "<tr>\n",
       "     <td>No. Groups:</td>       <td>4</td>          <td>Scale:</td>            <td>0.0570</td>     \n",
       "</tr>\n",
       "<tr>\n",
       "  <td>Min. group size:</td>    <td>37</td>      <td>Log-Likelihood:</td>       <td>-3.2575</td>    \n",
       "</tr>\n",
       "<tr>\n",
       "  <td>Max. group size:</td>    <td>41</td>        <td>Converged:</td>            <td>Yes</td>      \n",
       "</tr>\n",
       "<tr>\n",
       "  <td>Mean group size:</td>   <td>38.5</td>            <td></td>                  <td></td>        \n",
       "</tr>\n",
       "</table>\n",
       "<table class=\"simpletable\">\n",
       "<tr>\n",
       "          <td></td>          <th>Coef.</th> <th>Std.Err.</th>    <th>z</th>   <th>P>|z|</th> <th>[0.025</th> <th>0.975]</th>\n",
       "</tr>\n",
       "<tr>\n",
       "  <th>Intercept</th>         <td>0.282</td>   <td>0.033</td>   <td>8.619</td> <td>0.000</td>  <td>0.218</td>  <td>0.347</td>\n",
       "</tr>\n",
       "<tr>\n",
       "  <th>Tipo[T.Whiskers]</th> <td>-0.044</td>   <td>0.038</td>  <td>-1.152</td> <td>0.249</td> <td>-0.120</td>  <td>0.031</td>\n",
       "</tr>\n",
       "<tr>\n",
       "  <th>Group Var</th>         <td>0.001</td>   <td>0.009</td>     <td></td>      <td></td>       <td></td>       <td></td>   \n",
       "</tr>\n",
       "</table><br/>\n"
      ],
      "text/latex": [
       "\\begin{table}\n",
       "\\caption{Mixed Linear Model Regression Results}\n",
       "\\label{}\n",
       "\\begin{center}\n",
       "\\begin{tabular}{llll}\n",
       "\\hline\n",
       "Model:            & MixedLM & Dependent Variable: & Curvatura\\_Media  \\\\\n",
       "No. Observations: & 154     & Method:             & REML              \\\\\n",
       "No. Groups:       & 4       & Scale:              & 0.0570            \\\\\n",
       "Min. group size:  & 37      & Log-Likelihood:     & -3.2575           \\\\\n",
       "Max. group size:  & 41      & Converged:          & Yes               \\\\\n",
       "Mean group size:  & 38.5    &                     &                   \\\\\n",
       "\\hline\n",
       "\\end{tabular}\n",
       "\\end{center}\n",
       "\n",
       "\\begin{center}\n",
       "\\begin{tabular}{lrrrrrr}\n",
       "\\hline\n",
       "                 &  Coef. & Std.Err. &      z & P$> |$z$|$ & [0.025 & 0.975]  \\\\\n",
       "\\hline\n",
       "Intercept        &  0.282 &    0.033 &  8.619 &       0.000 &  0.218 &  0.347  \\\\\n",
       "Tipo[T.Whiskers] & -0.044 &    0.038 & -1.152 &       0.249 & -0.120 &  0.031  \\\\\n",
       "Group Var        &  0.001 &    0.009 &        &             &        &         \\\\\n",
       "\\hline\n",
       "\\end{tabular}\n",
       "\\end{center}\n",
       "\\end{table}\n",
       "\\bigskip\n"
      ],
      "text/plain": [
       "<class 'statsmodels.iolib.summary2.Summary'>\n",
       "\"\"\"\n",
       "            Mixed Linear Model Regression Results\n",
       "=============================================================\n",
       "Model:            MixedLM Dependent Variable: Curvatura_Media\n",
       "No. Observations: 154     Method:             REML           \n",
       "No. Groups:       4       Scale:              0.0570         \n",
       "Min. group size:  37      Log-Likelihood:     -3.2575        \n",
       "Max. group size:  41      Converged:          Yes            \n",
       "Mean group size:  38.5                                       \n",
       "-------------------------------------------------------------\n",
       "                   Coef.  Std.Err.   z    P>|z| [0.025 0.975]\n",
       "-------------------------------------------------------------\n",
       "Intercept           0.282    0.033  8.619 0.000  0.218  0.347\n",
       "Tipo[T.Whiskers]   -0.044    0.038 -1.152 0.249 -0.120  0.031\n",
       "Group Var           0.001    0.009                           \n",
       "=============================================================\n",
       "\n",
       "\"\"\""
      ]
     },
     "metadata": {},
     "output_type": "display_data"
    },
    {
     "name": "stdout",
     "output_type": "stream",
     "text": [
      "Modelo lineal mixto para Desviación_Estándar_de_la_Curvatura:\n"
     ]
    },
    {
     "data": {
      "text/html": [
       "<table class=\"simpletable\">\n",
       "<tr>\n",
       "       <td>Model:</td>       <td>MixedLM</td> <td>Dependent Variable:</td> <td>Desviación_Estándar_de_la_Curvatura</td>\n",
       "</tr>\n",
       "<tr>\n",
       "  <td>No. Observations:</td>   <td>154</td>         <td>Method:</td>                      <td>REML</td>                \n",
       "</tr>\n",
       "<tr>\n",
       "     <td>No. Groups:</td>       <td>4</td>          <td>Scale:</td>                      <td>0.4617</td>               \n",
       "</tr>\n",
       "<tr>\n",
       "  <td>Min. group size:</td>    <td>37</td>      <td>Log-Likelihood:</td>                <td>-163.1176</td>             \n",
       "</tr>\n",
       "<tr>\n",
       "  <td>Max. group size:</td>    <td>41</td>        <td>Converged:</td>                      <td>Yes</td>                \n",
       "</tr>\n",
       "<tr>\n",
       "  <td>Mean group size:</td>   <td>38.5</td>            <td></td>                            <td></td>                  \n",
       "</tr>\n",
       "</table>\n",
       "<table class=\"simpletable\">\n",
       "<tr>\n",
       "          <td></td>          <th>Coef.</th> <th>Std.Err.</th>    <th>z</th>   <th>P>|z|</th> <th>[0.025</th> <th>0.975]</th>\n",
       "</tr>\n",
       "<tr>\n",
       "  <th>Intercept</th>         <td>0.567</td>   <td>0.115</td>   <td>4.916</td> <td>0.000</td>  <td>0.341</td>  <td>0.792</td>\n",
       "</tr>\n",
       "<tr>\n",
       "  <th>Tipo[T.Whiskers]</th> <td>-0.117</td>   <td>0.110</td>  <td>-1.065</td> <td>0.287</td> <td>-0.331</td>  <td>0.098</td>\n",
       "</tr>\n",
       "<tr>\n",
       "  <th>Group Var</th>         <td>0.029</td>   <td>0.050</td>     <td></td>      <td></td>       <td></td>       <td></td>   \n",
       "</tr>\n",
       "</table><br/>\n"
      ],
      "text/latex": [
       "\\begin{table}\n",
       "\\caption{Mixed Linear Model Regression Results}\n",
       "\\label{}\n",
       "\\begin{center}\n",
       "\\begin{tabular}{llll}\n",
       "\\hline\n",
       "Model:            & MixedLM & Dependent Variable: & Desviación\\_Estándar\\_de\\_la\\_Curvatura  \\\\\n",
       "No. Observations: & 154     & Method:             & REML                                     \\\\\n",
       "No. Groups:       & 4       & Scale:              & 0.4617                                   \\\\\n",
       "Min. group size:  & 37      & Log-Likelihood:     & -163.1176                                \\\\\n",
       "Max. group size:  & 41      & Converged:          & Yes                                      \\\\\n",
       "Mean group size:  & 38.5    &                     &                                          \\\\\n",
       "\\hline\n",
       "\\end{tabular}\n",
       "\\end{center}\n",
       "\n",
       "\\begin{center}\n",
       "\\begin{tabular}{lrrrrrr}\n",
       "\\hline\n",
       "                 &  Coef. & Std.Err. &      z & P$> |$z$|$ & [0.025 & 0.975]  \\\\\n",
       "\\hline\n",
       "Intercept        &  0.567 &    0.115 &  4.916 &       0.000 &  0.341 &  0.792  \\\\\n",
       "Tipo[T.Whiskers] & -0.117 &    0.110 & -1.065 &       0.287 & -0.331 &  0.098  \\\\\n",
       "Group Var        &  0.029 &    0.050 &        &             &        &         \\\\\n",
       "\\hline\n",
       "\\end{tabular}\n",
       "\\end{center}\n",
       "\\end{table}\n",
       "\\bigskip\n"
      ],
      "text/plain": [
       "<class 'statsmodels.iolib.summary2.Summary'>\n",
       "\"\"\"\n",
       "                      Mixed Linear Model Regression Results\n",
       "=================================================================================\n",
       "Model:            MixedLM Dependent Variable: Desviación_Estándar_de_la_Curvatura\n",
       "No. Observations: 154     Method:             REML                               \n",
       "No. Groups:       4       Scale:              0.4617                             \n",
       "Min. group size:  37      Log-Likelihood:     -163.1176                          \n",
       "Max. group size:  41      Converged:          Yes                                \n",
       "Mean group size:  38.5                                                           \n",
       "-------------------------------------------------------------------------------------\n",
       "                       Coef.      Std.Err.       z        P>|z|     [0.025     0.975]\n",
       "-------------------------------------------------------------------------------------\n",
       "Intercept               0.567        0.115      4.916     0.000      0.341      0.792\n",
       "Tipo[T.Whiskers]       -0.117        0.110     -1.065     0.287     -0.331      0.098\n",
       "Group Var               0.029        0.050                                           \n",
       "=================================================================================\n",
       "\n",
       "\"\"\""
      ]
     },
     "metadata": {},
     "output_type": "display_data"
    },
    {
     "name": "stdout",
     "output_type": "stream",
     "text": [
      "Modelo lineal mixto para Integral_de_la_Curvatura:\n"
     ]
    },
    {
     "data": {
      "text/html": [
       "<table class=\"simpletable\">\n",
       "<tr>\n",
       "       <td>Model:</td>       <td>MixedLM</td> <td>Dependent Variable:</td> <td>Integral_de_la_Curvatura</td>\n",
       "</tr>\n",
       "<tr>\n",
       "  <td>No. Observations:</td>   <td>154</td>         <td>Method:</td>                 <td>REML</td>          \n",
       "</tr>\n",
       "<tr>\n",
       "     <td>No. Groups:</td>       <td>4</td>          <td>Scale:</td>                 <td>82.3734</td>        \n",
       "</tr>\n",
       "<tr>\n",
       "  <td>Min. group size:</td>    <td>37</td>      <td>Log-Likelihood:</td>           <td>-556.9793</td>       \n",
       "</tr>\n",
       "<tr>\n",
       "  <td>Max. group size:</td>    <td>41</td>        <td>Converged:</td>                 <td>Yes</td>          \n",
       "</tr>\n",
       "<tr>\n",
       "  <td>Mean group size:</td>   <td>38.5</td>            <td></td>                       <td></td>            \n",
       "</tr>\n",
       "</table>\n",
       "<table class=\"simpletable\">\n",
       "<tr>\n",
       "          <td></td>          <th>Coef.</th> <th>Std.Err.</th>    <th>z</th>   <th>P>|z|</th> <th>[0.025</th> <th>0.975]</th>\n",
       "</tr>\n",
       "<tr>\n",
       "  <th>Intercept</th>         <td>9.125</td>   <td>1.488</td>   <td>6.134</td> <td>0.000</td>  <td>6.209</td> <td>12.040</td>\n",
       "</tr>\n",
       "<tr>\n",
       "  <th>Tipo[T.Whiskers]</th> <td>-2.977</td>   <td>1.463</td>  <td>-2.035</td> <td>0.042</td> <td>-5.845</td> <td>-0.110</td>\n",
       "</tr>\n",
       "<tr>\n",
       "  <th>Group Var</th>         <td>4.514</td>   <td>0.609</td>     <td></td>      <td></td>       <td></td>       <td></td>   \n",
       "</tr>\n",
       "</table><br/>\n"
      ],
      "text/latex": [
       "\\begin{table}\n",
       "\\caption{Mixed Linear Model Regression Results}\n",
       "\\label{}\n",
       "\\begin{center}\n",
       "\\begin{tabular}{llll}\n",
       "\\hline\n",
       "Model:            & MixedLM & Dependent Variable: & Integral\\_de\\_la\\_Curvatura  \\\\\n",
       "No. Observations: & 154     & Method:             & REML                         \\\\\n",
       "No. Groups:       & 4       & Scale:              & 82.3734                      \\\\\n",
       "Min. group size:  & 37      & Log-Likelihood:     & -556.9793                    \\\\\n",
       "Max. group size:  & 41      & Converged:          & Yes                          \\\\\n",
       "Mean group size:  & 38.5    &                     &                              \\\\\n",
       "\\hline\n",
       "\\end{tabular}\n",
       "\\end{center}\n",
       "\n",
       "\\begin{center}\n",
       "\\begin{tabular}{lrrrrrr}\n",
       "\\hline\n",
       "                 &  Coef. & Std.Err. &      z & P$> |$z$|$ & [0.025 & 0.975]  \\\\\n",
       "\\hline\n",
       "Intercept        &  9.125 &    1.488 &  6.134 &       0.000 &  6.209 & 12.040  \\\\\n",
       "Tipo[T.Whiskers] & -2.977 &    1.463 & -2.035 &       0.042 & -5.845 & -0.110  \\\\\n",
       "Group Var        &  4.514 &    0.609 &        &             &        &         \\\\\n",
       "\\hline\n",
       "\\end{tabular}\n",
       "\\end{center}\n",
       "\\end{table}\n",
       "\\bigskip\n"
      ],
      "text/plain": [
       "<class 'statsmodels.iolib.summary2.Summary'>\n",
       "\"\"\"\n",
       "                Mixed Linear Model Regression Results\n",
       "======================================================================\n",
       "Model:            MixedLM Dependent Variable: Integral_de_la_Curvatura\n",
       "No. Observations: 154     Method:             REML                    \n",
       "No. Groups:       4       Scale:              82.3734                 \n",
       "Min. group size:  37      Log-Likelihood:     -556.9793               \n",
       "Max. group size:  41      Converged:          Yes                     \n",
       "Mean group size:  38.5                                                \n",
       "------------------------------------------------------------------------\n",
       "                    Coef.    Std.Err.     z      P>|z|   [0.025   0.975]\n",
       "------------------------------------------------------------------------\n",
       "Intercept            9.125      1.488    6.134   0.000    6.209   12.040\n",
       "Tipo[T.Whiskers]    -2.977      1.463   -2.035   0.042   -5.845   -0.110\n",
       "Group Var            4.514      0.609                                   \n",
       "======================================================================\n",
       "\n",
       "\"\"\""
      ]
     },
     "metadata": {},
     "output_type": "display_data"
    },
    {
     "name": "stdout",
     "output_type": "stream",
     "text": [
      "Modelo lineal mixto para Longitud_Total:\n"
     ]
    },
    {
     "data": {
      "text/html": [
       "<table class=\"simpletable\">\n",
       "<tr>\n",
       "       <td>Model:</td>       <td>MixedLM</td> <td>Dependent Variable:</td> <td>Longitud_Total</td>\n",
       "</tr>\n",
       "<tr>\n",
       "  <td>No. Observations:</td>   <td>156</td>         <td>Method:</td>            <td>REML</td>     \n",
       "</tr>\n",
       "<tr>\n",
       "     <td>No. Groups:</td>       <td>4</td>          <td>Scale:</td>          <td>15484.3488</td>  \n",
       "</tr>\n",
       "<tr>\n",
       "  <td>Min. group size:</td>    <td>38</td>      <td>Log-Likelihood:</td>      <td>-967.2187</td>  \n",
       "</tr>\n",
       "<tr>\n",
       "  <td>Max. group size:</td>    <td>41</td>        <td>Converged:</td>            <td>Yes</td>     \n",
       "</tr>\n",
       "<tr>\n",
       "  <td>Mean group size:</td>   <td>39.0</td>            <td></td>                  <td></td>       \n",
       "</tr>\n",
       "</table>\n",
       "<table class=\"simpletable\">\n",
       "<tr>\n",
       "          <td></td>          <th>Coef.</th>  <th>Std.Err.</th>    <th>z</th>   <th>P>|z|</th> <th>[0.025</th>  <th>0.975]</th> \n",
       "</tr>\n",
       "<tr>\n",
       "  <th>Intercept</th>        <td>227.307</td>  <td>19.129</td>  <td>11.883</td> <td>0.000</td> <td>189.816</td> <td>264.799</td>\n",
       "</tr>\n",
       "<tr>\n",
       "  <th>Tipo[T.Whiskers]</th> <td>-33.486</td>  <td>19.929</td>  <td>-1.680</td> <td>0.093</td> <td>-72.546</td>  <td>5.575</td> \n",
       "</tr>\n",
       "<tr>\n",
       "  <th>Group Var</th>        <td>669.314</td>   <td>7.081</td>     <td></td>      <td></td>       <td></td>        <td></td>    \n",
       "</tr>\n",
       "</table><br/>\n"
      ],
      "text/latex": [
       "\\begin{table}\n",
       "\\caption{Mixed Linear Model Regression Results}\n",
       "\\label{}\n",
       "\\begin{center}\n",
       "\\begin{tabular}{llll}\n",
       "\\hline\n",
       "Model:            & MixedLM & Dependent Variable: & Longitud\\_Total  \\\\\n",
       "No. Observations: & 156     & Method:             & REML             \\\\\n",
       "No. Groups:       & 4       & Scale:              & 15484.3488       \\\\\n",
       "Min. group size:  & 38      & Log-Likelihood:     & -967.2187        \\\\\n",
       "Max. group size:  & 41      & Converged:          & Yes              \\\\\n",
       "Mean group size:  & 39.0    &                     &                  \\\\\n",
       "\\hline\n",
       "\\end{tabular}\n",
       "\\end{center}\n",
       "\n",
       "\\begin{center}\n",
       "\\begin{tabular}{lrrrrrr}\n",
       "\\hline\n",
       "                 &   Coef. & Std.Err. &      z & P$> |$z$|$ &  [0.025 &  0.975]  \\\\\n",
       "\\hline\n",
       "Intercept        & 227.307 &   19.129 & 11.883 &       0.000 & 189.816 & 264.799  \\\\\n",
       "Tipo[T.Whiskers] & -33.486 &   19.929 & -1.680 &       0.093 & -72.546 &   5.575  \\\\\n",
       "Group Var        & 669.314 &    7.081 &        &             &         &          \\\\\n",
       "\\hline\n",
       "\\end{tabular}\n",
       "\\end{center}\n",
       "\\end{table}\n",
       "\\bigskip\n"
      ],
      "text/plain": [
       "<class 'statsmodels.iolib.summary2.Summary'>\n",
       "\"\"\"\n",
       "            Mixed Linear Model Regression Results\n",
       "==============================================================\n",
       "Model:              MixedLM Dependent Variable: Longitud_Total\n",
       "No. Observations:   156     Method:             REML          \n",
       "No. Groups:         4       Scale:              15484.3488    \n",
       "Min. group size:    38      Log-Likelihood:     -967.2187     \n",
       "Max. group size:    41      Converged:          Yes           \n",
       "Mean group size:    39.0                                      \n",
       "--------------------------------------------------------------\n",
       "                  Coef.  Std.Err.   z    P>|z|  [0.025  0.975]\n",
       "--------------------------------------------------------------\n",
       "Intercept        227.307   19.129 11.883 0.000 189.816 264.799\n",
       "Tipo[T.Whiskers] -33.486   19.929 -1.680 0.093 -72.546   5.575\n",
       "Group Var        669.314    7.081                             \n",
       "==============================================================\n",
       "\n",
       "\"\"\""
      ]
     },
     "metadata": {},
     "output_type": "display_data"
    },
    {
     "name": "stdout",
     "output_type": "stream",
     "text": [
      "Modelo lineal mixto para Longitud_en_X:\n"
     ]
    },
    {
     "name": "stderr",
     "output_type": "stream",
     "text": [
      "c:\\Users\\matea\\AppData\\Local\\Programs\\Python\\Python39\\lib\\site-packages\\statsmodels\\base\\model.py:607: ConvergenceWarning: Maximum Likelihood optimization failed to converge. Check mle_retvals\n",
      "  warnings.warn(\"Maximum Likelihood optimization failed to \"\n",
      "c:\\Users\\matea\\AppData\\Local\\Programs\\Python\\Python39\\lib\\site-packages\\statsmodels\\regression\\mixed_linear_model.py:2200: ConvergenceWarning: Retrying MixedLM optimization with lbfgs\n",
      "  warnings.warn(\n",
      "c:\\Users\\matea\\AppData\\Local\\Programs\\Python\\Python39\\lib\\site-packages\\statsmodels\\base\\model.py:607: ConvergenceWarning: Maximum Likelihood optimization failed to converge. Check mle_retvals\n",
      "  warnings.warn(\"Maximum Likelihood optimization failed to \"\n",
      "c:\\Users\\matea\\AppData\\Local\\Programs\\Python\\Python39\\lib\\site-packages\\statsmodels\\regression\\mixed_linear_model.py:2200: ConvergenceWarning: Retrying MixedLM optimization with cg\n",
      "  warnings.warn(\n",
      "c:\\Users\\matea\\AppData\\Local\\Programs\\Python\\Python39\\lib\\site-packages\\statsmodels\\base\\model.py:607: ConvergenceWarning: Maximum Likelihood optimization failed to converge. Check mle_retvals\n",
      "  warnings.warn(\"Maximum Likelihood optimization failed to \"\n",
      "c:\\Users\\matea\\AppData\\Local\\Programs\\Python\\Python39\\lib\\site-packages\\statsmodels\\regression\\mixed_linear_model.py:2206: ConvergenceWarning: MixedLM optimization failed, trying a different optimizer may help.\n",
      "  warnings.warn(msg, ConvergenceWarning)\n",
      "c:\\Users\\matea\\AppData\\Local\\Programs\\Python\\Python39\\lib\\site-packages\\statsmodels\\regression\\mixed_linear_model.py:2218: ConvergenceWarning: Gradient optimization failed, |grad| = 1.716263\n",
      "  warnings.warn(msg, ConvergenceWarning)\n"
     ]
    },
    {
     "data": {
      "text/html": [
       "<table class=\"simpletable\">\n",
       "<tr>\n",
       "       <td>Model:</td>       <td>MixedLM</td> <td>Dependent Variable:</td> <td>Longitud_en_X</td>\n",
       "</tr>\n",
       "<tr>\n",
       "  <td>No. Observations:</td>   <td>159</td>         <td>Method:</td>           <td>REML</td>     \n",
       "</tr>\n",
       "<tr>\n",
       "     <td>No. Groups:</td>       <td>4</td>          <td>Scale:</td>          <td>1371.9517</td>  \n",
       "</tr>\n",
       "<tr>\n",
       "  <td>Min. group size:</td>    <td>38</td>      <td>Log-Likelihood:</td>     <td>-797.0472</td>  \n",
       "</tr>\n",
       "<tr>\n",
       "  <td>Max. group size:</td>    <td>42</td>        <td>Converged:</td>           <td>No</td>      \n",
       "</tr>\n",
       "<tr>\n",
       "  <td>Mean group size:</td>   <td>39.8</td>            <td></td>                 <td></td>       \n",
       "</tr>\n",
       "</table>\n",
       "<table class=\"simpletable\">\n",
       "<tr>\n",
       "          <td></td>          <th>Coef.</th>  <th>Std.Err.</th>    <th>z</th>   <th>P>|z|</th> <th>[0.025</th>  <th>0.975]</th>\n",
       "</tr>\n",
       "<tr>\n",
       "  <th>Intercept</th>        <td>41.477</td>    <td>8.072</td>   <td>5.138</td> <td>0.000</td> <td>25.656</td>  <td>57.297</td>\n",
       "</tr>\n",
       "<tr>\n",
       "  <th>Tipo[T.Whiskers]</th> <td>-0.973</td>    <td>5.875</td>  <td>-0.166</td> <td>0.868</td> <td>-12.488</td> <td>10.542</td>\n",
       "</tr>\n",
       "<tr>\n",
       "  <th>Group Var</th>        <td>191.089</td>   <td>7.183</td>     <td></td>      <td></td>       <td></td>        <td></td>   \n",
       "</tr>\n",
       "</table><br/>\n"
      ],
      "text/latex": [
       "\\begin{table}\n",
       "\\caption{Mixed Linear Model Regression Results}\n",
       "\\label{}\n",
       "\\begin{center}\n",
       "\\begin{tabular}{llll}\n",
       "\\hline\n",
       "Model:            & MixedLM & Dependent Variable: & Longitud\\_en\\_X  \\\\\n",
       "No. Observations: & 159     & Method:             & REML             \\\\\n",
       "No. Groups:       & 4       & Scale:              & 1371.9517        \\\\\n",
       "Min. group size:  & 38      & Log-Likelihood:     & -797.0472        \\\\\n",
       "Max. group size:  & 42      & Converged:          & No               \\\\\n",
       "Mean group size:  & 39.8    &                     &                  \\\\\n",
       "\\hline\n",
       "\\end{tabular}\n",
       "\\end{center}\n",
       "\n",
       "\\begin{center}\n",
       "\\begin{tabular}{lrrrrrr}\n",
       "\\hline\n",
       "                 &   Coef. & Std.Err. &      z & P$> |$z$|$ &  [0.025 & 0.975]  \\\\\n",
       "\\hline\n",
       "Intercept        &  41.477 &    8.072 &  5.138 &       0.000 &  25.656 & 57.297  \\\\\n",
       "Tipo[T.Whiskers] &  -0.973 &    5.875 & -0.166 &       0.868 & -12.488 & 10.542  \\\\\n",
       "Group Var        & 191.089 &    7.183 &        &             &         &         \\\\\n",
       "\\hline\n",
       "\\end{tabular}\n",
       "\\end{center}\n",
       "\\end{table}\n",
       "\\bigskip\n"
      ],
      "text/plain": [
       "<class 'statsmodels.iolib.summary2.Summary'>\n",
       "\"\"\"\n",
       "            Mixed Linear Model Regression Results\n",
       "=============================================================\n",
       "Model:              MixedLM Dependent Variable: Longitud_en_X\n",
       "No. Observations:   159     Method:             REML         \n",
       "No. Groups:         4       Scale:              1371.9517    \n",
       "Min. group size:    38      Log-Likelihood:     -797.0472    \n",
       "Max. group size:    42      Converged:          No           \n",
       "Mean group size:    39.8                                     \n",
       "-------------------------------------------------------------\n",
       "                  Coef.  Std.Err.   z    P>|z|  [0.025 0.975]\n",
       "-------------------------------------------------------------\n",
       "Intercept         41.477    8.072  5.138 0.000  25.656 57.297\n",
       "Tipo[T.Whiskers]  -0.973    5.875 -0.166 0.868 -12.488 10.542\n",
       "Group Var        191.089    7.183                            \n",
       "=============================================================\n",
       "\n",
       "\"\"\""
      ]
     },
     "metadata": {},
     "output_type": "display_data"
    },
    {
     "name": "stdout",
     "output_type": "stream",
     "text": [
      "Modelo lineal mixto para Longitud_en_Y:\n"
     ]
    },
    {
     "name": "stderr",
     "output_type": "stream",
     "text": [
      "c:\\Users\\matea\\AppData\\Local\\Programs\\Python\\Python39\\lib\\site-packages\\statsmodels\\base\\model.py:607: ConvergenceWarning: Maximum Likelihood optimization failed to converge. Check mle_retvals\n",
      "  warnings.warn(\"Maximum Likelihood optimization failed to \"\n",
      "c:\\Users\\matea\\AppData\\Local\\Programs\\Python\\Python39\\lib\\site-packages\\statsmodels\\regression\\mixed_linear_model.py:2200: ConvergenceWarning: Retrying MixedLM optimization with lbfgs\n",
      "  warnings.warn(\n",
      "c:\\Users\\matea\\AppData\\Local\\Programs\\Python\\Python39\\lib\\site-packages\\statsmodels\\base\\model.py:607: ConvergenceWarning: Maximum Likelihood optimization failed to converge. Check mle_retvals\n",
      "  warnings.warn(\"Maximum Likelihood optimization failed to \"\n",
      "c:\\Users\\matea\\AppData\\Local\\Programs\\Python\\Python39\\lib\\site-packages\\statsmodels\\regression\\mixed_linear_model.py:2200: ConvergenceWarning: Retrying MixedLM optimization with cg\n",
      "  warnings.warn(\n",
      "c:\\Users\\matea\\AppData\\Local\\Programs\\Python\\Python39\\lib\\site-packages\\statsmodels\\base\\model.py:607: ConvergenceWarning: Maximum Likelihood optimization failed to converge. Check mle_retvals\n",
      "  warnings.warn(\"Maximum Likelihood optimization failed to \"\n",
      "c:\\Users\\matea\\AppData\\Local\\Programs\\Python\\Python39\\lib\\site-packages\\statsmodels\\regression\\mixed_linear_model.py:2206: ConvergenceWarning: MixedLM optimization failed, trying a different optimizer may help.\n",
      "  warnings.warn(msg, ConvergenceWarning)\n",
      "c:\\Users\\matea\\AppData\\Local\\Programs\\Python\\Python39\\lib\\site-packages\\statsmodels\\regression\\mixed_linear_model.py:2218: ConvergenceWarning: Gradient optimization failed, |grad| = 1.095595\n",
      "  warnings.warn(msg, ConvergenceWarning)\n"
     ]
    },
    {
     "data": {
      "text/html": [
       "<table class=\"simpletable\">\n",
       "<tr>\n",
       "       <td>Model:</td>       <td>MixedLM</td> <td>Dependent Variable:</td> <td>Longitud_en_Y</td>\n",
       "</tr>\n",
       "<tr>\n",
       "  <td>No. Observations:</td>   <td>159</td>         <td>Method:</td>           <td>REML</td>     \n",
       "</tr>\n",
       "<tr>\n",
       "     <td>No. Groups:</td>       <td>4</td>          <td>Scale:</td>          <td>221.6112</td>   \n",
       "</tr>\n",
       "<tr>\n",
       "  <td>Min. group size:</td>    <td>38</td>      <td>Log-Likelihood:</td>     <td>-653.6088</td>  \n",
       "</tr>\n",
       "<tr>\n",
       "  <td>Max. group size:</td>    <td>42</td>        <td>Converged:</td>           <td>No</td>      \n",
       "</tr>\n",
       "<tr>\n",
       "  <td>Mean group size:</td>   <td>39.8</td>            <td></td>                 <td></td>       \n",
       "</tr>\n",
       "</table>\n",
       "<table class=\"simpletable\">\n",
       "<tr>\n",
       "          <td></td>          <th>Coef.</th> <th>Std.Err.</th>   <th>z</th>   <th>P>|z|</th> <th>[0.025</th> <th>0.975]</th>\n",
       "</tr>\n",
       "<tr>\n",
       "  <th>Intercept</th>        <td>27.395</td>   <td>2.955</td>  <td>9.269</td> <td>0.000</td> <td>21.602</td> <td>33.188</td>\n",
       "</tr>\n",
       "<tr>\n",
       "  <th>Tipo[T.Whiskers]</th>  <td>0.259</td>   <td>2.361</td>  <td>0.110</td> <td>0.913</td> <td>-4.369</td>  <td>4.887</td>\n",
       "</tr>\n",
       "<tr>\n",
       "  <th>Group Var</th>        <td>23.711</td>   <td>1.430</td>    <td></td>      <td></td>       <td></td>       <td></td>   \n",
       "</tr>\n",
       "</table><br/>\n"
      ],
      "text/latex": [
       "\\begin{table}\n",
       "\\caption{Mixed Linear Model Regression Results}\n",
       "\\label{}\n",
       "\\begin{center}\n",
       "\\begin{tabular}{llll}\n",
       "\\hline\n",
       "Model:            & MixedLM & Dependent Variable: & Longitud\\_en\\_Y  \\\\\n",
       "No. Observations: & 159     & Method:             & REML             \\\\\n",
       "No. Groups:       & 4       & Scale:              & 221.6112         \\\\\n",
       "Min. group size:  & 38      & Log-Likelihood:     & -653.6088        \\\\\n",
       "Max. group size:  & 42      & Converged:          & No               \\\\\n",
       "Mean group size:  & 39.8    &                     &                  \\\\\n",
       "\\hline\n",
       "\\end{tabular}\n",
       "\\end{center}\n",
       "\n",
       "\\begin{center}\n",
       "\\begin{tabular}{lrrrrrr}\n",
       "\\hline\n",
       "                 &  Coef. & Std.Err. &     z & P$> |$z$|$ & [0.025 & 0.975]  \\\\\n",
       "\\hline\n",
       "Intercept        & 27.395 &    2.955 & 9.269 &       0.000 & 21.602 & 33.188  \\\\\n",
       "Tipo[T.Whiskers] &  0.259 &    2.361 & 0.110 &       0.913 & -4.369 &  4.887  \\\\\n",
       "Group Var        & 23.711 &    1.430 &       &             &        &         \\\\\n",
       "\\hline\n",
       "\\end{tabular}\n",
       "\\end{center}\n",
       "\\end{table}\n",
       "\\bigskip\n"
      ],
      "text/plain": [
       "<class 'statsmodels.iolib.summary2.Summary'>\n",
       "\"\"\"\n",
       "           Mixed Linear Model Regression Results\n",
       "===========================================================\n",
       "Model:            MixedLM Dependent Variable: Longitud_en_Y\n",
       "No. Observations: 159     Method:             REML         \n",
       "No. Groups:       4       Scale:              221.6112     \n",
       "Min. group size:  38      Log-Likelihood:     -653.6088    \n",
       "Max. group size:  42      Converged:          No           \n",
       "Mean group size:  39.8                                     \n",
       "-----------------------------------------------------------\n",
       "                  Coef.  Std.Err.   z   P>|z| [0.025 0.975]\n",
       "-----------------------------------------------------------\n",
       "Intercept         27.395    2.955 9.269 0.000 21.602 33.188\n",
       "Tipo[T.Whiskers]   0.259    2.361 0.110 0.913 -4.369  4.887\n",
       "Group Var         23.711    1.430                          \n",
       "===========================================================\n",
       "\n",
       "\"\"\""
      ]
     },
     "metadata": {},
     "output_type": "display_data"
    },
    {
     "name": "stdout",
     "output_type": "stream",
     "text": [
      "Modelo lineal mixto para Longitud_en_Z:\n"
     ]
    },
    {
     "name": "stderr",
     "output_type": "stream",
     "text": [
      "c:\\Users\\matea\\AppData\\Local\\Programs\\Python\\Python39\\lib\\site-packages\\statsmodels\\base\\model.py:607: ConvergenceWarning: Maximum Likelihood optimization failed to converge. Check mle_retvals\n",
      "  warnings.warn(\"Maximum Likelihood optimization failed to \"\n",
      "c:\\Users\\matea\\AppData\\Local\\Programs\\Python\\Python39\\lib\\site-packages\\statsmodels\\regression\\mixed_linear_model.py:2200: ConvergenceWarning: Retrying MixedLM optimization with lbfgs\n",
      "  warnings.warn(\n",
      "c:\\Users\\matea\\AppData\\Local\\Programs\\Python\\Python39\\lib\\site-packages\\statsmodels\\base\\model.py:607: ConvergenceWarning: Maximum Likelihood optimization failed to converge. Check mle_retvals\n",
      "  warnings.warn(\"Maximum Likelihood optimization failed to \"\n",
      "c:\\Users\\matea\\AppData\\Local\\Programs\\Python\\Python39\\lib\\site-packages\\statsmodels\\regression\\mixed_linear_model.py:2200: ConvergenceWarning: Retrying MixedLM optimization with cg\n",
      "  warnings.warn(\n",
      "c:\\Users\\matea\\AppData\\Local\\Programs\\Python\\Python39\\lib\\site-packages\\statsmodels\\base\\model.py:607: ConvergenceWarning: Maximum Likelihood optimization failed to converge. Check mle_retvals\n",
      "  warnings.warn(\"Maximum Likelihood optimization failed to \"\n",
      "c:\\Users\\matea\\AppData\\Local\\Programs\\Python\\Python39\\lib\\site-packages\\statsmodels\\regression\\mixed_linear_model.py:2206: ConvergenceWarning: MixedLM optimization failed, trying a different optimizer may help.\n",
      "  warnings.warn(msg, ConvergenceWarning)\n",
      "c:\\Users\\matea\\AppData\\Local\\Programs\\Python\\Python39\\lib\\site-packages\\statsmodels\\regression\\mixed_linear_model.py:2218: ConvergenceWarning: Gradient optimization failed, |grad| = 1.598137\n",
      "  warnings.warn(msg, ConvergenceWarning)\n"
     ]
    },
    {
     "data": {
      "text/html": [
       "<table class=\"simpletable\">\n",
       "<tr>\n",
       "       <td>Model:</td>       <td>MixedLM</td> <td>Dependent Variable:</td> <td>Longitud_en_Z</td>\n",
       "</tr>\n",
       "<tr>\n",
       "  <td>No. Observations:</td>   <td>156</td>         <td>Method:</td>           <td>REML</td>     \n",
       "</tr>\n",
       "<tr>\n",
       "     <td>No. Groups:</td>       <td>4</td>          <td>Scale:</td>          <td>3929.8573</td>  \n",
       "</tr>\n",
       "<tr>\n",
       "  <td>Min. group size:</td>    <td>38</td>      <td>Log-Likelihood:</td>     <td>-861.1105</td>  \n",
       "</tr>\n",
       "<tr>\n",
       "  <td>Max. group size:</td>    <td>41</td>        <td>Converged:</td>           <td>No</td>      \n",
       "</tr>\n",
       "<tr>\n",
       "  <td>Mean group size:</td>   <td>39.0</td>            <td></td>                 <td></td>       \n",
       "</tr>\n",
       "</table>\n",
       "<table class=\"simpletable\">\n",
       "<tr>\n",
       "          <td></td>          <th>Coef.</th> <th>Std.Err.</th>    <th>z</th>   <th>P>|z|</th> <th>[0.025</th>  <th>0.975]</th>\n",
       "</tr>\n",
       "<tr>\n",
       "  <th>Intercept</th>        <td>76.902</td>   <td>8.539</td>   <td>9.006</td> <td>0.000</td> <td>60.166</td>  <td>93.638</td>\n",
       "</tr>\n",
       "<tr>\n",
       "  <th>Tipo[T.Whiskers]</th> <td>-1.276</td>  <td>10.039</td>  <td>-0.127</td> <td>0.899</td> <td>-20.953</td> <td>18.401</td>\n",
       "</tr>\n",
       "<tr>\n",
       "  <th>Group Var</th>        <td>90.087</td>   <td>3.127</td>     <td></td>      <td></td>       <td></td>        <td></td>   \n",
       "</tr>\n",
       "</table><br/>\n"
      ],
      "text/latex": [
       "\\begin{table}\n",
       "\\caption{Mixed Linear Model Regression Results}\n",
       "\\label{}\n",
       "\\begin{center}\n",
       "\\begin{tabular}{llll}\n",
       "\\hline\n",
       "Model:            & MixedLM & Dependent Variable: & Longitud\\_en\\_Z  \\\\\n",
       "No. Observations: & 156     & Method:             & REML             \\\\\n",
       "No. Groups:       & 4       & Scale:              & 3929.8573        \\\\\n",
       "Min. group size:  & 38      & Log-Likelihood:     & -861.1105        \\\\\n",
       "Max. group size:  & 41      & Converged:          & No               \\\\\n",
       "Mean group size:  & 39.0    &                     &                  \\\\\n",
       "\\hline\n",
       "\\end{tabular}\n",
       "\\end{center}\n",
       "\n",
       "\\begin{center}\n",
       "\\begin{tabular}{lrrrrrr}\n",
       "\\hline\n",
       "                 &  Coef. & Std.Err. &      z & P$> |$z$|$ &  [0.025 & 0.975]  \\\\\n",
       "\\hline\n",
       "Intercept        & 76.902 &    8.539 &  9.006 &       0.000 &  60.166 & 93.638  \\\\\n",
       "Tipo[T.Whiskers] & -1.276 &   10.039 & -0.127 &       0.899 & -20.953 & 18.401  \\\\\n",
       "Group Var        & 90.087 &    3.127 &        &             &         &         \\\\\n",
       "\\hline\n",
       "\\end{tabular}\n",
       "\\end{center}\n",
       "\\end{table}\n",
       "\\bigskip\n"
      ],
      "text/plain": [
       "<class 'statsmodels.iolib.summary2.Summary'>\n",
       "\"\"\"\n",
       "           Mixed Linear Model Regression Results\n",
       "============================================================\n",
       "Model:             MixedLM Dependent Variable: Longitud_en_Z\n",
       "No. Observations:  156     Method:             REML         \n",
       "No. Groups:        4       Scale:              3929.8573    \n",
       "Min. group size:   38      Log-Likelihood:     -861.1105    \n",
       "Max. group size:   41      Converged:          No           \n",
       "Mean group size:   39.0                                     \n",
       "------------------------------------------------------------\n",
       "                 Coef.  Std.Err.   z    P>|z|  [0.025 0.975]\n",
       "------------------------------------------------------------\n",
       "Intercept        76.902    8.539  9.006 0.000  60.166 93.638\n",
       "Tipo[T.Whiskers] -1.276   10.039 -0.127 0.899 -20.953 18.401\n",
       "Group Var        90.087    3.127                            \n",
       "============================================================\n",
       "\n",
       "\"\"\""
      ]
     },
     "metadata": {},
     "output_type": "display_data"
    },
    {
     "name": "stdout",
     "output_type": "stream",
     "text": [
      "Modelo lineal mixto para Volumen:\n"
     ]
    },
    {
     "name": "stderr",
     "output_type": "stream",
     "text": [
      "c:\\Users\\matea\\AppData\\Local\\Programs\\Python\\Python39\\lib\\site-packages\\statsmodels\\base\\model.py:607: ConvergenceWarning: Maximum Likelihood optimization failed to converge. Check mle_retvals\n",
      "  warnings.warn(\"Maximum Likelihood optimization failed to \"\n",
      "c:\\Users\\matea\\AppData\\Local\\Programs\\Python\\Python39\\lib\\site-packages\\statsmodels\\regression\\mixed_linear_model.py:2200: ConvergenceWarning: Retrying MixedLM optimization with lbfgs\n",
      "  warnings.warn(\n",
      "c:\\Users\\matea\\AppData\\Local\\Programs\\Python\\Python39\\lib\\site-packages\\statsmodels\\base\\model.py:607: ConvergenceWarning: Maximum Likelihood optimization failed to converge. Check mle_retvals\n",
      "  warnings.warn(\"Maximum Likelihood optimization failed to \"\n",
      "c:\\Users\\matea\\AppData\\Local\\Programs\\Python\\Python39\\lib\\site-packages\\statsmodels\\regression\\mixed_linear_model.py:2200: ConvergenceWarning: Retrying MixedLM optimization with cg\n",
      "  warnings.warn(\n",
      "c:\\Users\\matea\\AppData\\Local\\Programs\\Python\\Python39\\lib\\site-packages\\statsmodels\\base\\model.py:607: ConvergenceWarning: Maximum Likelihood optimization failed to converge. Check mle_retvals\n",
      "  warnings.warn(\"Maximum Likelihood optimization failed to \"\n",
      "c:\\Users\\matea\\AppData\\Local\\Programs\\Python\\Python39\\lib\\site-packages\\statsmodels\\regression\\mixed_linear_model.py:2206: ConvergenceWarning: MixedLM optimization failed, trying a different optimizer may help.\n",
      "  warnings.warn(msg, ConvergenceWarning)\n",
      "c:\\Users\\matea\\AppData\\Local\\Programs\\Python\\Python39\\lib\\site-packages\\statsmodels\\regression\\mixed_linear_model.py:2218: ConvergenceWarning: Gradient optimization failed, |grad| = 0.554405\n",
      "  warnings.warn(msg, ConvergenceWarning)\n"
     ]
    },
    {
     "data": {
      "text/html": [
       "<table class=\"simpletable\">\n",
       "<tr>\n",
       "       <td>Model:</td>       <td>MixedLM</td> <td>Dependent Variable:</td>      <td>Volumen</td>    \n",
       "</tr>\n",
       "<tr>\n",
       "  <td>No. Observations:</td>   <td>156</td>         <td>Method:</td>             <td>REML</td>      \n",
       "</tr>\n",
       "<tr>\n",
       "     <td>No. Groups:</td>       <td>4</td>          <td>Scale:</td>        <td>81127558501.7978</td>\n",
       "</tr>\n",
       "<tr>\n",
       "  <td>Min. group size:</td>    <td>38</td>      <td>Log-Likelihood:</td>      <td>-2157.9727</td>   \n",
       "</tr>\n",
       "<tr>\n",
       "  <td>Max. group size:</td>    <td>41</td>        <td>Converged:</td>             <td>No</td>       \n",
       "</tr>\n",
       "<tr>\n",
       "  <td>Mean group size:</td>   <td>39.0</td>            <td></td>                   <td></td>        \n",
       "</tr>\n",
       "</table>\n",
       "<table class=\"simpletable\">\n",
       "<tr>\n",
       "          <td></td>              <th>Coef.</th>     <th>Std.Err.</th>     <th>z</th>   <th>P>|z|</th>   <th>[0.025</th>      <th>0.975]</th>  \n",
       "</tr>\n",
       "<tr>\n",
       "  <th>Intercept</th>          <td>197605.764</td>   <td>38435.633</td>  <td>5.141</td> <td>0.000</td> <td>122273.308</td>  <td>272938.220</td>\n",
       "</tr>\n",
       "<tr>\n",
       "  <th>Tipo[T.Whiskers]</th>   <td>-20690.167</td>   <td>45616.658</td> <td>-0.454</td> <td>0.650</td> <td>-110097.174</td>  <td>68716.840</td>\n",
       "</tr>\n",
       "<tr>\n",
       "  <th>Group Var</th>        <td>1747369904.723</td> <td>11853.710</td>    <td></td>      <td></td>         <td></td>            <td></td>     \n",
       "</tr>\n",
       "</table><br/>\n"
      ],
      "text/latex": [
       "\\begin{table}\n",
       "\\caption{Mixed Linear Model Regression Results}\n",
       "\\label{}\n",
       "\\begin{center}\n",
       "\\begin{tabular}{llll}\n",
       "\\hline\n",
       "Model:            & MixedLM & Dependent Variable: & Volumen           \\\\\n",
       "No. Observations: & 156     & Method:             & REML              \\\\\n",
       "No. Groups:       & 4       & Scale:              & 81127558501.7978  \\\\\n",
       "Min. group size:  & 38      & Log-Likelihood:     & -2157.9727        \\\\\n",
       "Max. group size:  & 41      & Converged:          & No                \\\\\n",
       "Mean group size:  & 39.0    &                     &                   \\\\\n",
       "\\hline\n",
       "\\end{tabular}\n",
       "\\end{center}\n",
       "\n",
       "\\begin{center}\n",
       "\\begin{tabular}{lrrrrrr}\n",
       "\\hline\n",
       "                 &          Coef. &  Std.Err. &      z & P$> |$z$|$ &      [0.025 &     0.975]  \\\\\n",
       "\\hline\n",
       "Intercept        &     197605.764 & 38435.633 &  5.141 &       0.000 &  122273.308 & 272938.220  \\\\\n",
       "Tipo[T.Whiskers] &     -20690.167 & 45616.658 & -0.454 &       0.650 & -110097.174 &  68716.840  \\\\\n",
       "Group Var        & 1747369904.723 & 11853.710 &        &             &             &             \\\\\n",
       "\\hline\n",
       "\\end{tabular}\n",
       "\\end{center}\n",
       "\\end{table}\n",
       "\\bigskip\n"
      ],
      "text/plain": [
       "<class 'statsmodels.iolib.summary2.Summary'>\n",
       "\"\"\"\n",
       "                    Mixed Linear Model Regression Results\n",
       "=============================================================================\n",
       "Model:                 MixedLM      Dependent Variable:      Volumen         \n",
       "No. Observations:      156          Method:                  REML            \n",
       "No. Groups:            4            Scale:                   81127558501.7978\n",
       "Min. group size:       38           Log-Likelihood:          -2157.9727      \n",
       "Max. group size:       41           Converged:               No              \n",
       "Mean group size:       39.0                                                  \n",
       "-----------------------------------------------------------------------------\n",
       "                     Coef.       Std.Err.   z    P>|z|    [0.025     0.975]  \n",
       "-----------------------------------------------------------------------------\n",
       "Intercept            197605.764 38435.633  5.141 0.000  122273.308 272938.220\n",
       "Tipo[T.Whiskers]     -20690.167 45616.658 -0.454 0.650 -110097.174  68716.840\n",
       "Group Var        1747369904.723 11853.710                                    \n",
       "=============================================================================\n",
       "\n",
       "\"\"\""
      ]
     },
     "metadata": {},
     "output_type": "display_data"
    }
   ],
   "source": [
    "for metric in metrics:\n",
    "    print(f\"Modelo lineal mixto para {metric}:\")\n",
    "\n",
    "    cleaned_data = data.dropna(subset=[metric, \"Tipo\"])\n",
    "\n",
    "    # Re-attempt fitting the linear mixed effects model\n",
    "    model = smf.mixedlm(f\"{metric} ~ Tipo\", cleaned_data, groups=cleaned_data[\"Individuo\"])\n",
    "    result = model.fit()\n",
    "\n",
    "    # Summarize the results of the mixed effects model\n",
    "    display(result.summary())"
   ]
  },
  {
   "cell_type": "markdown",
   "metadata": {},
   "source": [
    "Prueba no paramétrica de Wilcoxon"
   ]
  },
  {
   "cell_type": "code",
   "execution_count": 54,
   "metadata": {},
   "outputs": [
    {
     "name": "stdout",
     "output_type": "stream",
     "text": [
      "Wilcoxon para Curvatura_Media:\n",
      "WilcoxonResult(statistic=3.0, pvalue=0.625)\n",
      "Wilcoxon para Desviación_Estándar_de_la_Curvatura:\n",
      "WilcoxonResult(statistic=2.0, pvalue=0.375)\n",
      "Wilcoxon para Integral_de_la_Curvatura:\n",
      "WilcoxonResult(statistic=0.0, pvalue=0.125)\n",
      "Wilcoxon para Longitud_Total:\n",
      "WilcoxonResult(statistic=1.0, pvalue=0.25)\n",
      "Wilcoxon para Longitud_en_X:\n",
      "WilcoxonResult(statistic=5.0, pvalue=1.0)\n",
      "Wilcoxon para Longitud_en_Y:\n",
      "WilcoxonResult(statistic=5.0, pvalue=1.0)\n",
      "Wilcoxon para Longitud_en_Z:\n",
      "WilcoxonResult(statistic=4.0, pvalue=0.875)\n",
      "Wilcoxon para Volumen:\n",
      "WilcoxonResult(statistic=1.0, pvalue=0.25)\n"
     ]
    }
   ],
   "source": [
    "for metric in metrics:\n",
    "    print(f\"Wilcoxon para {metric}:\")\n",
    "\n",
    "    paired_data = cleaned_data.pivot_table(index=\"Individuo\", columns=\"Tipo\", values=metric)\n",
    "\n",
    "    wilcoxon_test_result = wilcoxon(paired_data[\"Whiskers\"], paired_data[\"No whiskers\"])\n",
    "\n",
    "    print(wilcoxon_test_result)"
   ]
  },
  {
   "cell_type": "markdown",
   "metadata": {},
   "source": []
  }
 ],
 "metadata": {
  "kernelspec": {
   "display_name": "Python 3",
   "language": "python",
   "name": "python3"
  },
  "language_info": {
   "codemirror_mode": {
    "name": "ipython",
    "version": 3
   },
   "file_extension": ".py",
   "mimetype": "text/x-python",
   "name": "python",
   "nbconvert_exporter": "python",
   "pygments_lexer": "ipython3",
   "version": "3.9.7"
  }
 },
 "nbformat": 4,
 "nbformat_minor": 2
}
