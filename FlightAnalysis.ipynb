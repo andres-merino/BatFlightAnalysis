{
 "cells": [
  {
   "cell_type": "markdown",
   "metadata": {},
   "source": [
    "# BatFlightAnalysis"
   ]
  },
  {
   "cell_type": "markdown",
   "metadata": {},
   "source": [
    "## Paquetes"
   ]
  },
  {
   "cell_type": "code",
   "execution_count": 6,
   "metadata": {},
   "outputs": [],
   "source": [
    "import pandas as pd\n",
    "import numpy as np\n",
    "import os\n",
    "\n",
    "from BatFlightAnalysis import read_data, split_data"
   ]
  },
  {
   "cell_type": "markdown",
   "metadata": {},
   "source": [
    "## Funciones"
   ]
  },
  {
   "cell_type": "code",
   "execution_count": 7,
   "metadata": {},
   "outputs": [],
   "source": [
    "def curvatura(df):\n",
    "    # Convertir a arrays de numpy\n",
    "    x = np.array(df['x'])\n",
    "    y = np.array(df['y'])\n",
    "    z = np.array(df['z'])\n",
    "\n",
    "    # Calcular las derivadas usando diferencias finitas\n",
    "    dx = np.gradient(x)\n",
    "    dy = np.gradient(y)\n",
    "    dz = np.gradient(z)\n",
    "\n",
    "    ddx = np.gradient(dx)\n",
    "    ddy = np.gradient(dy)\n",
    "    ddz = np.gradient(dz)\n",
    "\n",
    "    # Calcular la curvatura\n",
    "    curvatura = np.zeros(len(x))\n",
    "\n",
    "    for i in range(len(x)):\n",
    "        # Vectores de la primera y segunda derivada\n",
    "        r_prime = np.array([dx[i], dy[i], dz[i]])\n",
    "        r_double_prime = np.array([ddx[i], ddy[i], ddz[i]])\n",
    "        \n",
    "        # Producto cruzado de r' y r''\n",
    "        cross_product = np.cross(r_prime, r_double_prime)\n",
    "        \n",
    "        # Magnitud de r'\n",
    "        norm_r_prime = np.linalg.norm(r_prime)\n",
    "        \n",
    "        # Curvatura\n",
    "        curvatura[i] = np.linalg.norm(cross_product) / (norm_r_prime**3)\n",
    "\n",
    "    # Desviación Estándar de la curvatura\n",
    "    std_curvatura = np.std(curvatura)\n",
    "\n",
    "    # Media de la curvatura\n",
    "    mean_curvatura = np.mean(curvatura)\n",
    "\n",
    "    return mean_curvatura, std_curvatura"
   ]
  },
  {
   "cell_type": "code",
   "execution_count": 8,
   "metadata": {},
   "outputs": [],
   "source": [
    "def longitud(df):\n",
    "    # Convertir a arrays de numpy\n",
    "    x = np.array(df['x'])\n",
    "    y = np.array(df['y'])\n",
    "    z = np.array(df['z'])\n",
    "\n",
    "    # Longitud de la trayectoria\n",
    "    longitud = np.zeros(len(x))\n",
    "\n",
    "    for i in range(1, len(x)):\n",
    "        longitud[i] = longitud[i-1] + np.sqrt((x[i] - x[i-1])**2 + (y[i] - y[i-1])**2 + (z[i] - z[i-1])**2)\n",
    "\n",
    "    # Longitud total\n",
    "    longitud_total = longitud[-1]\n",
    "\n",
    "    return longitud_total"
   ]
  },
  {
   "cell_type": "code",
   "execution_count": 9,
   "metadata": {},
   "outputs": [],
   "source": [
    "def var_espacial(df):\n",
    "    # Convertir a arrays de numpy\n",
    "    x = np.array(df['x'])\n",
    "    y = np.array(df['y'])\n",
    "    z = np.array(df['z'])\n",
    "\n",
    "    longitud_x = np.max(x) - np.min(x)\n",
    "    longitud_y = np.max(y) - np.min(y)\n",
    "    longitud_z = np.max(z) - np.min(z)\n",
    "\n",
    "    volumen = longitud_x * longitud_y * longitud_z\n",
    "\n",
    "    return longitud_x, longitud_y, longitud_z, volumen\n"
   ]
  },
  {
   "cell_type": "markdown",
   "metadata": {},
   "source": [
    "## Código"
   ]
  },
  {
   "cell_type": "markdown",
   "metadata": {},
   "source": [
    "### Lectura de datos"
   ]
  },
  {
   "cell_type": "code",
   "execution_count": 10,
   "metadata": {},
   "outputs": [],
   "source": [
    "data_bef, data_fee, data_aft = read_data('data/output_points_1_no_whiskers.xlsx')"
   ]
  },
  {
   "cell_type": "code",
   "execution_count": 11,
   "metadata": {},
   "outputs": [
    {
     "name": "stdout",
     "output_type": "stream",
     "text": [
      "      x    y      z\n",
      "9   281   94  349.0\n",
      "10  283   98  345.0\n",
      "11  283  100  341.0\n",
      "12  283  103  338.0\n",
      "13  288  103  336.0\n"
     ]
    }
   ],
   "source": [
    "# Split data into flower and bat data; before, during, and after feeding\n",
    "flower_bef, flower_fee, flower_aft, bat_bef, bat_fee, bat_aft = split_data(data_bef, data_fee, data_aft)\n",
    "\n",
    "# Show the data\n",
    "print(flower_fee.head())"
   ]
  },
  {
   "cell_type": "markdown",
   "metadata": {},
   "source": [
    "### Curvatura"
   ]
  },
  {
   "cell_type": "code",
   "execution_count": 12,
   "metadata": {},
   "outputs": [
    {
     "name": "stdout",
     "output_type": "stream",
     "text": [
      "Desviación Estándar de la Curvatura: 1.8368621915524173\n",
      "Media de la Curvatura: 0.5475373323457154\n"
     ]
    }
   ],
   "source": [
    "mean_curvatura, std_curvatura = curvatura(flower_fee)\n",
    "print('Desviación Estándar de la Curvatura:', std_curvatura)\n",
    "print('Media de la Curvatura:', mean_curvatura)"
   ]
  },
  {
   "cell_type": "markdown",
   "metadata": {},
   "source": [
    "### Longitud"
   ]
  },
  {
   "cell_type": "code",
   "execution_count": 13,
   "metadata": {},
   "outputs": [
    {
     "name": "stdout",
     "output_type": "stream",
     "text": [
      "Longitud Total: 375.82886152263075\n"
     ]
    }
   ],
   "source": [
    "# Longitud total\n",
    "longitud_total = longitud(flower_fee)\n",
    "print('Longitud Total:', longitud_total)"
   ]
  },
  {
   "cell_type": "markdown",
   "metadata": {},
   "source": [
    "### Variación en cada eje"
   ]
  },
  {
   "cell_type": "code",
   "execution_count": 14,
   "metadata": {},
   "outputs": [
    {
     "name": "stdout",
     "output_type": "stream",
     "text": [
      "Longitud de la trayectoria en el eje x: 14\n",
      "Longitud de la trayectoria en el eje y: 15\n",
      "Longitud de la trayectoria en el eje z: 17.0\n",
      "Volumen del Espacio: 3570.0\n"
     ]
    }
   ],
   "source": [
    "# Variación en cada eje\n",
    "longitud_x, longitud_y, longitud_z, volumen = var_espacial(flower_fee)\n",
    "\n",
    "print('Longitud de la trayectoria en el eje x:', longitud_x)\n",
    "print('Longitud de la trayectoria en el eje y:', longitud_y)\n",
    "print('Longitud de la trayectoria en el eje z:', longitud_z)\n",
    "print('Volumen del Espacio:', volumen)"
   ]
  },
  {
   "cell_type": "markdown",
   "metadata": {},
   "source": [
    "## Iteración sobre archivos"
   ]
  },
  {
   "cell_type": "code",
   "execution_count": 20,
   "metadata": {},
   "outputs": [
    {
     "name": "stdout",
     "output_type": "stream",
     "text": [
      "Error en el archivo: Individuo 6/No whiskers/output_points_7.xlsx\n"
     ]
    },
    {
     "name": "stderr",
     "output_type": "stream",
     "text": [
      "C:\\Users\\matea\\AppData\\Local\\Temp/ipykernel_18656/4145792484.py:31: RuntimeWarning: invalid value encountered in double_scalars\n",
      "  curvatura[i] = np.linalg.norm(cross_product) / (norm_r_prime**3)\n"
     ]
    },
    {
     "data": {
      "text/html": [
       "<div>\n",
       "<style scoped>\n",
       "    .dataframe tbody tr th:only-of-type {\n",
       "        vertical-align: middle;\n",
       "    }\n",
       "\n",
       "    .dataframe tbody tr th {\n",
       "        vertical-align: top;\n",
       "    }\n",
       "\n",
       "    .dataframe thead th {\n",
       "        text-align: right;\n",
       "    }\n",
       "</style>\n",
       "<table border=\"1\" class=\"dataframe\">\n",
       "  <thead>\n",
       "    <tr style=\"text-align: right;\">\n",
       "      <th></th>\n",
       "      <th>Individuo</th>\n",
       "      <th>Tipo</th>\n",
       "      <th>No. Vuelo</th>\n",
       "      <th>Curvatura Media</th>\n",
       "      <th>Desviación Estándar de la Curvatura</th>\n",
       "      <th>Longitud Total</th>\n",
       "      <th>Longitud en X</th>\n",
       "      <th>Longitud en Y</th>\n",
       "      <th>Longitud en Z</th>\n",
       "      <th>Volumen</th>\n",
       "    </tr>\n",
       "  </thead>\n",
       "  <tbody>\n",
       "    <tr>\n",
       "      <th>0</th>\n",
       "      <td>6</td>\n",
       "      <td>No whiskers</td>\n",
       "      <td>1</td>\n",
       "      <td>0.319137</td>\n",
       "      <td>0.309382</td>\n",
       "      <td>75.694841</td>\n",
       "      <td>18.0</td>\n",
       "      <td>14.0</td>\n",
       "      <td>19.0</td>\n",
       "      <td>4788.0</td>\n",
       "    </tr>\n",
       "    <tr>\n",
       "      <th>1</th>\n",
       "      <td>6</td>\n",
       "      <td>No whiskers</td>\n",
       "      <td>10</td>\n",
       "      <td>0.061655</td>\n",
       "      <td>0.072966</td>\n",
       "      <td>260.010676</td>\n",
       "      <td>54.0</td>\n",
       "      <td>40.0</td>\n",
       "      <td>125.0</td>\n",
       "      <td>270000.0</td>\n",
       "    </tr>\n",
       "    <tr>\n",
       "      <th>2</th>\n",
       "      <td>6</td>\n",
       "      <td>No whiskers</td>\n",
       "      <td>11</td>\n",
       "      <td>1.097282</td>\n",
       "      <td>3.454947</td>\n",
       "      <td>80.997540</td>\n",
       "      <td>7.0</td>\n",
       "      <td>21.0</td>\n",
       "      <td>18.0</td>\n",
       "      <td>2646.0</td>\n",
       "    </tr>\n",
       "    <tr>\n",
       "      <th>3</th>\n",
       "      <td>6</td>\n",
       "      <td>No whiskers</td>\n",
       "      <td>12</td>\n",
       "      <td>0.128108</td>\n",
       "      <td>0.231968</td>\n",
       "      <td>131.251894</td>\n",
       "      <td>21.0</td>\n",
       "      <td>40.0</td>\n",
       "      <td>93.0</td>\n",
       "      <td>78120.0</td>\n",
       "    </tr>\n",
       "    <tr>\n",
       "      <th>4</th>\n",
       "      <td>6</td>\n",
       "      <td>No whiskers</td>\n",
       "      <td>13</td>\n",
       "      <td>0.255117</td>\n",
       "      <td>0.302641</td>\n",
       "      <td>58.087628</td>\n",
       "      <td>10.0</td>\n",
       "      <td>11.0</td>\n",
       "      <td>16.0</td>\n",
       "      <td>1760.0</td>\n",
       "    </tr>\n",
       "  </tbody>\n",
       "</table>\n",
       "</div>"
      ],
      "text/plain": [
       "   Individuo         Tipo No. Vuelo  Curvatura Media  \\\n",
       "0          6  No whiskers         1         0.319137   \n",
       "1          6  No whiskers        10         0.061655   \n",
       "2          6  No whiskers        11         1.097282   \n",
       "3          6  No whiskers        12         0.128108   \n",
       "4          6  No whiskers        13         0.255117   \n",
       "\n",
       "   Desviación Estándar de la Curvatura  Longitud Total  Longitud en X  \\\n",
       "0                             0.309382       75.694841           18.0   \n",
       "1                             0.072966      260.010676           54.0   \n",
       "2                             3.454947       80.997540            7.0   \n",
       "3                             0.231968      131.251894           21.0   \n",
       "4                             0.302641       58.087628           10.0   \n",
       "\n",
       "   Longitud en Y  Longitud en Z   Volumen  \n",
       "0           14.0           19.0    4788.0  \n",
       "1           40.0          125.0  270000.0  \n",
       "2           21.0           18.0    2646.0  \n",
       "3           40.0           93.0   78120.0  \n",
       "4           11.0           16.0    1760.0  "
      ]
     },
     "metadata": {},
     "output_type": "display_data"
    }
   ],
   "source": [
    "individuo, whiskers, n_vuelo = [], [], []\n",
    "mean_curvatura, std_curvatura = [], []\n",
    "longitud_total = []\n",
    "longitud_x, longitud_y, longitud_z, volumen = [], [], [], []\n",
    "\n",
    "for n in range(6,10):\n",
    "    for tipo in [\"whiskers\", \"No whiskers\"]:\n",
    "        # Recorro lo archivos de la capeta Individuo n\n",
    "        for file in os.listdir(f'data/Individuo {n}/{tipo}'):\n",
    "            # print(\"Procesando:\", f\"Individuo {n}/{tipo}/{file}\")\n",
    "\n",
    "            try:\n",
    "                data_bef, data_fee, data_aft = read_data(f'data/Individuo {n}/{tipo}/{file}')\n",
    "\n",
    "                # Split data into flower and bat data; before, during, and after feeding\n",
    "                flower_bef, flower_fee, flower_aft, bat_bef, bat_fee, bat_aft = split_data(data_bef, data_fee, data_aft)\n",
    "\n",
    "                # Curvatura\n",
    "                mean_curv, std_curv = curvatura(flower_fee)\n",
    "                mean_curvatura.append(mean_curv)\n",
    "                std_curvatura.append(std_curv)\n",
    "\n",
    "                # Longitud total\n",
    "                long = longitud(flower_fee)\n",
    "                longitud_total.append(long)\n",
    "\n",
    "                # Variación en cada eje\n",
    "                long_x, long_y, long_z, vol = var_espacial(flower_fee)\n",
    "                longitud_x.append(long_x)\n",
    "                longitud_y.append(long_y)\n",
    "                longitud_z.append(long_z)\n",
    "                volumen.append(vol)\n",
    "\n",
    "                individuo.append(n)\n",
    "                whiskers.append(tipo)\n",
    "                n_vuelo.append(file.split('_')[-1].split('.')[0])\n",
    "            except:\n",
    "                print(\"Error en el archivo:\", f\"Individuo {n}/{tipo}/{file}\")\n",
    "\n",
    "# Creo el conjunto de datos\n",
    "df = pd.DataFrame({\n",
    "    'Individuo': individuo,\n",
    "    'Tipo': tipo,\n",
    "    'No. Vuelo': n_vuelo,\n",
    "    'Curvatura Media': mean_curvatura,\n",
    "    'Desviación Estándar de la Curvatura': std_curvatura,\n",
    "    'Longitud Total': longitud_total,\n",
    "    'Longitud en X': longitud_x,\n",
    "    'Longitud en Y': longitud_y,\n",
    "    'Longitud en Z': longitud_z,\n",
    "    'Volumen': volumen\n",
    "})\n",
    "\n",
    "# Muestro los datos\n",
    "display(df.head())"
   ]
  },
  {
   "cell_type": "code",
   "execution_count": 21,
   "metadata": {},
   "outputs": [],
   "source": [
    "# Guardo los datos\n",
    "df.to_excel('data/mediciones.xlsx', index=False)"
   ]
  }
 ],
 "metadata": {
  "kernelspec": {
   "display_name": "Python 3",
   "language": "python",
   "name": "python3"
  },
  "language_info": {
   "codemirror_mode": {
    "name": "ipython",
    "version": 3
   },
   "file_extension": ".py",
   "mimetype": "text/x-python",
   "name": "python",
   "nbconvert_exporter": "python",
   "pygments_lexer": "ipython3",
   "version": "3.9.7"
  }
 },
 "nbformat": 4,
 "nbformat_minor": 2
}
